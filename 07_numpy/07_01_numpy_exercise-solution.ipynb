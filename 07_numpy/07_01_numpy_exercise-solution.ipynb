{
 "cells": [
  {
   "cell_type": "markdown",
   "metadata": {},
   "source": [
    "# Numpy Exercise - Solution\n",
    "\n",
    "In this notebook, you will complete the `# Todo` sections in the following code cells with proper numpy operations. All of the answers are available in this [Numpy reference website](https://docs.scipy.org/doc/numpy/reference/index.html). Search for the operations there, and, as you do so, you will inevitably read the documentation. You will master numpy in no time!"
   ]
  },
  {
   "cell_type": "code",
   "execution_count": 1,
   "metadata": {},
   "outputs": [],
   "source": [
    "from tester import *\n",
    "import numpy as np"
   ]
  },
  {
   "cell_type": "markdown",
   "metadata": {},
   "source": [
    "**1. Build a numpy array of 10 rows x 4 columns. This array should contain random values from a standard normal distribution with mean of 0**\n",
    "\n",
    "`np.random.rand()` picks random numbers from a uniform distribution, so we cannot use that. What function should we use instead? "
   ]
  },
  {
   "cell_type": "code",
   "execution_count": 2,
   "metadata": {},
   "outputs": [],
   "source": [
    "# Todo\n",
    "np.random.seed(1)\n",
    "answer_1 = np.random.rand(10, 4)"
   ]
  },
  {
   "cell_type": "code",
   "execution_count": 3,
   "metadata": {},
   "outputs": [
    {
     "data": {
      "text/plain": [
       "array([[4.17022005e-01, 7.20324493e-01, 1.14374817e-04, 3.02332573e-01],\n",
       "       [1.46755891e-01, 9.23385948e-02, 1.86260211e-01, 3.45560727e-01],\n",
       "       [3.96767474e-01, 5.38816734e-01, 4.19194514e-01, 6.85219500e-01],\n",
       "       [2.04452250e-01, 8.78117436e-01, 2.73875932e-02, 6.70467510e-01],\n",
       "       [4.17304802e-01, 5.58689828e-01, 1.40386939e-01, 1.98101489e-01],\n",
       "       [8.00744569e-01, 9.68261576e-01, 3.13424178e-01, 6.92322616e-01],\n",
       "       [8.76389152e-01, 8.94606664e-01, 8.50442114e-02, 3.90547832e-02],\n",
       "       [1.69830420e-01, 8.78142503e-01, 9.83468338e-02, 4.21107625e-01],\n",
       "       [9.57889530e-01, 5.33165285e-01, 6.91877114e-01, 3.15515631e-01],\n",
       "       [6.86500928e-01, 8.34625672e-01, 1.82882773e-02, 7.50144315e-01]])"
      ]
     },
     "execution_count": 3,
     "metadata": {},
     "output_type": "execute_result"
    }
   ],
   "source": [
    "# View the data here\n",
    "answer_1"
   ]
  },
  {
   "cell_type": "code",
   "execution_count": 4,
   "metadata": {},
   "outputs": [
    {
     "name": "stdout",
     "output_type": "stream",
     "text": [
      "Shape is correct!\n",
      "Values are correct!\n"
     ]
    }
   ],
   "source": [
    "# Check if your answer is correct here\n",
    "assert_answer_1(answer_1)"
   ]
  },
  {
   "cell_type": "markdown",
   "metadata": {},
   "source": [
    "**2. Sum the columns. We should get an array with the shape of 1 x 4**"
   ]
  },
  {
   "cell_type": "code",
   "execution_count": 5,
   "metadata": {},
   "outputs": [],
   "source": [
    "# Todo\n",
    "answer_2 = np.sum(answer_1, axis=0)"
   ]
  },
  {
   "cell_type": "code",
   "execution_count": 6,
   "metadata": {},
   "outputs": [
    {
     "data": {
      "text/plain": [
       "array([5.07365702, 6.89708879, 1.98032425, 4.41982677])"
      ]
     },
     "execution_count": 6,
     "metadata": {},
     "output_type": "execute_result"
    }
   ],
   "source": [
    "# View\n",
    "answer_2"
   ]
  },
  {
   "cell_type": "code",
   "execution_count": 7,
   "metadata": {},
   "outputs": [
    {
     "name": "stdout",
     "output_type": "stream",
     "text": [
      "Passed!\n"
     ]
    }
   ],
   "source": [
    "# Check\n",
    "assert_answer_2(answer_2)"
   ]
  },
  {
   "cell_type": "markdown",
   "metadata": {},
   "source": [
    "**3. Get the maximum value in each column of your first answer.**"
   ]
  },
  {
   "cell_type": "code",
   "execution_count": 8,
   "metadata": {},
   "outputs": [],
   "source": [
    "# Todo\n",
    "answer_3 = np.amax(answer_1, axis=0)"
   ]
  },
  {
   "cell_type": "code",
   "execution_count": 9,
   "metadata": {},
   "outputs": [
    {
     "data": {
      "text/plain": [
       "array([0.95788953, 0.96826158, 0.69187711, 0.75014431])"
      ]
     },
     "execution_count": 9,
     "metadata": {},
     "output_type": "execute_result"
    }
   ],
   "source": [
    "# View\n",
    "answer_3"
   ]
  },
  {
   "cell_type": "code",
   "execution_count": 10,
   "metadata": {},
   "outputs": [
    {
     "name": "stdout",
     "output_type": "stream",
     "text": [
      "Passed!\n"
     ]
    }
   ],
   "source": [
    "# Check\n",
    "assert_answer_3(answer_3)"
   ]
  },
  {
   "cell_type": "markdown",
   "metadata": {},
   "source": [
    "**4. Let's try combining two operations. Get the first answer again, and then, for each column, calculate the percent difference between the maximum value and the last row's value, then round the results to two decimal values.**\n",
    "\n",
    "This is more complex than the previous tasks. First, you'll need to find the maximum value in each column. Then, find out the percent difference between the last element and that value."
   ]
  },
  {
   "cell_type": "code",
   "execution_count": 11,
   "metadata": {},
   "outputs": [],
   "source": [
    "# Todo\n",
    "high = np.amax(answer_1, axis=0)\n",
    "answer_4 = np.around((answer_1[-1] - high) / high * 100, decimals=2)"
   ]
  },
  {
   "cell_type": "code",
   "execution_count": 12,
   "metadata": {},
   "outputs": [
    {
     "data": {
      "text/plain": [
       "array([-28.33, -13.8 , -97.36,   0.  ])"
      ]
     },
     "execution_count": 12,
     "metadata": {},
     "output_type": "execute_result"
    }
   ],
   "source": [
    "# View\n",
    "answer_4"
   ]
  },
  {
   "cell_type": "code",
   "execution_count": 13,
   "metadata": {},
   "outputs": [
    {
     "name": "stdout",
     "output_type": "stream",
     "text": [
      "Passed!\n"
     ]
    }
   ],
   "source": [
    "# Check\n",
    "assert_answer_4(answer_4)"
   ]
  },
  {
   "cell_type": "markdown",
   "metadata": {},
   "source": [
    "**5. Find the dot product of these two numpy arrays below (since this is a dot product, the answer should be a 3 rows x 1 col matrix)**"
   ]
  },
  {
   "cell_type": "code",
   "execution_count": 14,
   "metadata": {},
   "outputs": [],
   "source": [
    "# Todo\n",
    "np.random.seed(1)\n",
    "\n",
    "a = np.random.rand(3,3)\n",
    "b = np.random.rand(3,1)\n",
    "answer_5 = np.dot(a, b)"
   ]
  },
  {
   "cell_type": "code",
   "execution_count": 15,
   "metadata": {},
   "outputs": [
    {
     "data": {
      "text/plain": [
       "array([[0.52673288],\n",
       "       [0.28769332],\n",
       "       [0.51709009]])"
      ]
     },
     "execution_count": 15,
     "metadata": {},
     "output_type": "execute_result"
    }
   ],
   "source": [
    "# View\n",
    "answer_5"
   ]
  },
  {
   "cell_type": "code",
   "execution_count": 16,
   "metadata": {},
   "outputs": [
    {
     "name": "stdout",
     "output_type": "stream",
     "text": [
      "Passed!\n"
     ]
    }
   ],
   "source": [
    "# Check\n",
    "assert_answer_5(answer_5)"
   ]
  }
 ],
 "metadata": {
  "kernelspec": {
   "display_name": "Python 3",
   "language": "python",
   "name": "python3"
  },
  "language_info": {
   "codemirror_mode": {
    "name": "ipython",
    "version": 3
   },
   "file_extension": ".py",
   "mimetype": "text/x-python",
   "name": "python",
   "nbconvert_exporter": "python",
   "pygments_lexer": "ipython3",
   "version": "3.5.9"
  }
 },
 "nbformat": 4,
 "nbformat_minor": 4
}
