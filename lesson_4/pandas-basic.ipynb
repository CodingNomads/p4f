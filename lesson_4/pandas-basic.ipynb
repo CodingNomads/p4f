{
 "cells": [
  {
   "cell_type": "markdown",
   "metadata": {},
   "source": [
    "# Pandas (Basic)\n",
    "\n",
    "## 1. Initialization\n",
    "\n",
    "### 1.2. Initialize a pandas DataFrame"
   ]
  },
  {
   "cell_type": "code",
   "execution_count": 2,
   "metadata": {},
   "outputs": [],
   "source": [
    "import pandas as pd\n",
    "\n",
    "df = pd.DataFrame(data=[[1, 2], [3, 4], [5, 6]], columns=['a', 'b'])"
   ]
  },
  {
   "cell_type": "code",
   "execution_count": 3,
   "metadata": {},
   "outputs": [
    {
     "data": {
      "text/html": [
       "<div>\n",
       "<style scoped>\n",
       "    .dataframe tbody tr th:only-of-type {\n",
       "        vertical-align: middle;\n",
       "    }\n",
       "\n",
       "    .dataframe tbody tr th {\n",
       "        vertical-align: top;\n",
       "    }\n",
       "\n",
       "    .dataframe thead th {\n",
       "        text-align: right;\n",
       "    }\n",
       "</style>\n",
       "<table border=\"1\" class=\"dataframe\">\n",
       "  <thead>\n",
       "    <tr style=\"text-align: right;\">\n",
       "      <th></th>\n",
       "      <th>a</th>\n",
       "      <th>b</th>\n",
       "    </tr>\n",
       "  </thead>\n",
       "  <tbody>\n",
       "    <tr>\n",
       "      <th>0</th>\n",
       "      <td>1</td>\n",
       "      <td>2</td>\n",
       "    </tr>\n",
       "    <tr>\n",
       "      <th>1</th>\n",
       "      <td>3</td>\n",
       "      <td>4</td>\n",
       "    </tr>\n",
       "    <tr>\n",
       "      <th>2</th>\n",
       "      <td>5</td>\n",
       "      <td>6</td>\n",
       "    </tr>\n",
       "  </tbody>\n",
       "</table>\n",
       "</div>"
      ],
      "text/plain": [
       "   a  b\n",
       "0  1  2\n",
       "1  3  4\n",
       "2  5  6"
      ]
     },
     "execution_count": 3,
     "metadata": {},
     "output_type": "execute_result"
    }
   ],
   "source": [
    "df"
   ]
  },
  {
   "cell_type": "markdown",
   "metadata": {},
   "source": [
    "### 1.2. Load from a CSV"
   ]
  },
  {
   "cell_type": "code",
   "execution_count": 4,
   "metadata": {},
   "outputs": [],
   "source": [
    "df = pd.read_csv('TSLA.csv')"
   ]
  },
  {
   "cell_type": "code",
   "execution_count": 5,
   "metadata": {},
   "outputs": [
    {
     "data": {
      "text/html": [
       "<div>\n",
       "<style scoped>\n",
       "    .dataframe tbody tr th:only-of-type {\n",
       "        vertical-align: middle;\n",
       "    }\n",
       "\n",
       "    .dataframe tbody tr th {\n",
       "        vertical-align: top;\n",
       "    }\n",
       "\n",
       "    .dataframe thead th {\n",
       "        text-align: right;\n",
       "    }\n",
       "</style>\n",
       "<table border=\"1\" class=\"dataframe\">\n",
       "  <thead>\n",
       "    <tr style=\"text-align: right;\">\n",
       "      <th></th>\n",
       "      <th>date</th>\n",
       "      <th>open</th>\n",
       "      <th>high</th>\n",
       "      <th>low</th>\n",
       "      <th>close</th>\n",
       "      <th>volume</th>\n",
       "      <th>changed</th>\n",
       "      <th>changep</th>\n",
       "      <th>adjclose</th>\n",
       "      <th>tradeval</th>\n",
       "      <th>tradevol</th>\n",
       "    </tr>\n",
       "  </thead>\n",
       "  <tbody>\n",
       "    <tr>\n",
       "      <th>0</th>\n",
       "      <td>2017-06-22</td>\n",
       "      <td>377.990</td>\n",
       "      <td>385.00</td>\n",
       "      <td>373.57</td>\n",
       "      <td>382.61</td>\n",
       "      <td>7529778</td>\n",
       "      <td>6.21</td>\n",
       "      <td>1.65%</td>\n",
       "      <td>382.61</td>\n",
       "      <td>2.874833e+09</td>\n",
       "      <td>72385</td>\n",
       "    </tr>\n",
       "    <tr>\n",
       "      <th>1</th>\n",
       "      <td>2017-06-21</td>\n",
       "      <td>374.350</td>\n",
       "      <td>376.99</td>\n",
       "      <td>368.02</td>\n",
       "      <td>376.40</td>\n",
       "      <td>4923210</td>\n",
       "      <td>4.16</td>\n",
       "      <td>1.12%</td>\n",
       "      <td>376.40</td>\n",
       "      <td>1.834097e+09</td>\n",
       "      <td>45874</td>\n",
       "    </tr>\n",
       "    <tr>\n",
       "      <th>2</th>\n",
       "      <td>2017-06-20</td>\n",
       "      <td>376.670</td>\n",
       "      <td>378.88</td>\n",
       "      <td>369.73</td>\n",
       "      <td>372.24</td>\n",
       "      <td>7438701</td>\n",
       "      <td>2.44</td>\n",
       "      <td>0.66%</td>\n",
       "      <td>372.24</td>\n",
       "      <td>2.777359e+09</td>\n",
       "      <td>72647</td>\n",
       "    </tr>\n",
       "    <tr>\n",
       "      <th>3</th>\n",
       "      <td>2017-06-19</td>\n",
       "      <td>375.000</td>\n",
       "      <td>376.70</td>\n",
       "      <td>367.80</td>\n",
       "      <td>369.80</td>\n",
       "      <td>6549332</td>\n",
       "      <td>-1.60</td>\n",
       "      <td>-0.43%</td>\n",
       "      <td>369.80</td>\n",
       "      <td>2.436166e+09</td>\n",
       "      <td>62988</td>\n",
       "    </tr>\n",
       "    <tr>\n",
       "      <th>4</th>\n",
       "      <td>2017-06-16</td>\n",
       "      <td>377.975</td>\n",
       "      <td>378.01</td>\n",
       "      <td>370.10</td>\n",
       "      <td>371.40</td>\n",
       "      <td>6730973</td>\n",
       "      <td>-3.94</td>\n",
       "      <td>-1.05%</td>\n",
       "      <td>371.40</td>\n",
       "      <td>2.512614e+09</td>\n",
       "      <td>56234</td>\n",
       "    </tr>\n",
       "  </tbody>\n",
       "</table>\n",
       "</div>"
      ],
      "text/plain": [
       "         date     open    high     low   close   volume  changed changep  \\\n",
       "0  2017-06-22  377.990  385.00  373.57  382.61  7529778     6.21   1.65%   \n",
       "1  2017-06-21  374.350  376.99  368.02  376.40  4923210     4.16   1.12%   \n",
       "2  2017-06-20  376.670  378.88  369.73  372.24  7438701     2.44   0.66%   \n",
       "3  2017-06-19  375.000  376.70  367.80  369.80  6549332    -1.60  -0.43%   \n",
       "4  2017-06-16  377.975  378.01  370.10  371.40  6730973    -3.94  -1.05%   \n",
       "\n",
       "   adjclose      tradeval  tradevol  \n",
       "0    382.61  2.874833e+09     72385  \n",
       "1    376.40  1.834097e+09     45874  \n",
       "2    372.24  2.777359e+09     72647  \n",
       "3    369.80  2.436166e+09     62988  \n",
       "4    371.40  2.512614e+09     56234  "
      ]
     },
     "execution_count": 5,
     "metadata": {},
     "output_type": "execute_result"
    }
   ],
   "source": [
    "df"
   ]
  },
  {
   "cell_type": "markdown",
   "metadata": {},
   "source": [
    "At this point, if you'd like, you can continue with part 2 of this lesson, \"Python Refresher: List, Dict, Loop, and Functions\", but if you are already comfortable enough with these Python concepts, you may move forward with this notebook."
   ]
  },
  {
   "cell_type": "markdown",
   "metadata": {},
   "source": [
    "## 2. Some useful functions\n",
    "### 2.1. Get certain columns\n",
    "You can \"slice\" a DataFrame to get data only for certain columns.\n",
    "### 2.2. Rename a column\n",
    "### 2.3. Merge DataFrames\n",
    "### 2.4. Sort by values and data type setting\n",
    "### 2.5. Set index"
   ]
  }
 ],
 "metadata": {
  "kernelspec": {
   "display_name": "Python 3",
   "language": "python",
   "name": "python3"
  },
  "language_info": {
   "codemirror_mode": {
    "name": "ipython",
    "version": 3
   },
   "file_extension": ".py",
   "mimetype": "text/x-python",
   "name": "python",
   "nbconvert_exporter": "python",
   "pygments_lexer": "ipython3",
   "version": "3.5.9"
  }
 },
 "nbformat": 4,
 "nbformat_minor": 4
}
