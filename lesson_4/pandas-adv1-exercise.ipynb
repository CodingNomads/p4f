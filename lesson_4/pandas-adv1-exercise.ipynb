{
 "cells": [
  {
   "cell_type": "markdown",
   "metadata": {},
   "source": [
    "# Exercise - Calculate Daily Cumulative Return Percentages\n",
    "\n",
    "First, we load the combined prices data. The structure of this dataset is similar to the one we created in the previous exercise."
   ]
  },
  {
   "cell_type": "code",
   "execution_count": null,
   "metadata": {},
   "outputs": [],
   "source": [
    "# Todo: Import pandas\n",
    "import ... as ...\n",
    "\n",
    "df = pd.read_csv(\"prices.csv\", index_col=0)"
   ]
  },
  {
   "cell_type": "code",
   "execution_count": null,
   "metadata": {},
   "outputs": [],
   "source": [
    "ax = df.plot(figsize=(15,8), title=\"Stock Prices\")\n",
    "_ = ax.set_ylabel(\"Price\")"
   ]
  },
  {
   "cell_type": "markdown",
   "metadata": {},
   "source": [
    "Complete the function below to calculate the daily return percentages:"
   ]
  },
  {
   "cell_type": "code",
   "execution_count": null,
   "metadata": {},
   "outputs": [],
   "source": [
    "def get_return_percentages(df):\n",
    "    print(df)\n",
    "    # Todo: Shift by one day\n",
    "    df_shifted = ...\n",
    "    # Todo: Replace the shifted data' first row\n",
    "    #       with the initial data' first row\n",
    "    df_shifted...\n",
    "\n",
    "    # Todo: Calculate return percentages\n",
    "    returns = ...\n",
    "    return returns\n",
    "\n",
    "prices_df = get_return_percentages(df)"
   ]
  },
  {
   "cell_type": "code",
   "execution_count": null,
   "metadata": {},
   "outputs": [],
   "source": [
    "prices_df"
   ]
  },
  {
   "cell_type": "markdown",
   "metadata": {},
   "source": [
    "When correct, you should see the following result:\n",
    "\n",
    "![pandas adv answer](./media/pandas-adv1-answer.png)"
   ]
  },
  {
   "cell_type": "code",
   "execution_count": null,
   "metadata": {},
   "outputs": [],
   "source": [
    "ax = prices_df.plot(figsize=(15,8), title=\"Daily Return Percentages\")\n",
    "_ = ax.set_ylabel(\"value\")"
   ]
  },
  {
   "cell_type": "code",
   "execution_count": null,
   "metadata": {},
   "outputs": [],
   "source": [
    "# Todo: This is an easy one-liner, what's the code to return cumulative sums in Pandas?\n",
    "final_df = ..."
   ]
  },
  {
   "cell_type": "code",
   "execution_count": null,
   "metadata": {},
   "outputs": [],
   "source": [
    "ax = final_df.plot(figsize=(15,8), title=\"Daily Cumulative Return Percentages\")\n",
    "_ = ax.set_ylabel(\"value\")"
   ]
  }
 ],
 "metadata": {
  "kernelspec": {
   "display_name": "Python 3",
   "language": "python",
   "name": "python3"
  },
  "language_info": {
   "codemirror_mode": {
    "name": "ipython",
    "version": 3
   },
   "file_extension": ".py",
   "mimetype": "text/x-python",
   "name": "python",
   "nbconvert_exporter": "python",
   "pygments_lexer": "ipython3",
   "version": "3.5.9"
  }
 },
 "nbformat": 4,
 "nbformat_minor": 4
}
