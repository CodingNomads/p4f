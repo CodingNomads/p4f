{
 "cells": [
  {
   "cell_type": "markdown",
   "metadata": {},
   "source": [
    "# Exercise - Calculate Daily Cumulative Return Percentages\n",
    "\n",
    "First, we load the combined prices data. The structure of this dataset is similar to the one we created in the previous exercise."
   ]
  },
  {
   "cell_type": "code",
   "execution_count": null,
   "metadata": {},
   "outputs": [],
   "source": [
    "# Todo: Import pandas as object `pd`\n",
    "import ... as ...\n",
    "\n",
    "prices_df = pd.read_csv(\"prices.csv\", index_col=0)"
   ]
  },
  {
   "cell_type": "code",
   "execution_count": null,
   "metadata": {},
   "outputs": [],
   "source": [
    "print(prices_df.head(5))\n",
    "print(prices_df.tail(5))"
   ]
  },
  {
   "cell_type": "code",
   "execution_count": null,
   "metadata": {},
   "outputs": [],
   "source": [
    "ax = prices_df.plot(figsize=(15,8), title=\"Stock Prices\")\n",
    "_ = ax.set_ylabel(\"Price\")"
   ]
  },
  {
   "cell_type": "markdown",
   "metadata": {},
   "source": [
    "Complete the function below to calculate the daily return percentages.\n",
    "\n",
    "As a reminder, here is the formula again:\n",
    "\n",
    "$$\\text{Daily Return Percentage} = \\frac{\\text{Today's price} - \\text{Yesterday's price}}{\\text{Yesterday's price}}$$"
   ]
  },
  {
   "cell_type": "code",
   "execution_count": null,
   "metadata": {},
   "outputs": [],
   "source": [
    "def get_return_percentages(df):\n",
    "    # Todo: Shift by one day\n",
    "    df_shifted = ...\n",
    "    # Todo: Replace the shifted data' first row\n",
    "    #       with the initial data' first row\n",
    "    df_shifted...\n",
    "\n",
    "    # Todo: Calculate return percentages\n",
    "    returns = ...\n",
    "    return returns\n",
    "\n",
    "returns_df = get_return_percentages(prices_df)"
   ]
  },
  {
   "cell_type": "code",
   "execution_count": null,
   "metadata": {},
   "outputs": [],
   "source": [
    "print(returns_df.head(5))\n",
    "print(returns_df.tail(5))"
   ]
  },
  {
   "cell_type": "markdown",
   "metadata": {},
   "source": [
    "When correct, you should see the following result:\n",
    "\n",
    "![pandas adv answer](./media/pandas-adv1-answer.png)"
   ]
  },
  {
   "cell_type": "code",
   "execution_count": null,
   "metadata": {},
   "outputs": [],
   "source": [
    "ax = returns_df.plot(figsize=(15,8), title=\"Daily Return Percentages\")\n",
    "_ = ax.set_ylabel(\"value\")"
   ]
  },
  {
   "cell_type": "code",
   "execution_count": null,
   "metadata": {},
   "outputs": [],
   "source": [
    "final_df = (returns_df+1).cumprod()-1"
   ]
  },
  {
   "cell_type": "code",
   "execution_count": null,
   "metadata": {},
   "outputs": [],
   "source": [
    "print(final_df.head(5))\n",
    "print(final_df.tail(5))"
   ]
  },
  {
   "cell_type": "code",
   "execution_count": null,
   "metadata": {},
   "outputs": [],
   "source": [
    "ax = final_df.plot(figsize=(15,8), title=\"Daily Cumulative Return Percentages\")\n",
    "_ = ax.set_ylabel(\"value\")"
   ]
  },
  {
   "cell_type": "markdown",
   "metadata": {},
   "source": [
    "### Testing our cumulative calculation\n",
    "\n",
    "Another way to test is to get the price and cumulated return on a certain date, then see if the price of that date equals to the first date's price times the cumulated return + 1. This testing process is demonstrated below."
   ]
  },
  {
   "cell_type": "code",
   "execution_count": null,
   "metadata": {},
   "outputs": [],
   "source": [
    "# Let's get TSLA's prices and returns.\n",
    "\n",
    "final_date = '2019-06-03'\n",
    "\n",
    "initial_price = prices_df.iloc[0]['TSLA']\n",
    "price_on_date = prices_df.loc[date]['TSLA']\n",
    "cum_ret = final_df.loc[date]['TSLA']\n",
    "print(\"initial price (p): ${}\".format(initial_price))\n",
    "print(\"price on date {} (P): ${}\".format(final_date, price_on_date))\n",
    "print(\"cumulative return on date {} (r): {}\".format(final_date, cum_ret))\n",
    "\n",
    "# Then determine if the calculation matches\n",
    "import math\n",
    "print(\"is P = p * (r+1)? {}\".format(math.isclose(price_on_date, initial_price * (cum_ret+1))))"
   ]
  }
 ],
 "metadata": {
  "kernelspec": {
   "display_name": "Python 3",
   "language": "python",
   "name": "python3"
  },
  "language_info": {
   "codemirror_mode": {
    "name": "ipython",
    "version": 3
   },
   "file_extension": ".py",
   "mimetype": "text/x-python",
   "name": "python",
   "nbconvert_exporter": "python",
   "pygments_lexer": "ipython3",
   "version": "3.7.1"
  }
 },
 "nbformat": 4,
 "nbformat_minor": 4
}
