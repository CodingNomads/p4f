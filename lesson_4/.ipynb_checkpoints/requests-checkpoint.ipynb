{
 "cells": [
  {
   "cell_type": "code",
   "execution_count": null,
   "metadata": {},
   "outputs": [],
   "source": [
    "# os module contains functions to work with local directories.\n",
    "import os\n",
    "\n",
    "import requests\n",
    "\n",
    "API_PATH = \"\"\"http://app.quotemedia.com/quotetools/getHistoryDownload.csv?&webmasterId=501&startDay={sd}&startMonth={sm}&startYear={sy}&endDay={ed}&endMonth={em}&endYear={ey}&isRanged=true&symbol={sym}\"\"\"\n",
    "\n",
    "start_date, start_month, start_year = 16, 6, 2017\n",
    "end_date, end_month, end_year = 22, 6, 2017\n",
    "\n",
    "# In QuoteMedia, months start from 0, so we adjust these variables.\n",
    "start_month = start_month - 1\n",
    "end_month = end_month - 1\n",
    "\n",
    "# Stock symbol\n",
    "symbol = 'TSLA'\n",
    "\n",
    "# Path of the downloaded csv file. This code means the name will be `SPY.csv`\n",
    "filepath = \"{}.csv\".format(symbol)\n",
    "\n",
    "# Replace the variables in the API_PATH with above variables.\n",
    "url = API_PATH.format(sd=start_date, sm=start_month, sy=start_year,\n",
    "                      ed=end_date, em=end_month, ey=end_year,\n",
    "                      sym=symbol)\n",
    "\n",
    "# If file does not already exists.\n",
    "if not os.path.isfile(filepath):\n",
    "    # Create a response object by getting a URL.\n",
    "    response = requests.get(url)\n",
    "\n",
    "    # Then simply create a file and write the content of the\n",
    "    # response into it.\n",
    "    with open(filepath, 'wb') as f:\n",
    "        f.write(response.content)"
   ]
  }
 ],
 "metadata": {
  "kernelspec": {
   "display_name": "Python 3",
   "language": "python",
   "name": "python3"
  },
  "language_info": {
   "codemirror_mode": {
    "name": "ipython",
    "version": 3
   },
   "file_extension": ".py",
   "mimetype": "text/x-python",
   "name": "python",
   "nbconvert_exporter": "python",
   "pygments_lexer": "ipython3",
   "version": "3.5.9"
  }
 },
 "nbformat": 4,
 "nbformat_minor": 4
}
