{
 "cells": [
  {
   "cell_type": "markdown",
   "metadata": {},
   "source": [
    "# Pandas (Advanced - part 1) Exercise"
   ]
  },
  {
   "cell_type": "code",
   "execution_count": null,
   "metadata": {},
   "outputs": [],
   "source": [
    "# Todo: Import pandas\n",
    "import ...\n",
    "\n",
    "df = pd.read_csv(\"prices.csv\")\n",
    "\n",
    "def get_return_percentages(df):\n",
    "    # Todo: Shift by one day\n",
    "    df_shifted = ...\n",
    "\n",
    "    # Todo: Replace the shifted data' first row\n",
    "    #       with the initial data' first row\n",
    "    df_shifted...\n",
    "\n",
    "    # Todo: Calculate return percentages\n",
    "    returns = ...\n",
    "    return returns\n",
    "\n",
    "get_return_percentages(df)"
   ]
  },
  {
   "cell_type": "markdown",
   "metadata": {},
   "source": [
    "When correct, you should see the following result:\n",
    "\n",
    "![pandas adv answer](./media/pandas-adv1-answer.png)"
   ]
  }
 ],
 "metadata": {
  "kernelspec": {
   "display_name": "Python 3",
   "language": "python",
   "name": "python3"
  },
  "language_info": {
   "codemirror_mode": {
    "name": "ipython",
    "version": 3
   },
   "file_extension": ".py",
   "mimetype": "text/x-python",
   "name": "python",
   "nbconvert_exporter": "python",
   "pygments_lexer": "ipython3",
   "version": "3.5.9"
  }
 },
 "nbformat": 4,
 "nbformat_minor": 4
}
