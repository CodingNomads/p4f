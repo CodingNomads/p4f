{
 "cells": [
  {
   "cell_type": "markdown",
   "metadata": {},
   "source": [
    "# Pandas (Basic) Exercise"
   ]
  },
  {
   "cell_type": "code",
   "execution_count": 2,
   "metadata": {},
   "outputs": [],
   "source": [
    "# Todo: import pandas and tqdm modules.\n",
    "import pandas as pd\n",
    "from tqdm import tqdm\n",
    "\n",
    "tickers = ['TSLA', 'MSFT', 'GE']\n",
    "\n",
    "def get_prices(tickers):\n",
    "    # Todo: Initialize a DataFrame with a single column 'date'.\n",
    "    prices_df = pd.DataFrame(columns=['date'])\n",
    "    \n",
    "    for ticker in tqdm(tickers):\n",
    "        # Todo: Read from CSV. Don't forget to use \"format\".\n",
    "        df = pd.read_csv(\"{}.csv\".format(ticker))\n",
    "        \n",
    "        # Todo: Get column 'date' and 'adjclose'.\n",
    "        df = df[['date', 'adjclose']]\n",
    "        \n",
    "        # Todo: Rename 'adjclose' to ticker name.\n",
    "        df = df.rename(columns={'adjclose': ticker})\n",
    "        \n",
    "        # Todo: Merge `df` into `prices_df`.\n",
    "        prices_df = prices_df.merge(df, on='date', how='outer')\n",
    "    \n",
    "    # Todo: Set 'date' field data type as a proper datetime object.\n",
    "    prices_df.date = prices_df.date.astype('datetime64[ns]')\n",
    "    \n",
    "    # Todo: Sort by date in ascending order.\n",
    "    prices_df = prices_df.sort_values(by=['date'], ascending=True)\n",
    "    \n",
    "    # Todo: Set 'date' object as `prices_df`'s index. \n",
    "    prices_df = prices_df.set_index('date')\n",
    "    return prices_df"
   ]
  },
  {
   "cell_type": "code",
   "execution_count": 4,
   "metadata": {},
   "outputs": [
    {
     "name": "stderr",
     "output_type": "stream",
     "text": [
      "100%|██████████| 3/3 [00:00<00:00, 130.87it/s]"
     ]
    },
    {
     "name": "stdout",
     "output_type": "stream",
     "text": [
      "              TSLA      MSFT      GE\n",
      "date                                \n",
      "2019-01-02  310.12   99.6466  7.7134\n",
      "2019-01-03  300.36   95.9808  7.7229\n",
      "2019-01-04  317.69  100.4448  7.8858\n",
      "2019-01-07  334.96  100.5729  8.3745\n",
      "2019-01-08  335.35  101.3021  8.2020\n",
      "              TSLA      MSFT     GE\n",
      "date                               \n",
      "2019-10-25  328.13  140.2528   9.00\n",
      "2019-10-28  327.71  143.7011   9.07\n",
      "2019-10-29  316.22  142.3457   9.07\n",
      "2019-10-30  315.01  144.1196  10.11\n",
      "2019-10-31  314.92  142.8838   9.98\n"
     ]
    },
    {
     "name": "stderr",
     "output_type": "stream",
     "text": [
      "\n"
     ]
    }
   ],
   "source": [
    "# Todo: call get_prices function.\n",
    "prices_df = get_prices(tickers)\n",
    "print(prices_df.head(5))\n",
    "print(prices_df.tail(5))"
   ]
  },
  {
   "cell_type": "markdown",
   "metadata": {},
   "source": [
    "When correct, you should see a result like this:\n",
    "\n",
    "![pandas-basic answer](media/pandas-basic-answer.png)"
   ]
  }
 ],
 "metadata": {
  "kernelspec": {
   "display_name": "Python 3",
   "language": "python",
   "name": "python3"
  },
  "language_info": {
   "codemirror_mode": {
    "name": "ipython",
    "version": 3
   },
   "file_extension": ".py",
   "mimetype": "text/x-python",
   "name": "python",
   "nbconvert_exporter": "python",
   "pygments_lexer": "ipython3",
   "version": "3.5.9"
  }
 },
 "nbformat": 4,
 "nbformat_minor": 4
}
