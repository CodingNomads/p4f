{
 "cells": [
  {
   "cell_type": "markdown",
   "metadata": {},
   "source": [
    "# Pandas (Basic)\n",
    "\n",
    "## 1. Initialization\n",
    "\n",
    "### 1.2. Initialize a pandas DataFrame"
   ]
  },
  {
   "cell_type": "code",
   "execution_count": 1,
   "metadata": {},
   "outputs": [],
   "source": [
    "import pandas as pd\n",
    "\n",
    "df = pd.DataFrame(data=[[1, 2], [3, 4], [5, 6]], columns=['a', 'b'])"
   ]
  },
  {
   "cell_type": "code",
   "execution_count": 2,
   "metadata": {},
   "outputs": [
    {
     "data": {
      "text/html": [
       "<div>\n",
       "<style scoped>\n",
       "    .dataframe tbody tr th:only-of-type {\n",
       "        vertical-align: middle;\n",
       "    }\n",
       "\n",
       "    .dataframe tbody tr th {\n",
       "        vertical-align: top;\n",
       "    }\n",
       "\n",
       "    .dataframe thead th {\n",
       "        text-align: right;\n",
       "    }\n",
       "</style>\n",
       "<table border=\"1\" class=\"dataframe\">\n",
       "  <thead>\n",
       "    <tr style=\"text-align: right;\">\n",
       "      <th></th>\n",
       "      <th>a</th>\n",
       "      <th>b</th>\n",
       "    </tr>\n",
       "  </thead>\n",
       "  <tbody>\n",
       "    <tr>\n",
       "      <th>0</th>\n",
       "      <td>1</td>\n",
       "      <td>2</td>\n",
       "    </tr>\n",
       "    <tr>\n",
       "      <th>1</th>\n",
       "      <td>3</td>\n",
       "      <td>4</td>\n",
       "    </tr>\n",
       "    <tr>\n",
       "      <th>2</th>\n",
       "      <td>5</td>\n",
       "      <td>6</td>\n",
       "    </tr>\n",
       "  </tbody>\n",
       "</table>\n",
       "</div>"
      ],
      "text/plain": [
       "   a  b\n",
       "0  1  2\n",
       "1  3  4\n",
       "2  5  6"
      ]
     },
     "execution_count": 2,
     "metadata": {},
     "output_type": "execute_result"
    }
   ],
   "source": [
    "df"
   ]
  },
  {
   "cell_type": "markdown",
   "metadata": {},
   "source": [
    "### 1.2. Load from a CSV"
   ]
  },
  {
   "cell_type": "code",
   "execution_count": 3,
   "metadata": {},
   "outputs": [],
   "source": [
    "df = pd.read_csv('TSLA.csv')"
   ]
  },
  {
   "cell_type": "code",
   "execution_count": 4,
   "metadata": {},
   "outputs": [
    {
     "data": {
      "text/html": [
       "<div>\n",
       "<style scoped>\n",
       "    .dataframe tbody tr th:only-of-type {\n",
       "        vertical-align: middle;\n",
       "    }\n",
       "\n",
       "    .dataframe tbody tr th {\n",
       "        vertical-align: top;\n",
       "    }\n",
       "\n",
       "    .dataframe thead th {\n",
       "        text-align: right;\n",
       "    }\n",
       "</style>\n",
       "<table border=\"1\" class=\"dataframe\">\n",
       "  <thead>\n",
       "    <tr style=\"text-align: right;\">\n",
       "      <th></th>\n",
       "      <th>date</th>\n",
       "      <th>open</th>\n",
       "      <th>high</th>\n",
       "      <th>low</th>\n",
       "      <th>close</th>\n",
       "      <th>volume</th>\n",
       "      <th>changed</th>\n",
       "      <th>changep</th>\n",
       "      <th>adjclose</th>\n",
       "      <th>tradeval</th>\n",
       "      <th>tradevol</th>\n",
       "    </tr>\n",
       "  </thead>\n",
       "  <tbody>\n",
       "    <tr>\n",
       "      <th>0</th>\n",
       "      <td>2019-10-31</td>\n",
       "      <td>313.10</td>\n",
       "      <td>319.00</td>\n",
       "      <td>313.0000</td>\n",
       "      <td>314.92</td>\n",
       "      <td>5066956</td>\n",
       "      <td>-0.09</td>\n",
       "      <td>-0.03%</td>\n",
       "      <td>314.92</td>\n",
       "      <td>1.599107e+09</td>\n",
       "      <td>61746</td>\n",
       "    </tr>\n",
       "    <tr>\n",
       "      <th>1</th>\n",
       "      <td>2019-10-30</td>\n",
       "      <td>313.00</td>\n",
       "      <td>318.79</td>\n",
       "      <td>309.9700</td>\n",
       "      <td>315.01</td>\n",
       "      <td>9641810</td>\n",
       "      <td>-1.21</td>\n",
       "      <td>-0.38%</td>\n",
       "      <td>315.01</td>\n",
       "      <td>3.024126e+09</td>\n",
       "      <td>101674</td>\n",
       "    </tr>\n",
       "    <tr>\n",
       "      <th>2</th>\n",
       "      <td>2019-10-29</td>\n",
       "      <td>319.99</td>\n",
       "      <td>324.30</td>\n",
       "      <td>314.7500</td>\n",
       "      <td>316.22</td>\n",
       "      <td>12684267</td>\n",
       "      <td>-11.49</td>\n",
       "      <td>-3.51%</td>\n",
       "      <td>316.22</td>\n",
       "      <td>4.041983e+09</td>\n",
       "      <td>143593</td>\n",
       "    </tr>\n",
       "    <tr>\n",
       "      <th>3</th>\n",
       "      <td>2019-10-28</td>\n",
       "      <td>327.54</td>\n",
       "      <td>340.84</td>\n",
       "      <td>322.6000</td>\n",
       "      <td>327.71</td>\n",
       "      <td>18870286</td>\n",
       "      <td>-0.42</td>\n",
       "      <td>-0.13%</td>\n",
       "      <td>327.71</td>\n",
       "      <td>6.242744e+09</td>\n",
       "      <td>222826</td>\n",
       "    </tr>\n",
       "    <tr>\n",
       "      <th>4</th>\n",
       "      <td>2019-10-25</td>\n",
       "      <td>297.72</td>\n",
       "      <td>330.00</td>\n",
       "      <td>296.1100</td>\n",
       "      <td>328.13</td>\n",
       "      <td>30006091</td>\n",
       "      <td>28.45</td>\n",
       "      <td>9.49%</td>\n",
       "      <td>328.13</td>\n",
       "      <td>9.526807e+09</td>\n",
       "      <td>350914</td>\n",
       "    </tr>\n",
       "    <tr>\n",
       "      <th>...</th>\n",
       "      <td>...</td>\n",
       "      <td>...</td>\n",
       "      <td>...</td>\n",
       "      <td>...</td>\n",
       "      <td>...</td>\n",
       "      <td>...</td>\n",
       "      <td>...</td>\n",
       "      <td>...</td>\n",
       "      <td>...</td>\n",
       "      <td>...</td>\n",
       "      <td>...</td>\n",
       "    </tr>\n",
       "    <tr>\n",
       "      <th>206</th>\n",
       "      <td>2019-01-08</td>\n",
       "      <td>341.96</td>\n",
       "      <td>344.01</td>\n",
       "      <td>327.0200</td>\n",
       "      <td>335.35</td>\n",
       "      <td>7008516</td>\n",
       "      <td>0.39</td>\n",
       "      <td>0.12%</td>\n",
       "      <td>335.35</td>\n",
       "      <td>2.349815e+09</td>\n",
       "      <td>75879</td>\n",
       "    </tr>\n",
       "    <tr>\n",
       "      <th>207</th>\n",
       "      <td>2019-01-07</td>\n",
       "      <td>321.72</td>\n",
       "      <td>336.74</td>\n",
       "      <td>317.7508</td>\n",
       "      <td>334.96</td>\n",
       "      <td>7551225</td>\n",
       "      <td>17.27</td>\n",
       "      <td>5.44%</td>\n",
       "      <td>334.96</td>\n",
       "      <td>2.497428e+09</td>\n",
       "      <td>87649</td>\n",
       "    </tr>\n",
       "    <tr>\n",
       "      <th>208</th>\n",
       "      <td>2019-01-04</td>\n",
       "      <td>306.00</td>\n",
       "      <td>318.00</td>\n",
       "      <td>302.7300</td>\n",
       "      <td>317.69</td>\n",
       "      <td>7394116</td>\n",
       "      <td>17.33</td>\n",
       "      <td>5.77%</td>\n",
       "      <td>317.69</td>\n",
       "      <td>2.306064e+09</td>\n",
       "      <td>84616</td>\n",
       "    </tr>\n",
       "    <tr>\n",
       "      <th>209</th>\n",
       "      <td>2019-01-03</td>\n",
       "      <td>307.00</td>\n",
       "      <td>309.40</td>\n",
       "      <td>297.3800</td>\n",
       "      <td>300.36</td>\n",
       "      <td>6965184</td>\n",
       "      <td>-9.76</td>\n",
       "      <td>-3.15%</td>\n",
       "      <td>300.36</td>\n",
       "      <td>2.104422e+09</td>\n",
       "      <td>81543</td>\n",
       "    </tr>\n",
       "    <tr>\n",
       "      <th>210</th>\n",
       "      <td>2019-01-02</td>\n",
       "      <td>306.10</td>\n",
       "      <td>315.13</td>\n",
       "      <td>298.8000</td>\n",
       "      <td>310.12</td>\n",
       "      <td>11658648</td>\n",
       "      <td>-22.68</td>\n",
       "      <td>-6.81%</td>\n",
       "      <td>310.12</td>\n",
       "      <td>3.584239e+09</td>\n",
       "      <td>144872</td>\n",
       "    </tr>\n",
       "  </tbody>\n",
       "</table>\n",
       "<p>211 rows × 11 columns</p>\n",
       "</div>"
      ],
      "text/plain": [
       "           date    open    high       low   close    volume  changed changep  \\\n",
       "0    2019-10-31  313.10  319.00  313.0000  314.92   5066956    -0.09  -0.03%   \n",
       "1    2019-10-30  313.00  318.79  309.9700  315.01   9641810    -1.21  -0.38%   \n",
       "2    2019-10-29  319.99  324.30  314.7500  316.22  12684267   -11.49  -3.51%   \n",
       "3    2019-10-28  327.54  340.84  322.6000  327.71  18870286    -0.42  -0.13%   \n",
       "4    2019-10-25  297.72  330.00  296.1100  328.13  30006091    28.45   9.49%   \n",
       "..          ...     ...     ...       ...     ...       ...      ...     ...   \n",
       "206  2019-01-08  341.96  344.01  327.0200  335.35   7008516     0.39   0.12%   \n",
       "207  2019-01-07  321.72  336.74  317.7508  334.96   7551225    17.27   5.44%   \n",
       "208  2019-01-04  306.00  318.00  302.7300  317.69   7394116    17.33   5.77%   \n",
       "209  2019-01-03  307.00  309.40  297.3800  300.36   6965184    -9.76  -3.15%   \n",
       "210  2019-01-02  306.10  315.13  298.8000  310.12  11658648   -22.68  -6.81%   \n",
       "\n",
       "     adjclose      tradeval  tradevol  \n",
       "0      314.92  1.599107e+09     61746  \n",
       "1      315.01  3.024126e+09    101674  \n",
       "2      316.22  4.041983e+09    143593  \n",
       "3      327.71  6.242744e+09    222826  \n",
       "4      328.13  9.526807e+09    350914  \n",
       "..        ...           ...       ...  \n",
       "206    335.35  2.349815e+09     75879  \n",
       "207    334.96  2.497428e+09     87649  \n",
       "208    317.69  2.306064e+09     84616  \n",
       "209    300.36  2.104422e+09     81543  \n",
       "210    310.12  3.584239e+09    144872  \n",
       "\n",
       "[211 rows x 11 columns]"
      ]
     },
     "execution_count": 4,
     "metadata": {},
     "output_type": "execute_result"
    }
   ],
   "source": [
    "df"
   ]
  },
  {
   "cell_type": "markdown",
   "metadata": {},
   "source": [
    "### 1.3. Viewing basic statistics of data with `pd.describe()`\n",
    "\n",
    "While looking at the data points directly would give us a good insight about the data, sometimes we may want to see the aggregate information of our dataset. For this, we can use `pd.describe()` function as such:"
   ]
  },
  {
   "cell_type": "code",
   "execution_count": 5,
   "metadata": {},
   "outputs": [
    {
     "data": {
      "text/html": [
       "<div>\n",
       "<style scoped>\n",
       "    .dataframe tbody tr th:only-of-type {\n",
       "        vertical-align: middle;\n",
       "    }\n",
       "\n",
       "    .dataframe tbody tr th {\n",
       "        vertical-align: top;\n",
       "    }\n",
       "\n",
       "    .dataframe thead th {\n",
       "        text-align: right;\n",
       "    }\n",
       "</style>\n",
       "<table border=\"1\" class=\"dataframe\">\n",
       "  <thead>\n",
       "    <tr style=\"text-align: right;\">\n",
       "      <th></th>\n",
       "      <th>open</th>\n",
       "      <th>high</th>\n",
       "      <th>low</th>\n",
       "      <th>close</th>\n",
       "      <th>volume</th>\n",
       "      <th>changed</th>\n",
       "      <th>adjclose</th>\n",
       "      <th>tradeval</th>\n",
       "      <th>tradevol</th>\n",
       "    </tr>\n",
       "  </thead>\n",
       "  <tbody>\n",
       "    <tr>\n",
       "      <th>count</th>\n",
       "      <td>211.000000</td>\n",
       "      <td>211.000000</td>\n",
       "      <td>211.000000</td>\n",
       "      <td>211.000000</td>\n",
       "      <td>2.110000e+02</td>\n",
       "      <td>211.000000</td>\n",
       "      <td>211.000000</td>\n",
       "      <td>2.110000e+02</td>\n",
       "      <td>211.000000</td>\n",
       "    </tr>\n",
       "    <tr>\n",
       "      <th>mean</th>\n",
       "      <td>256.674583</td>\n",
       "      <td>261.135855</td>\n",
       "      <td>252.233718</td>\n",
       "      <td>257.023791</td>\n",
       "      <td>9.248764e+06</td>\n",
       "      <td>-0.084739</td>\n",
       "      <td>257.023791</td>\n",
       "      <td>2.355485e+09</td>\n",
       "      <td>101610.625592</td>\n",
       "    </tr>\n",
       "    <tr>\n",
       "      <th>std</th>\n",
       "      <td>37.550333</td>\n",
       "      <td>38.366875</td>\n",
       "      <td>37.158604</td>\n",
       "      <td>38.149160</td>\n",
       "      <td>4.928520e+06</td>\n",
       "      <td>8.743059</td>\n",
       "      <td>38.149160</td>\n",
       "      <td>1.315722e+09</td>\n",
       "      <td>54801.370240</td>\n",
       "    </tr>\n",
       "    <tr>\n",
       "      <th>min</th>\n",
       "      <td>181.100000</td>\n",
       "      <td>186.680000</td>\n",
       "      <td>176.991900</td>\n",
       "      <td>178.970000</td>\n",
       "      <td>3.238625e+06</td>\n",
       "      <td>-45.050000</td>\n",
       "      <td>178.970000</td>\n",
       "      <td>6.977318e+08</td>\n",
       "      <td>37157.000000</td>\n",
       "    </tr>\n",
       "    <tr>\n",
       "      <th>25%</th>\n",
       "      <td>229.225000</td>\n",
       "      <td>232.440000</td>\n",
       "      <td>225.210000</td>\n",
       "      <td>228.515000</td>\n",
       "      <td>5.969218e+06</td>\n",
       "      <td>-3.295000</td>\n",
       "      <td>228.515000</td>\n",
       "      <td>1.583312e+09</td>\n",
       "      <td>67024.000000</td>\n",
       "    </tr>\n",
       "    <tr>\n",
       "      <th>50%</th>\n",
       "      <td>246.960000</td>\n",
       "      <td>251.080000</td>\n",
       "      <td>244.840000</td>\n",
       "      <td>247.060000</td>\n",
       "      <td>7.551225e+06</td>\n",
       "      <td>-0.090000</td>\n",
       "      <td>247.060000</td>\n",
       "      <td>2.045579e+09</td>\n",
       "      <td>84667.000000</td>\n",
       "    </tr>\n",
       "    <tr>\n",
       "      <th>75%</th>\n",
       "      <td>283.515000</td>\n",
       "      <td>289.320000</td>\n",
       "      <td>280.780000</td>\n",
       "      <td>285.620000</td>\n",
       "      <td>1.078070e+07</td>\n",
       "      <td>4.320000</td>\n",
       "      <td>285.620000</td>\n",
       "      <td>2.647446e+09</td>\n",
       "      <td>115266.000000</td>\n",
       "    </tr>\n",
       "    <tr>\n",
       "      <th>max</th>\n",
       "      <td>346.210000</td>\n",
       "      <td>352.000000</td>\n",
       "      <td>344.150000</td>\n",
       "      <td>347.310000</td>\n",
       "      <td>3.000609e+07</td>\n",
       "      <td>45.000000</td>\n",
       "      <td>347.310000</td>\n",
       "      <td>9.526807e+09</td>\n",
       "      <td>350914.000000</td>\n",
       "    </tr>\n",
       "  </tbody>\n",
       "</table>\n",
       "</div>"
      ],
      "text/plain": [
       "             open        high         low       close        volume  \\\n",
       "count  211.000000  211.000000  211.000000  211.000000  2.110000e+02   \n",
       "mean   256.674583  261.135855  252.233718  257.023791  9.248764e+06   \n",
       "std     37.550333   38.366875   37.158604   38.149160  4.928520e+06   \n",
       "min    181.100000  186.680000  176.991900  178.970000  3.238625e+06   \n",
       "25%    229.225000  232.440000  225.210000  228.515000  5.969218e+06   \n",
       "50%    246.960000  251.080000  244.840000  247.060000  7.551225e+06   \n",
       "75%    283.515000  289.320000  280.780000  285.620000  1.078070e+07   \n",
       "max    346.210000  352.000000  344.150000  347.310000  3.000609e+07   \n",
       "\n",
       "          changed    adjclose      tradeval       tradevol  \n",
       "count  211.000000  211.000000  2.110000e+02     211.000000  \n",
       "mean    -0.084739  257.023791  2.355485e+09  101610.625592  \n",
       "std      8.743059   38.149160  1.315722e+09   54801.370240  \n",
       "min    -45.050000  178.970000  6.977318e+08   37157.000000  \n",
       "25%     -3.295000  228.515000  1.583312e+09   67024.000000  \n",
       "50%     -0.090000  247.060000  2.045579e+09   84667.000000  \n",
       "75%      4.320000  285.620000  2.647446e+09  115266.000000  \n",
       "max     45.000000  347.310000  9.526807e+09  350914.000000  "
      ]
     },
     "execution_count": 5,
     "metadata": {},
     "output_type": "execute_result"
    }
   ],
   "source": [
    "df.describe()"
   ]
  },
  {
   "cell_type": "markdown",
   "metadata": {},
   "source": [
    "As you see, we can get interesting statistics of all fields in our DataFrame object with this function.\n",
    "\n",
    "---------------------\n",
    "\n",
    "At this point, if you'd like, you can continue with part 2 of this lesson, \"Python Refresher: List, Dict, Loop, and Functions\" and/or check out the [notebook for Python Refresher lesson](python-refresher.ipynb), but if you are already comfortable enough with these Python concepts, you may move forward with this notebook.\n",
    "\n",
    "---------------------"
   ]
  },
  {
   "cell_type": "markdown",
   "metadata": {},
   "source": [
    "## 2. Some useful functions\n",
    "To demonstrate various `pandas` functions in this lesson, we will create two DataFrames with which we will perform our operations in:\n",
    "\n",
    "- The first DataFrame `df1` contains stock ABC's close price and adjusted close prices.\n",
    "- And the second DataFrame `df2` contains stock DEF's close price and adjusted close prices.\n",
    "\n",
    "Both DataFrames have the following fields:\n",
    "\n",
    "1. `date`: Date of recording, stored as `string`, sorted by recent-first.\n",
    "2. `adjclose`: Adjusted close price, stored as `float`.\n",
    "\n",
    "We want to create a combined DataFrame that will have the following fields:\n",
    "\n",
    "1. `date`: Date of recording, sorted by oldest-first.\n",
    "2. `ABC`: Adjusted close price for ABC.\n",
    "3. `DEF`: Adjusted close price for DEF.\n",
    "\n",
    "The catch is that, since they are two different companies, there are dates for which only ABC has recorded prices, and there are dates where only DEF has them. The merged DataFrame must keep both rows in those cases. In SQL language, we call them *outer join*, or in the mathematical term, *union* of two datasets."
   ]
  },
  {
   "cell_type": "code",
   "execution_count": 6,
   "metadata": {},
   "outputs": [],
   "source": [
    "df1 = pd.DataFrame(columns=['date', 'close', 'adjclose'],\n",
    "                   data=[['2019-11-12', 11.79, 11.79], ['2019-11-10', 5.86, 11.71]])\n",
    "df2 = pd.DataFrame(columns=['date', 'close', 'adjclose'],\n",
    "                   data=[['2019-11-13', 9.28, 9.28], ['2019-11-11', 9.21, 9.21], ['2019-11-10', 9.35, 9.35]])"
   ]
  },
  {
   "cell_type": "code",
   "execution_count": 7,
   "metadata": {},
   "outputs": [
    {
     "data": {
      "text/html": [
       "<div>\n",
       "<style scoped>\n",
       "    .dataframe tbody tr th:only-of-type {\n",
       "        vertical-align: middle;\n",
       "    }\n",
       "\n",
       "    .dataframe tbody tr th {\n",
       "        vertical-align: top;\n",
       "    }\n",
       "\n",
       "    .dataframe thead th {\n",
       "        text-align: right;\n",
       "    }\n",
       "</style>\n",
       "<table border=\"1\" class=\"dataframe\">\n",
       "  <thead>\n",
       "    <tr style=\"text-align: right;\">\n",
       "      <th></th>\n",
       "      <th>date</th>\n",
       "      <th>close</th>\n",
       "      <th>adjclose</th>\n",
       "    </tr>\n",
       "  </thead>\n",
       "  <tbody>\n",
       "    <tr>\n",
       "      <th>0</th>\n",
       "      <td>2019-11-12</td>\n",
       "      <td>11.79</td>\n",
       "      <td>11.79</td>\n",
       "    </tr>\n",
       "    <tr>\n",
       "      <th>1</th>\n",
       "      <td>2019-11-10</td>\n",
       "      <td>5.86</td>\n",
       "      <td>11.71</td>\n",
       "    </tr>\n",
       "  </tbody>\n",
       "</table>\n",
       "</div>"
      ],
      "text/plain": [
       "         date  close  adjclose\n",
       "0  2019-11-12  11.79     11.79\n",
       "1  2019-11-10   5.86     11.71"
      ]
     },
     "execution_count": 7,
     "metadata": {},
     "output_type": "execute_result"
    }
   ],
   "source": [
    "df1"
   ]
  },
  {
   "cell_type": "code",
   "execution_count": 8,
   "metadata": {},
   "outputs": [
    {
     "data": {
      "text/html": [
       "<div>\n",
       "<style scoped>\n",
       "    .dataframe tbody tr th:only-of-type {\n",
       "        vertical-align: middle;\n",
       "    }\n",
       "\n",
       "    .dataframe tbody tr th {\n",
       "        vertical-align: top;\n",
       "    }\n",
       "\n",
       "    .dataframe thead th {\n",
       "        text-align: right;\n",
       "    }\n",
       "</style>\n",
       "<table border=\"1\" class=\"dataframe\">\n",
       "  <thead>\n",
       "    <tr style=\"text-align: right;\">\n",
       "      <th></th>\n",
       "      <th>date</th>\n",
       "      <th>close</th>\n",
       "      <th>adjclose</th>\n",
       "    </tr>\n",
       "  </thead>\n",
       "  <tbody>\n",
       "    <tr>\n",
       "      <th>0</th>\n",
       "      <td>2019-11-13</td>\n",
       "      <td>9.28</td>\n",
       "      <td>9.28</td>\n",
       "    </tr>\n",
       "    <tr>\n",
       "      <th>1</th>\n",
       "      <td>2019-11-11</td>\n",
       "      <td>9.21</td>\n",
       "      <td>9.21</td>\n",
       "    </tr>\n",
       "    <tr>\n",
       "      <th>2</th>\n",
       "      <td>2019-11-10</td>\n",
       "      <td>9.35</td>\n",
       "      <td>9.35</td>\n",
       "    </tr>\n",
       "  </tbody>\n",
       "</table>\n",
       "</div>"
      ],
      "text/plain": [
       "         date  close  adjclose\n",
       "0  2019-11-13   9.28      9.28\n",
       "1  2019-11-11   9.21      9.21\n",
       "2  2019-11-10   9.35      9.35"
      ]
     },
     "execution_count": 8,
     "metadata": {},
     "output_type": "execute_result"
    }
   ],
   "source": [
    "df2"
   ]
  },
  {
   "cell_type": "markdown",
   "metadata": {},
   "source": [
    "### 2.1. Viewing DataFrame fields information with `pd.info()` function\n",
    "\n",
    "Notice that, by presenting the DataFrames directly, we cannot tell the data type of each field. `pandas.info()` function will greatly help us in this scenario."
   ]
  },
  {
   "cell_type": "code",
   "execution_count": 9,
   "metadata": {},
   "outputs": [
    {
     "name": "stdout",
     "output_type": "stream",
     "text": [
      "<class 'pandas.core.frame.DataFrame'>\n",
      "RangeIndex: 2 entries, 0 to 1\n",
      "Data columns (total 3 columns):\n",
      "date        2 non-null object\n",
      "close       2 non-null float64\n",
      "adjclose    2 non-null float64\n",
      "dtypes: float64(2), object(1)\n",
      "memory usage: 176.0+ bytes\n"
     ]
    }
   ],
   "source": [
    "df1.info()"
   ]
  },
  {
   "cell_type": "markdown",
   "metadata": {},
   "source": [
    "As we see, `date` is stored as `object`, which is the `pandas` way of telling us that it is a `string` object. We will want to convert them to proper `datetime` object later. The other two fields are correctly stored as `float64`."
   ]
  },
  {
   "cell_type": "markdown",
   "metadata": {},
   "source": [
    "### 2.2. Get certain columns\n",
    "You can \"slice\" a DataFrame to get data only for certain columns. Since we only need the `adjclose` column in this case, we may slice it as such."
   ]
  },
  {
   "cell_type": "code",
   "execution_count": 10,
   "metadata": {},
   "outputs": [],
   "source": [
    "df1_sliced = df1[['date', 'adjclose']]\n",
    "df2_sliced = df2[['date', 'adjclose']]"
   ]
  },
  {
   "cell_type": "markdown",
   "metadata": {},
   "source": [
    "**Test**\n",
    "\n",
    "See that we now have two columns:"
   ]
  },
  {
   "cell_type": "code",
   "execution_count": 11,
   "metadata": {},
   "outputs": [
    {
     "data": {
      "text/plain": [
       "Index(['date', 'adjclose'], dtype='object')"
      ]
     },
     "execution_count": 11,
     "metadata": {},
     "output_type": "execute_result"
    }
   ],
   "source": [
    "df1_sliced.columns"
   ]
  },
  {
   "cell_type": "code",
   "execution_count": 12,
   "metadata": {},
   "outputs": [
    {
     "data": {
      "text/plain": [
       "Index(['date', 'adjclose'], dtype='object')"
      ]
     },
     "execution_count": 12,
     "metadata": {},
     "output_type": "execute_result"
    }
   ],
   "source": [
    "df1_sliced.columns"
   ]
  },
  {
   "cell_type": "markdown",
   "metadata": {},
   "source": [
    "### 2.3. Rename a column\n",
    "\n",
    "The final DataFrame will have the ticker names as field names replacing `adjclose`, and so we will use `pd.rename()` function to accommodate this requirement."
   ]
  },
  {
   "cell_type": "code",
   "execution_count": 13,
   "metadata": {},
   "outputs": [],
   "source": [
    "df1_renamed = df1_sliced.rename(columns={'adjclose': 'ABC'})\n",
    "df2_renamed = df2_sliced.rename(columns={'adjclose': 'DEF'})"
   ]
  },
  {
   "cell_type": "markdown",
   "metadata": {},
   "source": [
    "**Test**\n",
    "\n",
    "Columns are now renamed:"
   ]
  },
  {
   "cell_type": "code",
   "execution_count": 14,
   "metadata": {},
   "outputs": [
    {
     "name": "stdout",
     "output_type": "stream",
     "text": [
      "Index(['date', 'ABC'], dtype='object')\n",
      "Index(['date', 'DEF'], dtype='object')\n"
     ]
    }
   ],
   "source": [
    "print(df1_renamed.columns)\n",
    "print(df2_renamed.columns)"
   ]
  },
  {
   "cell_type": "markdown",
   "metadata": {},
   "source": [
    "### 2.3. Merge DataFrames\n",
    "Now that we have the correct column names, we may now merge the DataFrames."
   ]
  },
  {
   "cell_type": "code",
   "execution_count": 15,
   "metadata": {},
   "outputs": [],
   "source": [
    "df_merged = df1_renamed.merge(df2_renamed, on='date', how='outer')"
   ]
  },
  {
   "cell_type": "markdown",
   "metadata": {},
   "source": [
    "**Test**\n",
    "\n",
    "Notice that, as expected, we have the union of both DataFrames.\n",
    "\n",
    "*For exercise, try other values for `how` argument. Try 'inner', 'left', and 'right' to see what they do.*"
   ]
  },
  {
   "cell_type": "code",
   "execution_count": 16,
   "metadata": {},
   "outputs": [
    {
     "data": {
      "text/html": [
       "<div>\n",
       "<style scoped>\n",
       "    .dataframe tbody tr th:only-of-type {\n",
       "        vertical-align: middle;\n",
       "    }\n",
       "\n",
       "    .dataframe tbody tr th {\n",
       "        vertical-align: top;\n",
       "    }\n",
       "\n",
       "    .dataframe thead th {\n",
       "        text-align: right;\n",
       "    }\n",
       "</style>\n",
       "<table border=\"1\" class=\"dataframe\">\n",
       "  <thead>\n",
       "    <tr style=\"text-align: right;\">\n",
       "      <th></th>\n",
       "      <th>date</th>\n",
       "      <th>ABC</th>\n",
       "      <th>DEF</th>\n",
       "    </tr>\n",
       "  </thead>\n",
       "  <tbody>\n",
       "    <tr>\n",
       "      <th>0</th>\n",
       "      <td>2019-11-12</td>\n",
       "      <td>11.79</td>\n",
       "      <td>NaN</td>\n",
       "    </tr>\n",
       "    <tr>\n",
       "      <th>1</th>\n",
       "      <td>2019-11-10</td>\n",
       "      <td>11.71</td>\n",
       "      <td>9.35</td>\n",
       "    </tr>\n",
       "    <tr>\n",
       "      <th>2</th>\n",
       "      <td>2019-11-13</td>\n",
       "      <td>NaN</td>\n",
       "      <td>9.28</td>\n",
       "    </tr>\n",
       "    <tr>\n",
       "      <th>3</th>\n",
       "      <td>2019-11-11</td>\n",
       "      <td>NaN</td>\n",
       "      <td>9.21</td>\n",
       "    </tr>\n",
       "  </tbody>\n",
       "</table>\n",
       "</div>"
      ],
      "text/plain": [
       "         date    ABC   DEF\n",
       "0  2019-11-12  11.79   NaN\n",
       "1  2019-11-10  11.71  9.35\n",
       "2  2019-11-13    NaN  9.28\n",
       "3  2019-11-11    NaN  9.21"
      ]
     },
     "execution_count": 16,
     "metadata": {},
     "output_type": "execute_result"
    }
   ],
   "source": [
    "df_merged"
   ]
  },
  {
   "cell_type": "markdown",
   "metadata": {},
   "source": [
    "### 2.4. Sort by values and data type setting\n",
    "\n",
    "It is good that we have the DataFrames merged, but notice that the dates are jumbled up. We want to sort the data on an oldest-first basis. However, just to be sure we are ordering correctly, it is a better practice to set the field to the proper data type first."
   ]
  },
  {
   "cell_type": "code",
   "execution_count": 17,
   "metadata": {},
   "outputs": [],
   "source": [
    "# I got the value 'datetime64[ns]' from a bit of Googling, so yeah, that's\n",
    "# the core competency of expert quants.\n",
    "df_merged['date'] = df_merged['date'].astype('datetime64[ns]')\n",
    "df_sorted = df_merged.sort_values(by=['date'], ascending=True)"
   ]
  },
  {
   "cell_type": "markdown",
   "metadata": {},
   "source": [
    "**Test**\n",
    "\n",
    "Let's see if this works by displaying the content of `date` column:"
   ]
  },
  {
   "cell_type": "code",
   "execution_count": 18,
   "metadata": {},
   "outputs": [
    {
     "data": {
      "text/plain": [
       "1   2019-11-10\n",
       "3   2019-11-11\n",
       "0   2019-11-12\n",
       "2   2019-11-13\n",
       "Name: date, dtype: datetime64[ns]"
      ]
     },
     "execution_count": 18,
     "metadata": {},
     "output_type": "execute_result"
    }
   ],
   "source": [
    "df_sorted['date']"
   ]
  },
  {
   "cell_type": "markdown",
   "metadata": {},
   "source": [
    "Notice the difference between [['date']] and ['date'] here. The former returns a DataFrame, and the latter returns a Series which also shows its data type."
   ]
  },
  {
   "cell_type": "markdown",
   "metadata": {},
   "source": [
    "### 2.5. Set index\n",
    "\n",
    "Notice that we still have the integers 0, 1, 2, 3 as our indexes. To make it easier when we plot the DataFrame later, we want to use the `date` field as the DataFrame's index."
   ]
  },
  {
   "cell_type": "code",
   "execution_count": 19,
   "metadata": {},
   "outputs": [],
   "source": [
    "df_final = df_sorted.set_index('date')"
   ]
  },
  {
   "cell_type": "markdown",
   "metadata": {},
   "source": [
    "**Test**\n",
    "\n",
    "Let's preview the final DataFrame:"
   ]
  },
  {
   "cell_type": "code",
   "execution_count": 20,
   "metadata": {},
   "outputs": [
    {
     "data": {
      "text/html": [
       "<div>\n",
       "<style scoped>\n",
       "    .dataframe tbody tr th:only-of-type {\n",
       "        vertical-align: middle;\n",
       "    }\n",
       "\n",
       "    .dataframe tbody tr th {\n",
       "        vertical-align: top;\n",
       "    }\n",
       "\n",
       "    .dataframe thead th {\n",
       "        text-align: right;\n",
       "    }\n",
       "</style>\n",
       "<table border=\"1\" class=\"dataframe\">\n",
       "  <thead>\n",
       "    <tr style=\"text-align: right;\">\n",
       "      <th></th>\n",
       "      <th>ABC</th>\n",
       "      <th>DEF</th>\n",
       "    </tr>\n",
       "    <tr>\n",
       "      <th>date</th>\n",
       "      <th></th>\n",
       "      <th></th>\n",
       "    </tr>\n",
       "  </thead>\n",
       "  <tbody>\n",
       "    <tr>\n",
       "      <th>2019-11-10</th>\n",
       "      <td>11.71</td>\n",
       "      <td>9.35</td>\n",
       "    </tr>\n",
       "    <tr>\n",
       "      <th>2019-11-11</th>\n",
       "      <td>NaN</td>\n",
       "      <td>9.21</td>\n",
       "    </tr>\n",
       "    <tr>\n",
       "      <th>2019-11-12</th>\n",
       "      <td>11.79</td>\n",
       "      <td>NaN</td>\n",
       "    </tr>\n",
       "    <tr>\n",
       "      <th>2019-11-13</th>\n",
       "      <td>NaN</td>\n",
       "      <td>9.28</td>\n",
       "    </tr>\n",
       "  </tbody>\n",
       "</table>\n",
       "</div>"
      ],
      "text/plain": [
       "              ABC   DEF\n",
       "date                   \n",
       "2019-11-10  11.71  9.35\n",
       "2019-11-11    NaN  9.21\n",
       "2019-11-12  11.79   NaN\n",
       "2019-11-13    NaN  9.28"
      ]
     },
     "execution_count": 20,
     "metadata": {},
     "output_type": "execute_result"
    }
   ],
   "source": [
    "df_final"
   ]
  },
  {
   "cell_type": "markdown",
   "metadata": {},
   "source": [
    "## 3. Data selection functions\n",
    "\n",
    "Following data selections functions are also very important, and you will find yourself using them over and again to debug your DataFrame.\n",
    "\n",
    "### 3.1. Data selection with `loc`\n",
    "\n",
    "`loc` is the most basic selection. You may use it to select based on certain values. For date index, you may pass in a datetime object like so:"
   ]
  },
  {
   "cell_type": "code",
   "execution_count": 43,
   "metadata": {},
   "outputs": [
    {
     "data": {
      "text/plain": [
       "ABC    11.71\n",
       "DEF     9.35\n",
       "Name: 2019-11-10 00:00:00, dtype: float64"
      ]
     },
     "execution_count": 43,
     "metadata": {},
     "output_type": "execute_result"
    }
   ],
   "source": [
    "df_final.loc[pd.to_datetime('2019-11-10')]"
   ]
  },
  {
   "cell_type": "markdown",
   "metadata": {},
   "source": [
    "Or even a string:"
   ]
  },
  {
   "cell_type": "code",
   "execution_count": 32,
   "metadata": {},
   "outputs": [
    {
     "data": {
      "text/plain": [
       "ABC    11.71\n",
       "DEF     9.35\n",
       "Name: 2019-11-10 00:00:00, dtype: float64"
      ]
     },
     "execution_count": 32,
     "metadata": {},
     "output_type": "execute_result"
    }
   ],
   "source": [
    "df_final.loc['2019-11-10']"
   ]
  },
  {
   "cell_type": "markdown",
   "metadata": {},
   "source": [
    "You may pass in multiple indexes. The following code demonstrates that `loc` may use either `pandas.to_datetime` or Python's standard `datetime` object."
   ]
  },
  {
   "cell_type": "code",
   "execution_count": 44,
   "metadata": {},
   "outputs": [
    {
     "data": {
      "text/html": [
       "<div>\n",
       "<style scoped>\n",
       "    .dataframe tbody tr th:only-of-type {\n",
       "        vertical-align: middle;\n",
       "    }\n",
       "\n",
       "    .dataframe tbody tr th {\n",
       "        vertical-align: top;\n",
       "    }\n",
       "\n",
       "    .dataframe thead th {\n",
       "        text-align: right;\n",
       "    }\n",
       "</style>\n",
       "<table border=\"1\" class=\"dataframe\">\n",
       "  <thead>\n",
       "    <tr style=\"text-align: right;\">\n",
       "      <th></th>\n",
       "      <th>ABC</th>\n",
       "      <th>DEF</th>\n",
       "    </tr>\n",
       "    <tr>\n",
       "      <th>date</th>\n",
       "      <th></th>\n",
       "      <th></th>\n",
       "    </tr>\n",
       "  </thead>\n",
       "  <tbody>\n",
       "    <tr>\n",
       "      <th>2019-11-10</th>\n",
       "      <td>11.71</td>\n",
       "      <td>9.35</td>\n",
       "    </tr>\n",
       "    <tr>\n",
       "      <th>2019-11-12</th>\n",
       "      <td>11.79</td>\n",
       "      <td>NaN</td>\n",
       "    </tr>\n",
       "  </tbody>\n",
       "</table>\n",
       "</div>"
      ],
      "text/plain": [
       "              ABC   DEF\n",
       "date                   \n",
       "2019-11-10  11.71  9.35\n",
       "2019-11-12  11.79   NaN"
      ]
     },
     "execution_count": 44,
     "metadata": {},
     "output_type": "execute_result"
    }
   ],
   "source": [
    "import datetime\n",
    "\n",
    "df_final.loc[[pd.to_datetime('2019-11-10'),\n",
    "              datetime.datetime.strptime('2019-11-12', '%Y-%m-%d')]]"
   ]
  },
  {
   "cell_type": "markdown",
   "metadata": {},
   "source": [
    "But the type must be correctly defined with multiple indexes. The following won't work since we pass in multiple string objects:"
   ]
  },
  {
   "cell_type": "code",
   "execution_count": 39,
   "metadata": {},
   "outputs": [
    {
     "ename": "KeyError",
     "evalue": "\"None of [Index(['2019-11-10', '2019-11-12'], dtype='object', name='date')] are in the [index]\"",
     "output_type": "error",
     "traceback": [
      "\u001b[0;31m---------------------------------------------------------------------------\u001b[0m",
      "\u001b[0;31mKeyError\u001b[0m                                  Traceback (most recent call last)",
      "\u001b[0;32m<ipython-input-39-0f53f7b116f8>\u001b[0m in \u001b[0;36m<module>\u001b[0;34m\u001b[0m\n\u001b[0;32m----> 1\u001b[0;31m \u001b[0mdf_final\u001b[0m\u001b[0;34m.\u001b[0m\u001b[0mloc\u001b[0m\u001b[0;34m[\u001b[0m\u001b[0;34m[\u001b[0m\u001b[0;34m'2019-11-10'\u001b[0m\u001b[0;34m,\u001b[0m \u001b[0;34m'2019-11-12'\u001b[0m\u001b[0;34m]\u001b[0m\u001b[0;34m]\u001b[0m\u001b[0;34m\u001b[0m\u001b[0m\n\u001b[0m",
      "\u001b[0;32m~/data/envs/quant3.5/lib/python3.5/site-packages/pandas/core/indexing.py\u001b[0m in \u001b[0;36m__getitem__\u001b[0;34m(self, key)\u001b[0m\n\u001b[1;32m   1422\u001b[0m \u001b[0;34m\u001b[0m\u001b[0m\n\u001b[1;32m   1423\u001b[0m             \u001b[0mmaybe_callable\u001b[0m \u001b[0;34m=\u001b[0m \u001b[0mcom\u001b[0m\u001b[0;34m.\u001b[0m\u001b[0mapply_if_callable\u001b[0m\u001b[0;34m(\u001b[0m\u001b[0mkey\u001b[0m\u001b[0;34m,\u001b[0m \u001b[0mself\u001b[0m\u001b[0;34m.\u001b[0m\u001b[0mobj\u001b[0m\u001b[0;34m)\u001b[0m\u001b[0;34m\u001b[0m\u001b[0m\n\u001b[0;32m-> 1424\u001b[0;31m             \u001b[0;32mreturn\u001b[0m \u001b[0mself\u001b[0m\u001b[0;34m.\u001b[0m\u001b[0m_getitem_axis\u001b[0m\u001b[0;34m(\u001b[0m\u001b[0mmaybe_callable\u001b[0m\u001b[0;34m,\u001b[0m \u001b[0maxis\u001b[0m\u001b[0;34m=\u001b[0m\u001b[0maxis\u001b[0m\u001b[0;34m)\u001b[0m\u001b[0;34m\u001b[0m\u001b[0m\n\u001b[0m\u001b[1;32m   1425\u001b[0m \u001b[0;34m\u001b[0m\u001b[0m\n\u001b[1;32m   1426\u001b[0m     \u001b[0;32mdef\u001b[0m \u001b[0m_is_scalar_access\u001b[0m\u001b[0;34m(\u001b[0m\u001b[0mself\u001b[0m\u001b[0;34m,\u001b[0m \u001b[0mkey\u001b[0m\u001b[0;34m:\u001b[0m \u001b[0mTuple\u001b[0m\u001b[0;34m)\u001b[0m\u001b[0;34m:\u001b[0m\u001b[0;34m\u001b[0m\u001b[0m\n",
      "\u001b[0;32m~/data/envs/quant3.5/lib/python3.5/site-packages/pandas/core/indexing.py\u001b[0m in \u001b[0;36m_getitem_axis\u001b[0;34m(self, key, axis)\u001b[0m\n\u001b[1;32m   1837\u001b[0m                     \u001b[0;32mraise\u001b[0m \u001b[0mValueError\u001b[0m\u001b[0;34m(\u001b[0m\u001b[0;34m\"Cannot index with multidimensional key\"\u001b[0m\u001b[0;34m)\u001b[0m\u001b[0;34m\u001b[0m\u001b[0m\n\u001b[1;32m   1838\u001b[0m \u001b[0;34m\u001b[0m\u001b[0m\n\u001b[0;32m-> 1839\u001b[0;31m                 \u001b[0;32mreturn\u001b[0m \u001b[0mself\u001b[0m\u001b[0;34m.\u001b[0m\u001b[0m_getitem_iterable\u001b[0m\u001b[0;34m(\u001b[0m\u001b[0mkey\u001b[0m\u001b[0;34m,\u001b[0m \u001b[0maxis\u001b[0m\u001b[0;34m=\u001b[0m\u001b[0maxis\u001b[0m\u001b[0;34m)\u001b[0m\u001b[0;34m\u001b[0m\u001b[0m\n\u001b[0m\u001b[1;32m   1840\u001b[0m \u001b[0;34m\u001b[0m\u001b[0m\n\u001b[1;32m   1841\u001b[0m             \u001b[0;31m# nested tuple slicing\u001b[0m\u001b[0;34m\u001b[0m\u001b[0;34m\u001b[0m\u001b[0m\n",
      "\u001b[0;32m~/data/envs/quant3.5/lib/python3.5/site-packages/pandas/core/indexing.py\u001b[0m in \u001b[0;36m_getitem_iterable\u001b[0;34m(self, key, axis)\u001b[0m\n\u001b[1;32m   1131\u001b[0m         \u001b[0;32melse\u001b[0m\u001b[0;34m:\u001b[0m\u001b[0;34m\u001b[0m\u001b[0m\n\u001b[1;32m   1132\u001b[0m             \u001b[0;31m# A collection of keys\u001b[0m\u001b[0;34m\u001b[0m\u001b[0;34m\u001b[0m\u001b[0m\n\u001b[0;32m-> 1133\u001b[0;31m             \u001b[0mkeyarr\u001b[0m\u001b[0;34m,\u001b[0m \u001b[0mindexer\u001b[0m \u001b[0;34m=\u001b[0m \u001b[0mself\u001b[0m\u001b[0;34m.\u001b[0m\u001b[0m_get_listlike_indexer\u001b[0m\u001b[0;34m(\u001b[0m\u001b[0mkey\u001b[0m\u001b[0;34m,\u001b[0m \u001b[0maxis\u001b[0m\u001b[0;34m,\u001b[0m \u001b[0mraise_missing\u001b[0m\u001b[0;34m=\u001b[0m\u001b[0;32mFalse\u001b[0m\u001b[0;34m)\u001b[0m\u001b[0;34m\u001b[0m\u001b[0m\n\u001b[0m\u001b[1;32m   1134\u001b[0m             return self.obj._reindex_with_indexers(\n\u001b[1;32m   1135\u001b[0m                 \u001b[0;34m{\u001b[0m\u001b[0maxis\u001b[0m\u001b[0;34m:\u001b[0m \u001b[0;34m[\u001b[0m\u001b[0mkeyarr\u001b[0m\u001b[0;34m,\u001b[0m \u001b[0mindexer\u001b[0m\u001b[0;34m]\u001b[0m\u001b[0;34m}\u001b[0m\u001b[0;34m,\u001b[0m \u001b[0mcopy\u001b[0m\u001b[0;34m=\u001b[0m\u001b[0;32mTrue\u001b[0m\u001b[0;34m,\u001b[0m \u001b[0mallow_dups\u001b[0m\u001b[0;34m=\u001b[0m\u001b[0;32mTrue\u001b[0m\u001b[0;34m\u001b[0m\u001b[0m\n",
      "\u001b[0;32m~/data/envs/quant3.5/lib/python3.5/site-packages/pandas/core/indexing.py\u001b[0m in \u001b[0;36m_get_listlike_indexer\u001b[0;34m(self, key, axis, raise_missing)\u001b[0m\n\u001b[1;32m   1090\u001b[0m \u001b[0;34m\u001b[0m\u001b[0m\n\u001b[1;32m   1091\u001b[0m         self._validate_read_indexer(\n\u001b[0;32m-> 1092\u001b[0;31m             \u001b[0mkeyarr\u001b[0m\u001b[0;34m,\u001b[0m \u001b[0mindexer\u001b[0m\u001b[0;34m,\u001b[0m \u001b[0mo\u001b[0m\u001b[0;34m.\u001b[0m\u001b[0m_get_axis_number\u001b[0m\u001b[0;34m(\u001b[0m\u001b[0maxis\u001b[0m\u001b[0;34m)\u001b[0m\u001b[0;34m,\u001b[0m \u001b[0mraise_missing\u001b[0m\u001b[0;34m=\u001b[0m\u001b[0mraise_missing\u001b[0m\u001b[0;34m\u001b[0m\u001b[0m\n\u001b[0m\u001b[1;32m   1093\u001b[0m         )\n\u001b[1;32m   1094\u001b[0m         \u001b[0;32mreturn\u001b[0m \u001b[0mkeyarr\u001b[0m\u001b[0;34m,\u001b[0m \u001b[0mindexer\u001b[0m\u001b[0;34m\u001b[0m\u001b[0m\n",
      "\u001b[0;32m~/data/envs/quant3.5/lib/python3.5/site-packages/pandas/core/indexing.py\u001b[0m in \u001b[0;36m_validate_read_indexer\u001b[0;34m(self, key, indexer, axis, raise_missing)\u001b[0m\n\u001b[1;32m   1175\u001b[0m                 raise KeyError(\n\u001b[1;32m   1176\u001b[0m                     \"None of [{key}] are in the [{axis}]\".format(\n\u001b[0;32m-> 1177\u001b[0;31m                         \u001b[0mkey\u001b[0m\u001b[0;34m=\u001b[0m\u001b[0mkey\u001b[0m\u001b[0;34m,\u001b[0m \u001b[0maxis\u001b[0m\u001b[0;34m=\u001b[0m\u001b[0mself\u001b[0m\u001b[0;34m.\u001b[0m\u001b[0mobj\u001b[0m\u001b[0;34m.\u001b[0m\u001b[0m_get_axis_name\u001b[0m\u001b[0;34m(\u001b[0m\u001b[0maxis\u001b[0m\u001b[0;34m)\u001b[0m\u001b[0;34m\u001b[0m\u001b[0m\n\u001b[0m\u001b[1;32m   1178\u001b[0m                     )\n\u001b[1;32m   1179\u001b[0m                 )\n",
      "\u001b[0;31mKeyError\u001b[0m: \"None of [Index(['2019-11-10', '2019-11-12'], dtype='object', name='date')] are in the [index]\""
     ]
    }
   ],
   "source": [
    "df_final.loc[['2019-11-10', '2019-11-12']]"
   ]
  },
  {
   "cell_type": "markdown",
   "metadata": {},
   "source": [
    "Range of dates is also supported with `loc`."
   ]
  },
  {
   "cell_type": "code",
   "execution_count": 52,
   "metadata": {},
   "outputs": [
    {
     "data": {
      "text/html": [
       "<div>\n",
       "<style scoped>\n",
       "    .dataframe tbody tr th:only-of-type {\n",
       "        vertical-align: middle;\n",
       "    }\n",
       "\n",
       "    .dataframe tbody tr th {\n",
       "        vertical-align: top;\n",
       "    }\n",
       "\n",
       "    .dataframe thead th {\n",
       "        text-align: right;\n",
       "    }\n",
       "</style>\n",
       "<table border=\"1\" class=\"dataframe\">\n",
       "  <thead>\n",
       "    <tr style=\"text-align: right;\">\n",
       "      <th></th>\n",
       "      <th>ABC</th>\n",
       "      <th>DEF</th>\n",
       "    </tr>\n",
       "    <tr>\n",
       "      <th>date</th>\n",
       "      <th></th>\n",
       "      <th></th>\n",
       "    </tr>\n",
       "  </thead>\n",
       "  <tbody>\n",
       "    <tr>\n",
       "      <th>2019-11-10</th>\n",
       "      <td>11.71</td>\n",
       "      <td>9.35</td>\n",
       "    </tr>\n",
       "    <tr>\n",
       "      <th>2019-11-11</th>\n",
       "      <td>NaN</td>\n",
       "      <td>9.21</td>\n",
       "    </tr>\n",
       "    <tr>\n",
       "      <th>2019-11-12</th>\n",
       "      <td>11.79</td>\n",
       "      <td>NaN</td>\n",
       "    </tr>\n",
       "  </tbody>\n",
       "</table>\n",
       "</div>"
      ],
      "text/plain": [
       "              ABC   DEF\n",
       "date                   \n",
       "2019-11-10  11.71  9.35\n",
       "2019-11-11    NaN  9.21\n",
       "2019-11-12  11.79   NaN"
      ]
     },
     "execution_count": 52,
     "metadata": {},
     "output_type": "execute_result"
    }
   ],
   "source": [
    "df_final.loc[pd.to_datetime('2019-11-10'):pd.to_datetime('2019-11-12')]"
   ]
  },
  {
   "cell_type": "markdown",
   "metadata": {},
   "source": [
    "If you wish to select only certain columns, you may do so as follows:"
   ]
  },
  {
   "cell_type": "code",
   "execution_count": 56,
   "metadata": {},
   "outputs": [
    {
     "data": {
      "text/plain": [
       "date\n",
       "2019-11-10    9.35\n",
       "2019-11-11    9.21\n",
       "2019-11-12     NaN\n",
       "Name: DEF, dtype: float64"
      ]
     },
     "execution_count": 56,
     "metadata": {},
     "output_type": "execute_result"
    }
   ],
   "source": [
    "df_final.loc[pd.to_datetime('2019-11-10'):pd.to_datetime('2019-11-12')]['DEF']"
   ]
  },
  {
   "cell_type": "markdown",
   "metadata": {},
   "source": [
    "Or, if selecting a single cell, you do not need additional square brackets (`[]`):"
   ]
  },
  {
   "cell_type": "code",
   "execution_count": 54,
   "metadata": {},
   "outputs": [
    {
     "data": {
      "text/plain": [
       "9.35"
      ]
     },
     "execution_count": 54,
     "metadata": {},
     "output_type": "execute_result"
    }
   ],
   "source": [
    "df_final.loc[pd.to_datetime('2019-11-10'),'DEF']"
   ]
  },
  {
   "cell_type": "markdown",
   "metadata": {},
   "source": [
    "### 3.2. Data selection with `iloc`\n",
    "`iloc` is similar to `loc` but we pass index numbers instead. The results from `loc` above can be emulated here using `iloc`. Single row:"
   ]
  },
  {
   "cell_type": "code",
   "execution_count": 57,
   "metadata": {},
   "outputs": [
    {
     "data": {
      "text/plain": [
       "ABC    11.71\n",
       "DEF     9.35\n",
       "Name: 2019-11-10 00:00:00, dtype: float64"
      ]
     },
     "execution_count": 57,
     "metadata": {},
     "output_type": "execute_result"
    }
   ],
   "source": [
    "df_final.iloc[0]"
   ]
  },
  {
   "cell_type": "markdown",
   "metadata": {},
   "source": [
    "Multiple rows:"
   ]
  },
  {
   "cell_type": "code",
   "execution_count": 60,
   "metadata": {},
   "outputs": [
    {
     "data": {
      "text/html": [
       "<div>\n",
       "<style scoped>\n",
       "    .dataframe tbody tr th:only-of-type {\n",
       "        vertical-align: middle;\n",
       "    }\n",
       "\n",
       "    .dataframe tbody tr th {\n",
       "        vertical-align: top;\n",
       "    }\n",
       "\n",
       "    .dataframe thead th {\n",
       "        text-align: right;\n",
       "    }\n",
       "</style>\n",
       "<table border=\"1\" class=\"dataframe\">\n",
       "  <thead>\n",
       "    <tr style=\"text-align: right;\">\n",
       "      <th></th>\n",
       "      <th>ABC</th>\n",
       "      <th>DEF</th>\n",
       "    </tr>\n",
       "    <tr>\n",
       "      <th>date</th>\n",
       "      <th></th>\n",
       "      <th></th>\n",
       "    </tr>\n",
       "  </thead>\n",
       "  <tbody>\n",
       "    <tr>\n",
       "      <th>2019-11-10</th>\n",
       "      <td>11.71</td>\n",
       "      <td>9.35</td>\n",
       "    </tr>\n",
       "    <tr>\n",
       "      <th>2019-11-12</th>\n",
       "      <td>11.79</td>\n",
       "      <td>NaN</td>\n",
       "    </tr>\n",
       "  </tbody>\n",
       "</table>\n",
       "</div>"
      ],
      "text/plain": [
       "              ABC   DEF\n",
       "date                   \n",
       "2019-11-10  11.71  9.35\n",
       "2019-11-12  11.79   NaN"
      ]
     },
     "execution_count": 60,
     "metadata": {},
     "output_type": "execute_result"
    }
   ],
   "source": [
    "df_final.iloc[[0, 2]]"
   ]
  },
  {
   "cell_type": "markdown",
   "metadata": {},
   "source": [
    "Range of rows (in here, when we do `0:3` that means \"get rows starting from index 0, keeps getting until there are 3 elements\"):"
   ]
  },
  {
   "cell_type": "code",
   "execution_count": 62,
   "metadata": {},
   "outputs": [
    {
     "data": {
      "text/html": [
       "<div>\n",
       "<style scoped>\n",
       "    .dataframe tbody tr th:only-of-type {\n",
       "        vertical-align: middle;\n",
       "    }\n",
       "\n",
       "    .dataframe tbody tr th {\n",
       "        vertical-align: top;\n",
       "    }\n",
       "\n",
       "    .dataframe thead th {\n",
       "        text-align: right;\n",
       "    }\n",
       "</style>\n",
       "<table border=\"1\" class=\"dataframe\">\n",
       "  <thead>\n",
       "    <tr style=\"text-align: right;\">\n",
       "      <th></th>\n",
       "      <th>ABC</th>\n",
       "      <th>DEF</th>\n",
       "    </tr>\n",
       "    <tr>\n",
       "      <th>date</th>\n",
       "      <th></th>\n",
       "      <th></th>\n",
       "    </tr>\n",
       "  </thead>\n",
       "  <tbody>\n",
       "    <tr>\n",
       "      <th>2019-11-10</th>\n",
       "      <td>11.71</td>\n",
       "      <td>9.35</td>\n",
       "    </tr>\n",
       "    <tr>\n",
       "      <th>2019-11-11</th>\n",
       "      <td>NaN</td>\n",
       "      <td>9.21</td>\n",
       "    </tr>\n",
       "    <tr>\n",
       "      <th>2019-11-12</th>\n",
       "      <td>11.79</td>\n",
       "      <td>NaN</td>\n",
       "    </tr>\n",
       "  </tbody>\n",
       "</table>\n",
       "</div>"
      ],
      "text/plain": [
       "              ABC   DEF\n",
       "date                   \n",
       "2019-11-10  11.71  9.35\n",
       "2019-11-11    NaN  9.21\n",
       "2019-11-12  11.79   NaN"
      ]
     },
     "execution_count": 62,
     "metadata": {},
     "output_type": "execute_result"
    }
   ],
   "source": [
    "df_final.iloc[0:3]"
   ]
  },
  {
   "cell_type": "markdown",
   "metadata": {},
   "source": [
    "to select a single column:"
   ]
  },
  {
   "cell_type": "code",
   "execution_count": 68,
   "metadata": {},
   "outputs": [
    {
     "data": {
      "text/plain": [
       "date\n",
       "2019-11-10    9.35\n",
       "2019-11-11    9.21\n",
       "2019-11-12     NaN\n",
       "Name: DEF, dtype: float64"
      ]
     },
     "execution_count": 68,
     "metadata": {},
     "output_type": "execute_result"
    }
   ],
   "source": [
    "df_final.iloc[0:3, 1]"
   ]
  },
  {
   "cell_type": "markdown",
   "metadata": {},
   "source": [
    "And finally, single cell:"
   ]
  },
  {
   "cell_type": "code",
   "execution_count": 69,
   "metadata": {},
   "outputs": [
    {
     "data": {
      "text/plain": [
       "9.35"
      ]
     },
     "execution_count": 69,
     "metadata": {},
     "output_type": "execute_result"
    }
   ],
   "source": [
    "df_final.iloc[0, 1]"
   ]
  },
  {
   "cell_type": "markdown",
   "metadata": {},
   "source": [
    "## 4. Filtering with `loc`\n",
    "\n",
    "We can also filter based on certain conditions with `loc` function. Let's see a couple of examples here.\n",
    "\n",
    "**For a complete list of datetime-related functions, [check out this documentation](https://pandas.pydata.org/pandas-docs/stable/user_guide/timeseries.html).**\n",
    "\n",
    "We need more data for this example, so let's use the initial `df` object with its `date` field converted into index:"
   ]
  },
  {
   "cell_type": "code",
   "execution_count": 84,
   "metadata": {},
   "outputs": [
    {
     "data": {
      "text/html": [
       "<div>\n",
       "<style scoped>\n",
       "    .dataframe tbody tr th:only-of-type {\n",
       "        vertical-align: middle;\n",
       "    }\n",
       "\n",
       "    .dataframe tbody tr th {\n",
       "        vertical-align: top;\n",
       "    }\n",
       "\n",
       "    .dataframe thead th {\n",
       "        text-align: right;\n",
       "    }\n",
       "</style>\n",
       "<table border=\"1\" class=\"dataframe\">\n",
       "  <thead>\n",
       "    <tr style=\"text-align: right;\">\n",
       "      <th></th>\n",
       "      <th>open</th>\n",
       "      <th>high</th>\n",
       "      <th>low</th>\n",
       "      <th>close</th>\n",
       "      <th>volume</th>\n",
       "      <th>changed</th>\n",
       "      <th>changep</th>\n",
       "      <th>adjclose</th>\n",
       "      <th>tradeval</th>\n",
       "      <th>tradevol</th>\n",
       "    </tr>\n",
       "    <tr>\n",
       "      <th>date</th>\n",
       "      <th></th>\n",
       "      <th></th>\n",
       "      <th></th>\n",
       "      <th></th>\n",
       "      <th></th>\n",
       "      <th></th>\n",
       "      <th></th>\n",
       "      <th></th>\n",
       "      <th></th>\n",
       "      <th></th>\n",
       "    </tr>\n",
       "  </thead>\n",
       "  <tbody>\n",
       "    <tr>\n",
       "      <th>2019-10-31</th>\n",
       "      <td>313.10</td>\n",
       "      <td>319.00</td>\n",
       "      <td>313.00</td>\n",
       "      <td>314.92</td>\n",
       "      <td>5066956</td>\n",
       "      <td>-0.09</td>\n",
       "      <td>-0.03%</td>\n",
       "      <td>314.92</td>\n",
       "      <td>1.599107e+09</td>\n",
       "      <td>61746</td>\n",
       "    </tr>\n",
       "    <tr>\n",
       "      <th>2019-10-30</th>\n",
       "      <td>313.00</td>\n",
       "      <td>318.79</td>\n",
       "      <td>309.97</td>\n",
       "      <td>315.01</td>\n",
       "      <td>9641810</td>\n",
       "      <td>-1.21</td>\n",
       "      <td>-0.38%</td>\n",
       "      <td>315.01</td>\n",
       "      <td>3.024126e+09</td>\n",
       "      <td>101674</td>\n",
       "    </tr>\n",
       "    <tr>\n",
       "      <th>2019-10-29</th>\n",
       "      <td>319.99</td>\n",
       "      <td>324.30</td>\n",
       "      <td>314.75</td>\n",
       "      <td>316.22</td>\n",
       "      <td>12684267</td>\n",
       "      <td>-11.49</td>\n",
       "      <td>-3.51%</td>\n",
       "      <td>316.22</td>\n",
       "      <td>4.041983e+09</td>\n",
       "      <td>143593</td>\n",
       "    </tr>\n",
       "    <tr>\n",
       "      <th>2019-10-28</th>\n",
       "      <td>327.54</td>\n",
       "      <td>340.84</td>\n",
       "      <td>322.60</td>\n",
       "      <td>327.71</td>\n",
       "      <td>18870286</td>\n",
       "      <td>-0.42</td>\n",
       "      <td>-0.13%</td>\n",
       "      <td>327.71</td>\n",
       "      <td>6.242744e+09</td>\n",
       "      <td>222826</td>\n",
       "    </tr>\n",
       "    <tr>\n",
       "      <th>2019-10-25</th>\n",
       "      <td>297.72</td>\n",
       "      <td>330.00</td>\n",
       "      <td>296.11</td>\n",
       "      <td>328.13</td>\n",
       "      <td>30006091</td>\n",
       "      <td>28.45</td>\n",
       "      <td>9.49%</td>\n",
       "      <td>328.13</td>\n",
       "      <td>9.526807e+09</td>\n",
       "      <td>350914</td>\n",
       "    </tr>\n",
       "  </tbody>\n",
       "</table>\n",
       "</div>"
      ],
      "text/plain": [
       "              open    high     low   close    volume  changed changep  \\\n",
       "date                                                                    \n",
       "2019-10-31  313.10  319.00  313.00  314.92   5066956    -0.09  -0.03%   \n",
       "2019-10-30  313.00  318.79  309.97  315.01   9641810    -1.21  -0.38%   \n",
       "2019-10-29  319.99  324.30  314.75  316.22  12684267   -11.49  -3.51%   \n",
       "2019-10-28  327.54  340.84  322.60  327.71  18870286    -0.42  -0.13%   \n",
       "2019-10-25  297.72  330.00  296.11  328.13  30006091    28.45   9.49%   \n",
       "\n",
       "            adjclose      tradeval  tradevol  \n",
       "date                                          \n",
       "2019-10-31    314.92  1.599107e+09     61746  \n",
       "2019-10-30    315.01  3.024126e+09    101674  \n",
       "2019-10-29    316.22  4.041983e+09    143593  \n",
       "2019-10-28    327.71  6.242744e+09    222826  \n",
       "2019-10-25    328.13  9.526807e+09    350914  "
      ]
     },
     "execution_count": 84,
     "metadata": {},
     "output_type": "execute_result"
    }
   ],
   "source": [
    "df1 = df.set_index('date')\n",
    "df1.index = df1.index.astype('datetime64[ns]')\n",
    "df1.head(5)"
   ]
  },
  {
   "cell_type": "markdown",
   "metadata": {},
   "source": [
    "### 4.1. Simple datetime selection\n",
    "\n",
    "Alright, so first, a simple selection:"
   ]
  },
  {
   "cell_type": "code",
   "execution_count": 86,
   "metadata": {},
   "outputs": [
    {
     "data": {
      "text/html": [
       "<div>\n",
       "<style scoped>\n",
       "    .dataframe tbody tr th:only-of-type {\n",
       "        vertical-align: middle;\n",
       "    }\n",
       "\n",
       "    .dataframe tbody tr th {\n",
       "        vertical-align: top;\n",
       "    }\n",
       "\n",
       "    .dataframe thead th {\n",
       "        text-align: right;\n",
       "    }\n",
       "</style>\n",
       "<table border=\"1\" class=\"dataframe\">\n",
       "  <thead>\n",
       "    <tr style=\"text-align: right;\">\n",
       "      <th></th>\n",
       "      <th>open</th>\n",
       "      <th>high</th>\n",
       "      <th>low</th>\n",
       "      <th>close</th>\n",
       "      <th>volume</th>\n",
       "      <th>changed</th>\n",
       "      <th>changep</th>\n",
       "      <th>adjclose</th>\n",
       "      <th>tradeval</th>\n",
       "      <th>tradevol</th>\n",
       "    </tr>\n",
       "    <tr>\n",
       "      <th>date</th>\n",
       "      <th></th>\n",
       "      <th></th>\n",
       "      <th></th>\n",
       "      <th></th>\n",
       "      <th></th>\n",
       "      <th></th>\n",
       "      <th></th>\n",
       "      <th></th>\n",
       "      <th></th>\n",
       "      <th></th>\n",
       "    </tr>\n",
       "  </thead>\n",
       "  <tbody>\n",
       "    <tr>\n",
       "      <th>2019-10-25</th>\n",
       "      <td>297.72</td>\n",
       "      <td>330.0</td>\n",
       "      <td>296.11</td>\n",
       "      <td>328.13</td>\n",
       "      <td>30006091</td>\n",
       "      <td>28.45</td>\n",
       "      <td>9.49%</td>\n",
       "      <td>328.13</td>\n",
       "      <td>9.526807e+09</td>\n",
       "      <td>350914</td>\n",
       "    </tr>\n",
       "  </tbody>\n",
       "</table>\n",
       "</div>"
      ],
      "text/plain": [
       "              open   high     low   close    volume  changed changep  \\\n",
       "date                                                                   \n",
       "2019-10-25  297.72  330.0  296.11  328.13  30006091    28.45   9.49%   \n",
       "\n",
       "            adjclose      tradeval  tradevol  \n",
       "date                                          \n",
       "2019-10-25    328.13  9.526807e+09    350914  "
      ]
     },
     "execution_count": 86,
     "metadata": {},
     "output_type": "execute_result"
    }
   ],
   "source": [
    "df1.loc[df1.index == '2019-10-25']"
   ]
  },
  {
   "cell_type": "markdown",
   "metadata": {},
   "source": [
    "### 4.2. Multiple conditions\n",
    "\n",
    "Multiple conditions are also supported with operators `&` and `|`."
   ]
  },
  {
   "cell_type": "code",
   "execution_count": 91,
   "metadata": {},
   "outputs": [
    {
     "data": {
      "text/html": [
       "<div>\n",
       "<style scoped>\n",
       "    .dataframe tbody tr th:only-of-type {\n",
       "        vertical-align: middle;\n",
       "    }\n",
       "\n",
       "    .dataframe tbody tr th {\n",
       "        vertical-align: top;\n",
       "    }\n",
       "\n",
       "    .dataframe thead th {\n",
       "        text-align: right;\n",
       "    }\n",
       "</style>\n",
       "<table border=\"1\" class=\"dataframe\">\n",
       "  <thead>\n",
       "    <tr style=\"text-align: right;\">\n",
       "      <th></th>\n",
       "      <th>open</th>\n",
       "      <th>high</th>\n",
       "      <th>low</th>\n",
       "      <th>close</th>\n",
       "      <th>volume</th>\n",
       "      <th>changed</th>\n",
       "      <th>changep</th>\n",
       "      <th>adjclose</th>\n",
       "      <th>tradeval</th>\n",
       "      <th>tradevol</th>\n",
       "    </tr>\n",
       "    <tr>\n",
       "      <th>date</th>\n",
       "      <th></th>\n",
       "      <th></th>\n",
       "      <th></th>\n",
       "      <th></th>\n",
       "      <th></th>\n",
       "      <th></th>\n",
       "      <th></th>\n",
       "      <th></th>\n",
       "      <th></th>\n",
       "      <th></th>\n",
       "    </tr>\n",
       "  </thead>\n",
       "  <tbody>\n",
       "    <tr>\n",
       "      <th>2019-10-28</th>\n",
       "      <td>327.54</td>\n",
       "      <td>340.84</td>\n",
       "      <td>322.60</td>\n",
       "      <td>327.71</td>\n",
       "      <td>18870286</td>\n",
       "      <td>-0.42</td>\n",
       "      <td>-0.13%</td>\n",
       "      <td>327.71</td>\n",
       "      <td>6.242744e+09</td>\n",
       "      <td>222826</td>\n",
       "    </tr>\n",
       "    <tr>\n",
       "      <th>2019-10-25</th>\n",
       "      <td>297.72</td>\n",
       "      <td>330.00</td>\n",
       "      <td>296.11</td>\n",
       "      <td>328.13</td>\n",
       "      <td>30006091</td>\n",
       "      <td>28.45</td>\n",
       "      <td>9.49%</td>\n",
       "      <td>328.13</td>\n",
       "      <td>9.526807e+09</td>\n",
       "      <td>350914</td>\n",
       "    </tr>\n",
       "  </tbody>\n",
       "</table>\n",
       "</div>"
      ],
      "text/plain": [
       "              open    high     low   close    volume  changed changep  \\\n",
       "date                                                                    \n",
       "2019-10-28  327.54  340.84  322.60  327.71  18870286    -0.42  -0.13%   \n",
       "2019-10-25  297.72  330.00  296.11  328.13  30006091    28.45   9.49%   \n",
       "\n",
       "            adjclose      tradeval  tradevol  \n",
       "date                                          \n",
       "2019-10-28    327.71  6.242744e+09    222826  \n",
       "2019-10-25    328.13  9.526807e+09    350914  "
      ]
     },
     "execution_count": 91,
     "metadata": {},
     "output_type": "execute_result"
    }
   ],
   "source": [
    "df1.loc[(df1.index == '2019-10-25') | (df1.index == pd.to_datetime('2019-10-28'))]"
   ]
  },
  {
   "cell_type": "markdown",
   "metadata": {},
   "source": [
    "### 4.3. Date range\n",
    "\n",
    "`pd.date_range()` function can be used to (surprisingly) get a list of dates that we can then use in our selection."
   ]
  },
  {
   "cell_type": "code",
   "execution_count": 104,
   "metadata": {},
   "outputs": [
    {
     "data": {
      "text/html": [
       "<div>\n",
       "<style scoped>\n",
       "    .dataframe tbody tr th:only-of-type {\n",
       "        vertical-align: middle;\n",
       "    }\n",
       "\n",
       "    .dataframe tbody tr th {\n",
       "        vertical-align: top;\n",
       "    }\n",
       "\n",
       "    .dataframe thead th {\n",
       "        text-align: right;\n",
       "    }\n",
       "</style>\n",
       "<table border=\"1\" class=\"dataframe\">\n",
       "  <thead>\n",
       "    <tr style=\"text-align: right;\">\n",
       "      <th></th>\n",
       "      <th>open</th>\n",
       "      <th>high</th>\n",
       "      <th>low</th>\n",
       "      <th>close</th>\n",
       "      <th>volume</th>\n",
       "      <th>changed</th>\n",
       "      <th>changep</th>\n",
       "      <th>adjclose</th>\n",
       "      <th>tradeval</th>\n",
       "      <th>tradevol</th>\n",
       "    </tr>\n",
       "    <tr>\n",
       "      <th>date</th>\n",
       "      <th></th>\n",
       "      <th></th>\n",
       "      <th></th>\n",
       "      <th></th>\n",
       "      <th></th>\n",
       "      <th></th>\n",
       "      <th></th>\n",
       "      <th></th>\n",
       "      <th></th>\n",
       "      <th></th>\n",
       "    </tr>\n",
       "  </thead>\n",
       "  <tbody>\n",
       "    <tr>\n",
       "      <th>2019-10-10</th>\n",
       "      <td>245.28</td>\n",
       "      <td>249.280</td>\n",
       "      <td>241.58</td>\n",
       "      <td>244.74</td>\n",
       "      <td>6313417</td>\n",
       "      <td>0.21</td>\n",
       "      <td>0.09%</td>\n",
       "      <td>244.74</td>\n",
       "      <td>1.550766e+09</td>\n",
       "      <td>80861</td>\n",
       "    </tr>\n",
       "    <tr>\n",
       "      <th>2019-10-09</th>\n",
       "      <td>241.32</td>\n",
       "      <td>247.295</td>\n",
       "      <td>240.65</td>\n",
       "      <td>244.53</td>\n",
       "      <td>6935033</td>\n",
       "      <td>4.48</td>\n",
       "      <td>1.87%</td>\n",
       "      <td>244.53</td>\n",
       "      <td>1.698095e+09</td>\n",
       "      <td>93687</td>\n",
       "    </tr>\n",
       "    <tr>\n",
       "      <th>2019-10-08</th>\n",
       "      <td>235.87</td>\n",
       "      <td>243.940</td>\n",
       "      <td>234.50</td>\n",
       "      <td>240.05</td>\n",
       "      <td>8702338</td>\n",
       "      <td>2.33</td>\n",
       "      <td>0.98%</td>\n",
       "      <td>240.05</td>\n",
       "      <td>2.088505e+09</td>\n",
       "      <td>117031</td>\n",
       "    </tr>\n",
       "    <tr>\n",
       "      <th>2019-10-07</th>\n",
       "      <td>229.80</td>\n",
       "      <td>238.560</td>\n",
       "      <td>228.55</td>\n",
       "      <td>237.72</td>\n",
       "      <td>8086957</td>\n",
       "      <td>6.29</td>\n",
       "      <td>2.72%</td>\n",
       "      <td>237.72</td>\n",
       "      <td>1.899930e+09</td>\n",
       "      <td>97331</td>\n",
       "    </tr>\n",
       "    <tr>\n",
       "      <th>2019-10-04</th>\n",
       "      <td>231.61</td>\n",
       "      <td>234.780</td>\n",
       "      <td>228.07</td>\n",
       "      <td>231.43</td>\n",
       "      <td>8021180</td>\n",
       "      <td>-1.60</td>\n",
       "      <td>-0.69%</td>\n",
       "      <td>231.43</td>\n",
       "      <td>1.852114e+09</td>\n",
       "      <td>106994</td>\n",
       "    </tr>\n",
       "    <tr>\n",
       "      <th>2019-10-03</th>\n",
       "      <td>231.86</td>\n",
       "      <td>234.480</td>\n",
       "      <td>224.28</td>\n",
       "      <td>233.03</td>\n",
       "      <td>15137763</td>\n",
       "      <td>-10.10</td>\n",
       "      <td>-4.15%</td>\n",
       "      <td>233.03</td>\n",
       "      <td>3.469312e+09</td>\n",
       "      <td>230596</td>\n",
       "    </tr>\n",
       "    <tr>\n",
       "      <th>2019-10-02</th>\n",
       "      <td>243.29</td>\n",
       "      <td>244.650</td>\n",
       "      <td>239.43</td>\n",
       "      <td>243.13</td>\n",
       "      <td>6256548</td>\n",
       "      <td>-1.56</td>\n",
       "      <td>-0.64%</td>\n",
       "      <td>243.13</td>\n",
       "      <td>1.516370e+09</td>\n",
       "      <td>94931</td>\n",
       "    </tr>\n",
       "    <tr>\n",
       "      <th>2019-10-01</th>\n",
       "      <td>241.50</td>\n",
       "      <td>245.950</td>\n",
       "      <td>239.13</td>\n",
       "      <td>244.69</td>\n",
       "      <td>6196290</td>\n",
       "      <td>3.82</td>\n",
       "      <td>1.59%</td>\n",
       "      <td>244.69</td>\n",
       "      <td>1.503755e+09</td>\n",
       "      <td>101684</td>\n",
       "    </tr>\n",
       "  </tbody>\n",
       "</table>\n",
       "</div>"
      ],
      "text/plain": [
       "              open     high     low   close    volume  changed changep  \\\n",
       "date                                                                     \n",
       "2019-10-10  245.28  249.280  241.58  244.74   6313417     0.21   0.09%   \n",
       "2019-10-09  241.32  247.295  240.65  244.53   6935033     4.48   1.87%   \n",
       "2019-10-08  235.87  243.940  234.50  240.05   8702338     2.33   0.98%   \n",
       "2019-10-07  229.80  238.560  228.55  237.72   8086957     6.29   2.72%   \n",
       "2019-10-04  231.61  234.780  228.07  231.43   8021180    -1.60  -0.69%   \n",
       "2019-10-03  231.86  234.480  224.28  233.03  15137763   -10.10  -4.15%   \n",
       "2019-10-02  243.29  244.650  239.43  243.13   6256548    -1.56  -0.64%   \n",
       "2019-10-01  241.50  245.950  239.13  244.69   6196290     3.82   1.59%   \n",
       "\n",
       "            adjclose      tradeval  tradevol  \n",
       "date                                          \n",
       "2019-10-10    244.74  1.550766e+09     80861  \n",
       "2019-10-09    244.53  1.698095e+09     93687  \n",
       "2019-10-08    240.05  2.088505e+09    117031  \n",
       "2019-10-07    237.72  1.899930e+09     97331  \n",
       "2019-10-04    231.43  1.852114e+09    106994  \n",
       "2019-10-03    233.03  3.469312e+09    230596  \n",
       "2019-10-02    243.13  1.516370e+09     94931  \n",
       "2019-10-01    244.69  1.503755e+09    101684  "
      ]
     },
     "execution_count": 104,
     "metadata": {},
     "output_type": "execute_result"
    }
   ],
   "source": [
    "df1.loc[df1.index.isin(pd.date_range('2019-10-01', '2019-10-10'))]"
   ]
  },
  {
   "cell_type": "code",
   "execution_count": 111,
   "metadata": {},
   "outputs": [
    {
     "data": {
      "text/html": [
       "<div>\n",
       "<style scoped>\n",
       "    .dataframe tbody tr th:only-of-type {\n",
       "        vertical-align: middle;\n",
       "    }\n",
       "\n",
       "    .dataframe tbody tr th {\n",
       "        vertical-align: top;\n",
       "    }\n",
       "\n",
       "    .dataframe thead th {\n",
       "        text-align: right;\n",
       "    }\n",
       "</style>\n",
       "<table border=\"1\" class=\"dataframe\">\n",
       "  <thead>\n",
       "    <tr style=\"text-align: right;\">\n",
       "      <th></th>\n",
       "      <th>open</th>\n",
       "      <th>high</th>\n",
       "      <th>low</th>\n",
       "      <th>close</th>\n",
       "      <th>volume</th>\n",
       "      <th>changed</th>\n",
       "      <th>changep</th>\n",
       "      <th>adjclose</th>\n",
       "      <th>tradeval</th>\n",
       "      <th>tradevol</th>\n",
       "    </tr>\n",
       "    <tr>\n",
       "      <th>date</th>\n",
       "      <th></th>\n",
       "      <th></th>\n",
       "      <th></th>\n",
       "      <th></th>\n",
       "      <th></th>\n",
       "      <th></th>\n",
       "      <th></th>\n",
       "      <th></th>\n",
       "      <th></th>\n",
       "      <th></th>\n",
       "    </tr>\n",
       "  </thead>\n",
       "  <tbody>\n",
       "    <tr>\n",
       "      <th>2019-10-29</th>\n",
       "      <td>319.99</td>\n",
       "      <td>324.30</td>\n",
       "      <td>314.75</td>\n",
       "      <td>316.22</td>\n",
       "      <td>12684267</td>\n",
       "      <td>-11.49</td>\n",
       "      <td>-3.51%</td>\n",
       "      <td>316.22</td>\n",
       "      <td>4.041983e+09</td>\n",
       "      <td>143593</td>\n",
       "    </tr>\n",
       "    <tr>\n",
       "      <th>2019-10-22</th>\n",
       "      <td>254.32</td>\n",
       "      <td>258.33</td>\n",
       "      <td>250.85</td>\n",
       "      <td>255.58</td>\n",
       "      <td>4625095</td>\n",
       "      <td>2.08</td>\n",
       "      <td>0.82%</td>\n",
       "      <td>255.58</td>\n",
       "      <td>1.181380e+09</td>\n",
       "      <td>56276</td>\n",
       "    </tr>\n",
       "    <tr>\n",
       "      <th>2019-10-15</th>\n",
       "      <td>257.70</td>\n",
       "      <td>260.00</td>\n",
       "      <td>254.12</td>\n",
       "      <td>257.89</td>\n",
       "      <td>6479456</td>\n",
       "      <td>0.93</td>\n",
       "      <td>0.36%</td>\n",
       "      <td>257.89</td>\n",
       "      <td>1.670790e+09</td>\n",
       "      <td>86511</td>\n",
       "    </tr>\n",
       "    <tr>\n",
       "      <th>2019-10-08</th>\n",
       "      <td>235.87</td>\n",
       "      <td>243.94</td>\n",
       "      <td>234.50</td>\n",
       "      <td>240.05</td>\n",
       "      <td>8702338</td>\n",
       "      <td>2.33</td>\n",
       "      <td>0.98%</td>\n",
       "      <td>240.05</td>\n",
       "      <td>2.088505e+09</td>\n",
       "      <td>117031</td>\n",
       "    </tr>\n",
       "    <tr>\n",
       "      <th>2019-10-01</th>\n",
       "      <td>241.50</td>\n",
       "      <td>245.95</td>\n",
       "      <td>239.13</td>\n",
       "      <td>244.69</td>\n",
       "      <td>6196290</td>\n",
       "      <td>3.82</td>\n",
       "      <td>1.59%</td>\n",
       "      <td>244.69</td>\n",
       "      <td>1.503755e+09</td>\n",
       "      <td>101684</td>\n",
       "    </tr>\n",
       "  </tbody>\n",
       "</table>\n",
       "</div>"
      ],
      "text/plain": [
       "              open    high     low   close    volume  changed changep  \\\n",
       "date                                                                    \n",
       "2019-10-29  319.99  324.30  314.75  316.22  12684267   -11.49  -3.51%   \n",
       "2019-10-22  254.32  258.33  250.85  255.58   4625095     2.08   0.82%   \n",
       "2019-10-15  257.70  260.00  254.12  257.89   6479456     0.93   0.36%   \n",
       "2019-10-08  235.87  243.94  234.50  240.05   8702338     2.33   0.98%   \n",
       "2019-10-01  241.50  245.95  239.13  244.69   6196290     3.82   1.59%   \n",
       "\n",
       "            adjclose      tradeval  tradevol  \n",
       "date                                          \n",
       "2019-10-29    316.22  4.041983e+09    143593  \n",
       "2019-10-22    255.58  1.181380e+09     56276  \n",
       "2019-10-15    257.89  1.670790e+09     86511  \n",
       "2019-10-08    240.05  2.088505e+09    117031  \n",
       "2019-10-01    244.69  1.503755e+09    101684  "
      ]
     },
     "execution_count": 111,
     "metadata": {},
     "output_type": "execute_result"
    }
   ],
   "source": [
    "df1.loc[df1.index.isin(pd.date_range('2019-10-01', '2019-10-31', freq='7d'))]"
   ]
  },
  {
   "cell_type": "code",
   "execution_count": null,
   "metadata": {},
   "outputs": [],
   "source": []
  },
  {
   "cell_type": "markdown",
   "metadata": {},
   "source": [
    "--------\n",
    "# Congratulations!\n",
    "\n",
    "You have completed the most complex part of **Section 1** of this course, and, arguably, the most challenging part in this course if you have just started learning about Python and pandas. The next lessons will build on top of what you have learned so far. Keep it up!\n",
    "\n",
    "## There are so many functions, do I really need to remember all of them?\n",
    "\n",
    "The functions presented here are not nearly half ot pandas' capabilities. I don't expect you to be able to remember them all. When you need to look for certain tasks, Google and StackOverflow are your best friends."
   ]
  },
  {
   "cell_type": "code",
   "execution_count": null,
   "metadata": {},
   "outputs": [],
   "source": []
  }
 ],
 "metadata": {
  "kernelspec": {
   "display_name": "Python 3",
   "language": "python",
   "name": "python3"
  },
  "language_info": {
   "codemirror_mode": {
    "name": "ipython",
    "version": 3
   },
   "file_extension": ".py",
   "mimetype": "text/x-python",
   "name": "python",
   "nbconvert_exporter": "python",
   "pygments_lexer": "ipython3",
   "version": "3.7.1"
  }
 },
 "nbformat": 4,
 "nbformat_minor": 4
}
