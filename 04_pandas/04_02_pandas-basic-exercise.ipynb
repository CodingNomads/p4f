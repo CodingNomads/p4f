{
 "cells": [
  {
   "cell_type": "markdown",
   "metadata": {},
   "source": [
    "# Pandas (Basic) Exercise"
   ]
  },
  {
   "cell_type": "code",
   "execution_count": null,
   "metadata": {},
   "outputs": [],
   "source": [
    "# Todo: import pandas and tqdm modules.\n",
    "import ... as ...\n",
    "from ... import ...\n",
    "\n",
    "tickers = ['TSLA', 'MSFT', 'GE']\n",
    "\n",
    "def get_prices(tickers):\n",
    "    # Todo: Initialize a DataFrame with a single column 'date'.\n",
    "    prices_df = ...\n",
    "    \n",
    "    for ticker in tqdm(tickers):\n",
    "        # Todo: Read from CSV. Don't forget to use \"format\".\n",
    "        df = ...\n",
    "        \n",
    "        # Todo: Get column 'date' and 'adjclose'.\n",
    "        df = ...\n",
    "        \n",
    "        # Todo: Rename 'adjclose' to ticker name.\n",
    "        df = ...\n",
    "        \n",
    "        # Todo: Merge `df` into `prices_df`.\n",
    "        prices_df = ...\n",
    "    \n",
    "    # Todo: Set 'date' field data type as a proper datetime object.\n",
    "    prices_df.date = ...\n",
    "    \n",
    "    # Todo: Sort by date in ascending order.\n",
    "    prices_df = ...\n",
    "    \n",
    "    # Todo: Set 'date' object as `prices_df`'s index. \n",
    "    prices_df = ...\n",
    "    return prices_df"
   ]
  },
  {
   "cell_type": "code",
   "execution_count": null,
   "metadata": {},
   "outputs": [],
   "source": [
    "# Todo: call get_prices function.\n",
    "prices_df = ...\n",
    "prices_df"
   ]
  },
  {
   "cell_type": "markdown",
   "metadata": {},
   "source": [
    "When correct, you should see a result like this:\n",
    "\n",
    "![pandas-basic answer](media/pandas-basic-answer.png)"
   ]
  }
 ],
 "metadata": {
  "kernelspec": {
   "display_name": "Python 3",
   "language": "python",
   "name": "python3"
  },
  "language_info": {
   "codemirror_mode": {
    "name": "ipython",
    "version": 3
   },
   "file_extension": ".py",
   "mimetype": "text/x-python",
   "name": "python",
   "nbconvert_exporter": "python",
   "pygments_lexer": "ipython3",
   "version": "3.7.1"
  }
 },
 "nbformat": 4,
 "nbformat_minor": 4
}
