{
 "cells": [
  {
   "cell_type": "code",
   "execution_count": 1,
   "metadata": {},
   "outputs": [
    {
     "data": {
      "text/html": [
       "<!-- Omit this block. This is used for styling this Notebook. -->\n",
       "<style>\n",
       ".alert-info {\n",
       "    color: #000000 !important;\n",
       "    background-color: #FFFFFF !important;\n",
       "}\n",
       "</style>\n"
      ],
      "text/plain": [
       "<IPython.core.display.HTML object>"
      ]
     },
     "metadata": {},
     "output_type": "display_data"
    }
   ],
   "source": [
    "%%html\n",
    "<!-- Omit this block. This is used for styling this Notebook. -->\n",
    "<style>\n",
    ".alert-info {\n",
    "    color: #000000 !important;\n",
    "    background-color: #FFFFFF !important;\n",
    "}\n",
    "</style>"
   ]
  },
  {
   "cell_type": "markdown",
   "metadata": {},
   "source": [
    "# Project 1: Visualize Financial Data\n",
    "\n",
    "*Comparing FANG Stocks With S&P 500*\n",
    "\n",
    "In this project, we will analyze the returns of high-performing technology stocks - Facebook, Amazon, Netflix, and Google and compare them with the returns of S&P 500 index.\n",
    "\n",
    "<div class=\"alert alert-info\">\n",
    "    Fill in missing parts under each <code># Todo</code> comment and run the code block until it outputs a <b>\"Passed!\"</b> message.\n",
    "</div>"
   ]
  },
  {
   "cell_type": "code",
   "execution_count": null,
   "metadata": {},
   "outputs": [],
   "source": [
    "# Do not change anything in this code block.\n",
    "\n",
    "from tester import *\n",
    "import requests\n",
    "import pandas as pd\n",
    "import os\n",
    "import matplotlib.pyplot as plt\n",
    "from tqdm import tqdm\n",
    "from datetime import date\n",
    "\n",
    "API_PATH = \"\"\"http://app.quotemedia.com/quotetools/getHistoryDownload.csv?&webmasterId=501&startDay={sd}&startMonth={sm}&startYear={sy}&endDay={ed}&endMonth={em}&endYear={ey}&isRanged=true&symbol={sym}\"\"\"\n",
    "\n",
    "start_date, start_month, start_year = 2, 1, 2014\n",
    "end_date, end_month, end_year = 31, 10, 2019\n",
    "\n",
    "# In QuoteMedia, months start from 0, so we adjust these variables.\n",
    "start_month = start_month - 1\n",
    "end_month = end_month - 1\n",
    "\n",
    "tickers = ['SPY', 'FB', 'AMZN', 'NFLX', 'GOOG']"
   ]
  },
  {
   "cell_type": "markdown",
   "metadata": {},
   "source": [
    "## 1. Download Pricing Data\n",
    "\n",
    "The quickest way to download (free) data is from Quotemedia. Complete the code blocks below to download data for given stock tickers.\n",
    "\n",
    "First, we create a function to get the data for a **single equity**, store them in a CSV file, and then return a pandas DataFrame object containing these data. "
   ]
  },
  {
   "cell_type": "code",
   "execution_count": null,
   "metadata": {},
   "outputs": [],
   "source": [
    "# Get history of a given ticker.\n",
    "\n",
    "def get_history(api_path, start_date, start_month, start_year, end_date, end_month, end_year, symbol):\n",
    "    # Todo: 1. Get the prices from given api path and parameters.\n",
    "    #       2. Store the file in a csv file with name [symbol].csv.\n",
    "    #       3. And finally, read that file into a pandas DataFrame object and return it.\n",
    "    \n",
    "    return df\n",
    "\n",
    "assert_history(get_history)"
   ]
  },
  {
   "cell_type": "markdown",
   "metadata": {},
   "source": [
    "Next, we will perform the above operation for all tickers. Once this is completed, you should have the following csv files in your directory:\n",
    "\n",
    "```\n",
    "SPY.csv, FB.csv, AMZN.csv, NFLX.csv, GOOG.csv\n",
    "```\n",
    "\n",
    "Also, the function should return a prices dataframe (`pandas.DataFrame` object) with the following specifications:\n",
    "\n",
    "1. The DataFrame is indexed by `date` column, that is of type `datetime64[ns]`.\n",
    "2. It should be an **outer union** of all five dataframes we acquired from the QuoteMedia API. If there are two dataframes, one contains data from date 2019-10-01 and the other 2019-10-02, then the union should contain data from both dates.\n",
    "3. Convert the `adjclose` field of each dataframe into the ticker name of the resulting dataframe. Therefore, the final dataframe should have these columns: **date, SPY, FB, AMZN, NFLX, and GOOG**.\n",
    "\n",
    "The returned `prices_df` should look like so:\n",
    "\n",
    "![prices_df.png](media/prices_df-table.png)"
   ]
  },
  {
   "cell_type": "code",
   "execution_count": null,
   "metadata": {},
   "outputs": [],
   "source": [
    "# Get prices for all tickers\n",
    "def get_prices(api_path, start_date, start_month, start_year, end_date, end_month, end_year, tickers):\n",
    "    # Todo: Create a proper prices_df dataframe here.\n",
    "\n",
    "    prices_df = pd.DataFrame(columns=['date'])\n",
    "    for ticker in tqdm(tickers):\n",
    "        \n",
    "        prices_df = ...\n",
    "    # Don't forget to use proper data type for the dates, use it as the index, and then sort\n",
    "    # the values by the dates, ordered from earliest to latest dates.\n",
    "    ...\n",
    "    return prices_df\n",
    "\n",
    "assert_prices(get_prices)"
   ]
  },
  {
   "cell_type": "code",
   "execution_count": null,
   "metadata": {},
   "outputs": [],
   "source": [
    "prices_df = get_prices(API_PATH, start_date, start_month, start_year, end_date, end_month, end_year, tickers)\n",
    "print(prices_df.head(5))\n",
    "print(prices_df.tail(5))"
   ]
  },
  {
   "cell_type": "markdown",
   "metadata": {},
   "source": [
    "## 2. Display Initial Plot\n",
    "\n",
    "In this task, you will plot the `prices_df` dataframe. The resulting plot should look like so:\n",
    "\n",
    "<div class=\"alert alert-info\">Plots do not have to look 100% similar with the expected outputs, but they should at least present similar values and color-encoded by column names.</div>\n",
    "\n",
    "![prices_df plot](media/prices_df-plot.png)\n",
    "\n",
    "Notice there is an empty area at the beginning for GOOG which shows the unavailability of data during those dates."
   ]
  },
  {
   "cell_type": "code",
   "execution_count": null,
   "metadata": {},
   "outputs": [],
   "source": [
    "# Todo: Plot a line chart showing the prices of all equities we have downloaded.\n"
   ]
  },
  {
   "cell_type": "markdown",
   "metadata": {},
   "source": [
    "## 3. Calculate Daily Return Percentages\n",
    "\n",
    "Now we will calculate daily return percentages for all the dates. Daily return percentage is calculated with the following formula:\n",
    "\n",
    "$$\\text{daily return percentage} = \\frac{(\\text{end day price}-\\text{start day price})}{\\text{start day price}}$$\n",
    "\n",
    "**Important:**\n",
    "\n",
    "1. **The first value should be set to 0.**\n",
    "2. **NaN values should not be converted to 0 (we do not want to assume missing data to result in no change to the last price).**\n",
    "\n",
    "The function below should return a dataframe that looks as follows:\n",
    "\n",
    "![return percentages table](media/rp_df-table.png)"
   ]
  },
  {
   "cell_type": "code",
   "execution_count": null,
   "metadata": {},
   "outputs": [],
   "source": [
    "def get_return_percentages(df):\n",
    "    # Todo: Calculate daily return percentages.\n",
    "    \n",
    "    return returns\n",
    "\n",
    "assert_return_percentages(get_return_percentages)"
   ]
  },
  {
   "cell_type": "code",
   "execution_count": null,
   "metadata": {},
   "outputs": [],
   "source": [
    "rp_df = get_return_percentages(prices_df)\n",
    "print(rp_df.head(5))\n",
    "print(rp_df.tail(5))"
   ]
  },
  {
   "cell_type": "markdown",
   "metadata": {},
   "source": [
    "## 4. Plot Daily Return Percentages and Their Distributions\n",
    "\n",
    "In this step, plot all return percentages with a simple line chart. The resulting plot should look similar to this:\n",
    "\n",
    "![daily return percentages](media/rp_df-plot.png)"
   ]
  },
  {
   "cell_type": "code",
   "execution_count": null,
   "metadata": {},
   "outputs": [],
   "source": [
    "# Todo: Plot the values of rp_df dataset here\n"
   ]
  },
  {
   "cell_type": "markdown",
   "metadata": {},
   "source": [
    "The above chart was not so useful, but it does show you at which times throughout the years did we get the best and worst gains and losses. Next, make a histogram of the values to see how the returns are distributed.\n",
    "\n",
    "In the following code block, write a code to present distributions of all variables. Please plot them using histograms on Matplotlib subplots. The resulting plots should look as follows:\n",
    "\n",
    "<div class=\"alert alert-info\">\n",
    "    <p>For the following plots, make sure they all contain proper titles and x and y-axis labels.</p>\n",
    "    <p>Note: You may get a couple of warnings \"RuntimeWarning: invalid value encountered in greater_equal keep = (tmp_a >= first_edge)\" when plotting the histogram, which is expected from having np.NaN values in the plot data. We can omit this error.</p>\n",
    "</div>\n",
    "\n",
    "![return price percentages distributions](media/rp_df-distributions.png)"
   ]
  },
  {
   "cell_type": "code",
   "execution_count": null,
   "metadata": {},
   "outputs": [],
   "source": [
    "# Todo: Create several plots showing distributions of daily return percentages.\n",
    "\n",
    "import math\n",
    "..."
   ]
  },
  {
   "cell_type": "markdown",
   "metadata": {},
   "source": [
    "From the above chart, we see how the returns distributed for each equity. As expected, they all are normal distribution with mean a small positive number near zero."
   ]
  },
  {
   "cell_type": "markdown",
   "metadata": {},
   "source": [
    "## 5. Calculate Cumulative Returns\n",
    "\n",
    "We ultimately want to compare the performances of these stocks across a given period. To do this, we calculate the cumulative products of daily return percentages.\n",
    "\n",
    "The resulting dataframe should look as follows:\n",
    "\n",
    "![cumulative returns](media/cum_rp_df-table.png)"
   ]
  },
  {
   "cell_type": "code",
   "execution_count": null,
   "metadata": {},
   "outputs": [],
   "source": [
    "def get_cummulative(df):\n",
    "    # Todo: +1 to initial values, calculate cumulative products, then -1 from the final results.\n",
    "    \n",
    "    return df\n",
    "assert_cumulative(get_cummulative)"
   ]
  },
  {
   "cell_type": "code",
   "execution_count": null,
   "metadata": {},
   "outputs": [],
   "source": [
    "cum_rp_df = get_cummulative(rp_df)"
   ]
  },
  {
   "cell_type": "code",
   "execution_count": null,
   "metadata": {},
   "outputs": [],
   "source": [
    "print(cum_rp_df.head(5))\n",
    "print(cum_rp_df.tail(5))"
   ]
  },
  {
   "cell_type": "markdown",
   "metadata": {},
   "source": [
    "# 6. Plot Cumulative Returns\n",
    "\n",
    "And finally, plot the cumulative returns, which should look similar to the following:\n",
    "\n",
    "![cumulative returns plot](media/cum_rp_df-plot.png)"
   ]
  },
  {
   "cell_type": "code",
   "execution_count": null,
   "metadata": {},
   "outputs": [],
   "source": [
    "# Todo: Draw a plot of cumulative daily return percentages here.\n"
   ]
  },
  {
   "cell_type": "markdown",
   "metadata": {},
   "source": [
    "## Analysis and Conclusion\n",
    "\n",
    "Using a few lines of Python code, you have pulled pricing data from an independent source, extracted daily returns from them, and then learned a few characteristics of these daily returns:\n",
    "\n",
    "1. **Distribution of values.** The SPY index has a much smaller range of returns compared to other stocks that we examined.\n",
    "2. **Trends.** Taken together, FANG stocks performed better than S&P 500 index.\n",
    "3. **Correlation of the stocks.** FANG stocks are highly correlated. We will learn more about this in future lessons on asset covariance.\n",
    "\n",
    "### What next?\n",
    "\n",
    "You can replace the stocks above with any set of tickers of your choice to perform a basic pricing analysis.\n",
    "\n",
    "Ideally, we'd want to compare these prices against other variables to check whether there are patterns that emerge. Fundamental values from balance sheet and income statement are a good place to start for this kind of analysis. We will learn more about this in the next lesson, where you will get these values (for free!) from Quantopian platform, and from which you can perform deeper analysis and even building your own algorithm (we will learn about algorithm building on section 3)."
   ]
  }
 ],
 "metadata": {
  "kernelspec": {
   "display_name": "Python 3",
   "language": "python",
   "name": "python3"
  },
  "language_info": {
   "codemirror_mode": {
    "name": "ipython",
    "version": 3
   },
   "file_extension": ".py",
   "mimetype": "text/x-python",
   "name": "python",
   "nbconvert_exporter": "python",
   "pygments_lexer": "ipython3",
   "version": "3.7.1"
  }
 },
 "nbformat": 4,
 "nbformat_minor": 4
}
