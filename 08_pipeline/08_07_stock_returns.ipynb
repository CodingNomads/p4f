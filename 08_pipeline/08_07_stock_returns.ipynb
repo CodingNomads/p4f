{
 "cells": [
  {
   "cell_type": "code",
   "execution_count": 2,
   "metadata": {},
   "outputs": [
    {
     "data": {
      "application/vnd.jupyter.widget-view+json": {
       "model_id": "",
       "version_major": 2,
       "version_minor": 0
      },
      "text/plain": []
     },
     "metadata": {},
     "output_type": "display_data"
    },
    {
     "data": {
      "text/html": [
       "<b>Pipeline Execution Time:</b> 0.29 Seconds"
      ],
      "text/plain": [
       "<IPython.core.display.HTML object>"
      ]
     },
     "metadata": {},
     "output_type": "display_data"
    },
    {
     "data": {
      "text/html": [
       "<div>\n",
       "<table border=\"1\" class=\"dataframe\">\n",
       "  <thead>\n",
       "    <tr style=\"text-align: right;\">\n",
       "      <th></th>\n",
       "      <th></th>\n",
       "      <th>dr</th>\n",
       "      <th>pc</th>\n",
       "      <th>r</th>\n",
       "    </tr>\n",
       "  </thead>\n",
       "  <tbody>\n",
       "    <tr>\n",
       "      <th>2020-01-10 00:00:00+00:00</th>\n",
       "      <th>Equity(42950 [FB])</th>\n",
       "      <td>0.013980</td>\n",
       "      <td>0.013980</td>\n",
       "      <td>0.013980</td>\n",
       "    </tr>\n",
       "    <tr>\n",
       "      <th>2020-01-13 00:00:00+00:00</th>\n",
       "      <th>Equity(42950 [FB])</th>\n",
       "      <td>-0.001099</td>\n",
       "      <td>-0.001099</td>\n",
       "      <td>-0.001099</td>\n",
       "    </tr>\n",
       "    <tr>\n",
       "      <th>2020-01-14 00:00:00+00:00</th>\n",
       "      <th>Equity(42950 [FB])</th>\n",
       "      <td>0.017334</td>\n",
       "      <td>0.017334</td>\n",
       "      <td>0.017334</td>\n",
       "    </tr>\n",
       "  </tbody>\n",
       "</table>\n",
       "</div>"
      ],
      "text/plain": [
       "                                                    dr        pc         r\n",
       "2020-01-10 00:00:00+00:00 Equity(42950 [FB])  0.013980  0.013980  0.013980\n",
       "2020-01-13 00:00:00+00:00 Equity(42950 [FB]) -0.001099 -0.001099 -0.001099\n",
       "2020-01-14 00:00:00+00:00 Equity(42950 [FB])  0.017334  0.017334  0.017334"
      ]
     },
     "execution_count": 2,
     "metadata": {},
     "output_type": "execute_result"
    }
   ],
   "source": [
    "from quantopian.pipeline.data import EquityPricing\n",
    "from quantopian.pipeline.factors import DailyReturns, Returns, PercentChange\n",
    "from quantopian.pipeline import Pipeline\n",
    "from quantopian.research import run_pipeline\n",
    "from quantopian.pipeline.filters import StaticAssets\n",
    "\n",
    "assets = StaticAssets(symbols(['FB']))\n",
    "\n",
    "dr = DailyReturns(mask=assets)\n",
    "r = Returns(mask=assets, window_length=2)\n",
    "pc = PercentChange(mask=assets, window_length=2, inputs=[EquityPricing.close])\n",
    "\n",
    "pipe = Pipeline(\n",
    "    columns={\n",
    "        'dr': dr,\n",
    "        'r': r,\n",
    "        'pc': pc,\n",
    "    },\n",
    "    screen=assets\n",
    ")\n",
    "\n",
    "mdf = run_pipeline(pipe, '2020-01-10', '2020-01-14')\n",
    "mdf"
   ]
  }
 ],
 "metadata": {
  "kernelspec": {
   "display_name": "Python 3.5",
   "language": "python",
   "name": "py35"
  },
  "language_info": {
   "codemirror_mode": {
    "name": "ipython",
    "version": 3
   },
   "file_extension": ".py",
   "mimetype": "text/x-python",
   "name": "python",
   "nbconvert_exporter": "python",
   "pygments_lexer": "ipython3",
   "version": "3.5.9"
  }
 },
 "nbformat": 4,
 "nbformat_minor": 2
}