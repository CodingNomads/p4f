{
 "cells": [
  {
   "cell_type": "markdown",
   "metadata": {},
   "source": [
    "# Classifiers"
   ]
  },
  {
   "cell_type": "code",
   "execution_count": 1,
   "metadata": {},
   "outputs": [],
   "source": [
    "from quantopian.pipeline import Pipeline\n",
    "from quantopian.research import run_pipeline\n",
    "from quantopian.pipeline.data.factset import EquityMetadata\n",
    "\n",
    "start_date = '2014-01-02'\n",
    "end_date = '2019-10-31' "
   ]
  },
  {
   "cell_type": "markdown",
   "metadata": {},
   "source": [
    "## Grouping and Filtering by Exchanges\n",
    "\n",
    "In the example below, you will see an example of how classifiers can be used to group and filter a pipeline by a particular listing exchange.\n",
    "\n",
    "[EquityMetadata](https://www.quantopian.com/docs/api-reference/pipeline-api-reference#quantopian.pipeline.data.factset.EquityMetadata) object holds various information about an equity's metadata. "
   ]
  },
  {
   "cell_type": "code",
   "execution_count": 2,
   "metadata": {},
   "outputs": [
    {
     "data": {
      "application/vnd.jupyter.widget-view+json": {
       "model_id": "",
       "version_major": 2,
       "version_minor": 0
      },
      "text/plain": []
     },
     "metadata": {},
     "output_type": "display_data"
    },
    {
     "data": {
      "text/html": [
       "<b>Pipeline Execution Time:</b> 3.42 Seconds"
      ],
      "text/plain": [
       "<IPython.core.display.HTML object>"
      ]
     },
     "metadata": {},
     "output_type": "display_data"
    },
    {
     "data": {
      "text/plain": [
       "NYS     3101\n",
       "OTC        0\n",
       "PSE        0\n",
       "BATS       0\n",
       "NAS        0\n",
       "CBO        0\n",
       "ASE        0\n",
       "CHI        0\n",
       "Name: exchange, dtype: int64"
      ]
     },
     "execution_count": 2,
     "metadata": {},
     "output_type": "execute_result"
    }
   ],
   "source": [
    "# Since the underlying data of EquityMetadata.listing_exchange\n",
    "# is of type object (string), .latest returns a classifier.\n",
    "exchange = EquityMetadata.listing_exchange.latest\n",
    "\n",
    "e_pipe = Pipeline(\n",
    "    columns={\n",
    "        'exchange': exchange\n",
    "    },\n",
    "    screen=(exchange.eq('NYS'))\n",
    ")\n",
    "\n",
    "e_mdf = run_pipeline(e_pipe, start_date, start_date)\n",
    "e_mdf['exchange'].value_counts()"
   ]
  },
  {
   "cell_type": "markdown",
   "metadata": {},
   "source": [
    "## Group PE Ratio into Deciles\n",
    "\n",
    "We will learn more about this in section 4, but this is the operation classifier is often used for. Deciles are the division of values into 10 bins. In the code below, we group the PE ratios of all assets into four groups. We also remove all assets with `NaN` PE Ratio by creating a filter using `notnan()` function. "
   ]
  },
  {
   "cell_type": "code",
   "execution_count": 4,
   "metadata": {},
   "outputs": [
    {
     "data": {
      "application/vnd.jupyter.widget-view+json": {
       "model_id": "",
       "version_major": 2,
       "version_minor": 0
      },
      "text/plain": []
     },
     "metadata": {},
     "output_type": "display_data"
    },
    {
     "data": {
      "text/html": [
       "<b>Pipeline Execution Time:</b> 0.19 Seconds"
      ],
      "text/plain": [
       "<IPython.core.display.HTML object>"
      ]
     },
     "metadata": {},
     "output_type": "display_data"
    },
    {
     "data": {
      "text/plain": [
       "6    456\n",
       "0    456\n",
       "7    455\n",
       "4    455\n",
       "2    454\n",
       "1    454\n",
       "9    453\n",
       "3    451\n",
       "5    451\n",
       "8    450\n",
       "Name: pe_decile, dtype: int64"
      ]
     },
     "execution_count": 4,
     "metadata": {},
     "output_type": "execute_result"
    }
   ],
   "source": [
    "from quantopian.pipeline.data.morningstar import Fundamentals\n",
    "\n",
    "def make_pipeline():\n",
    "    return Pipeline(\n",
    "        columns={\n",
    "            'pe_ratio': Fundamentals.pe_ratio.latest,\n",
    "            'pe_decile': Fundamentals.pe_ratio.latest.deciles()\n",
    "        },\n",
    "        screen=Fundamentals.pe_ratio.latest.notnan()\n",
    "    )\n",
    "\n",
    "pe_pipe = make_pipeline()\n",
    "pe_mdf = run_pipeline(pe_pipe, start_date, start_date)\n",
    "pe_mdf['pe_decile'].value_counts()"
   ]
  },
  {
   "cell_type": "code",
   "execution_count": 5,
   "metadata": {},
   "outputs": [
    {
     "data": {
      "text/html": [
       "<div>\n",
       "<table border=\"1\" class=\"dataframe\">\n",
       "  <thead>\n",
       "    <tr style=\"text-align: right;\">\n",
       "      <th></th>\n",
       "      <th></th>\n",
       "      <th>pe_decile</th>\n",
       "      <th>pe_ratio</th>\n",
       "    </tr>\n",
       "  </thead>\n",
       "  <tbody>\n",
       "    <tr>\n",
       "      <th rowspan=\"5\" valign=\"top\">2014-01-02 00:00:00+00:00</th>\n",
       "      <th>Equity(2 [ARNC])</th>\n",
       "      <td>7</td>\n",
       "      <td>35.2113</td>\n",
       "    </tr>\n",
       "    <tr>\n",
       "      <th>Equity(21 [AAME])</th>\n",
       "      <td>0</td>\n",
       "      <td>8.8731</td>\n",
       "    </tr>\n",
       "    <tr>\n",
       "      <th>Equity(24 [AAPL])</th>\n",
       "      <td>2</td>\n",
       "      <td>13.9470</td>\n",
       "    </tr>\n",
       "    <tr>\n",
       "      <th>Equity(31 [ABAX])</th>\n",
       "      <td>7</td>\n",
       "      <td>52.6316</td>\n",
       "    </tr>\n",
       "    <tr>\n",
       "      <th>Equity(39 [DDC])</th>\n",
       "      <td>8</td>\n",
       "      <td>62.8931</td>\n",
       "    </tr>\n",
       "  </tbody>\n",
       "</table>\n",
       "</div>"
      ],
      "text/plain": [
       "                                             pe_decile  pe_ratio\n",
       "2014-01-02 00:00:00+00:00 Equity(2 [ARNC])           7   35.2113\n",
       "                          Equity(21 [AAME])          0    8.8731\n",
       "                          Equity(24 [AAPL])          2   13.9470\n",
       "                          Equity(31 [ABAX])          7   52.6316\n",
       "                          Equity(39 [DDC])           8   62.8931"
      ]
     },
     "execution_count": 5,
     "metadata": {},
     "output_type": "execute_result"
    }
   ],
   "source": [
    "pe_mdf.head(5)"
   ]
  },
  {
   "cell_type": "markdown",
   "metadata": {},
   "source": [
    "## Conclusion\n",
    "\n",
    "By grouping the values into deciles, you can already tap into interesting analyses. For instance, you may simply get deciles of several factors and combine them to calculate stock ranks. High-ranked stocks are then assigned long positions while shorting low-ranked ones."
   ]
  }
 ],
 "metadata": {
  "kernelspec": {
   "display_name": "Python 3.5",
   "language": "python",
   "name": "py35"
  },
  "language_info": {
   "codemirror_mode": {
    "name": "ipython",
    "version": 3
   },
   "file_extension": ".py",
   "mimetype": "text/x-python",
   "name": "python",
   "nbconvert_exporter": "python",
   "pygments_lexer": "ipython3",
   "version": "3.5.9"
  }
 },
 "nbformat": 4,
 "nbformat_minor": 2
}