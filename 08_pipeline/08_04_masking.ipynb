{
 "cells": [
  {
   "cell_type": "markdown",
   "metadata": {},
   "source": [
    "# Masking\n",
    "\n",
    "This code demonstrates the reduction in the number of calculations when using a `mask` on a pipeline statement."
   ]
  },
  {
   "cell_type": "code",
   "execution_count": 1,
   "metadata": {},
   "outputs": [],
   "source": [
    "from quantopian.pipeline.filters import StaticAssets\n",
    "from quantopian.pipeline.data import USEquityPricing\n",
    "from quantopian.pipeline import Pipeline\n",
    "from quantopian.research import run_pipeline\n",
    "start_date = '2018-08-02'\n",
    "end_date = '2018-08-02' \n",
    "tickers = ['GOOG']"
   ]
  },
  {
   "cell_type": "code",
   "execution_count": 4,
   "metadata": {},
   "outputs": [
    {
     "data": {
      "application/vnd.jupyter.widget-view+json": {
       "model_id": "70395265501b4221b97aad7e025236bc",
       "version_major": 2,
       "version_minor": 0
      },
      "text/plain": []
     },
     "metadata": {},
     "output_type": "display_data"
    },
    {
     "name": "stdout",
     "output_type": "stream",
     "text": [
      "(100, 8652)\n"
     ]
    },
    {
     "data": {
      "text/html": [
       "<b>Pipeline Execution Time:</b> 0.49 Seconds"
      ],
      "text/plain": [
       "<IPython.core.display.HTML object>"
      ]
     },
     "metadata": {},
     "output_type": "display_data"
    },
    {
     "data": {
      "text/html": [
       "<div>\n",
       "<table border=\"1\" class=\"dataframe\">\n",
       "  <thead>\n",
       "    <tr style=\"text-align: right;\">\n",
       "      <th></th>\n",
       "      <th></th>\n",
       "      <th>b</th>\n",
       "    </tr>\n",
       "  </thead>\n",
       "  <tbody>\n",
       "    <tr>\n",
       "      <th>2018-08-02 00:00:00+00:00</th>\n",
       "      <th>Equity(46631 [GOOG])</th>\n",
       "      <td>1219.08</td>\n",
       "    </tr>\n",
       "  </tbody>\n",
       "</table>\n",
       "</div>"
      ],
      "text/plain": [
       "                                                      b\n",
       "2018-08-02 00:00:00+00:00 Equity(46631 [GOOG])  1219.08"
      ]
     },
     "execution_count": 4,
     "metadata": {},
     "output_type": "execute_result"
    }
   ],
   "source": [
    "from quantopian.pipeline.factors import CustomFactor\n",
    "\n",
    "def universe():\n",
    "    return StaticAssets(symbols(tickers))\n",
    "\n",
    "class BogusFactor(CustomFactor):\n",
    "    inputs=[USEquityPricing.close]\n",
    "    def compute(self, today, assets, out, p):\n",
    "        print(p.shape)\n",
    "        out[:] = p[-1]\n",
    "\n",
    "\n",
    "u = universe()\n",
    "bogus = BogusFactor(window_length=100)\n",
    "pipe = Pipeline(\n",
    "    columns={\n",
    "        'b': bogus\n",
    "    },\n",
    "    screen=u\n",
    ")\n",
    "mdf = run_pipeline(pipe, start_date, end_date)\n",
    "mdf"
   ]
  },
  {
   "cell_type": "markdown",
   "metadata": {},
   "source": [
    "Note that the shape of `p` input above is 100 rows (for 100 days of `window_length`) x 8652 columns, 1 column for each asset. The `screen` parameter had caused the pipeline to return a single asset for GOOG, but the calculation was still made for the entire list of assets. This would create a huge bottleneck for more complex factors e.g. calculating growth through linear regression.\n",
    "\n",
    "In the code cell below, we added `mask=u` that filtered out the assets not listed in through the `StaticAssets` class instantiation:"
   ]
  },
  {
   "cell_type": "code",
   "execution_count": 5,
   "metadata": {},
   "outputs": [
    {
     "data": {
      "application/vnd.jupyter.widget-view+json": {
       "model_id": "dad41dd1a2e24321b83b6b215063a309",
       "version_major": 2,
       "version_minor": 0
      },
      "text/plain": []
     },
     "metadata": {},
     "output_type": "display_data"
    },
    {
     "name": "stdout",
     "output_type": "stream",
     "text": [
      "(100, 1)\n"
     ]
    },
    {
     "data": {
      "text/html": [
       "<b>Pipeline Execution Time:</b> 0.55 Seconds"
      ],
      "text/plain": [
       "<IPython.core.display.HTML object>"
      ]
     },
     "metadata": {},
     "output_type": "display_data"
    }
   ],
   "source": [
    "bogus = BogusFactor(window_length=100, mask=u)\n",
    "pipe = Pipeline(\n",
    "    columns={\n",
    "        'b': bogus\n",
    "    },\n",
    "    screen=u\n",
    ")\n",
    "mdf = run_pipeline(pipe, start_date, end_date)"
   ]
  },
  {
   "cell_type": "markdown",
   "metadata": {},
   "source": [
    "As shown in the output above, there is only a single asset in the calculation."
   ]
  }
 ],
 "metadata": {
  "kernelspec": {
   "display_name": "Python 3.5",
   "language": "python",
   "name": "py35"
  },
  "language_info": {
   "codemirror_mode": {
    "name": "ipython",
    "version": 3
   },
   "file_extension": ".py",
   "mimetype": "text/x-python",
   "name": "python",
   "nbconvert_exporter": "python",
   "pygments_lexer": "ipython3",
   "version": "3.5.9"
  }
 },
 "nbformat": 4,
 "nbformat_minor": 2
}