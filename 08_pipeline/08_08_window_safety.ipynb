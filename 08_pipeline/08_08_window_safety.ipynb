{
 "cells": [
  {
   "cell_type": "markdown",
   "metadata": {},
   "source": [
    "# Window Safety\n",
    "\n",
    "This notebook document demonstrates an error that often boggles Quantopian beginners, namely, the [NonWindowSafeInput](https://github.com/quantopian/zipline/blob/bba810078c56bf6f2dad9f1e9653f6833ad2fe4e/zipline/errors.py#L517). This error is a bit confusing because there are multiple conditions that triggers this error. \n",
    "\n",
    "NonWindowSafe error shows up in these scenarios:\n",
    "\n",
    "**Scenario 1: Adding `latest` to longer than 1-day window**\n",
    "\n",
    "Condition: Using any data with `latest` into a Factor that uses >1 `window_length`.\n",
    "\n",
    "Fix: To fix this, well, remove the `latest` part.\n",
    "\n",
    "**Scenario 2: Using moving average factor in another factor that is longer than 1-day window**\n",
    "\n",
    "Since we are working with historical data, it is possible that prices get adjusted due to stock splits, dividends, etc. Factors that take these into account e.g. any moving average factor cannot be passed into another factor-creation function. Other functions, like return-related functions, can be passed without triggering this error.\n",
    "\n",
    "Therefore, the condition for this error is as follows:\n",
    "\n",
    "1. Moving average factor is used as an input in another factor.\n",
    "2. `window_length` is set to `>1`."
   ]
  },
  {
   "cell_type": "code",
   "execution_count": 1,
   "metadata": {},
   "outputs": [],
   "source": [
    "from quantopian.pipeline.data import USEquityPricing\n",
    "from quantopian.pipeline.data.morningstar import Fundamentals\n",
    "from quantopian.pipeline.factors import CustomFactor, Returns, BollingerBands\n",
    "from quantopian.research import run_pipeline\n",
    "from quantopian.pipeline import Pipeline"
   ]
  },
  {
   "cell_type": "markdown",
   "metadata": {},
   "source": [
    "## Scenario 1 Demonstration\n",
    "\n",
    "In this scenario, both `returns` and `signal` would cause `NonWindowSafeInput` error. Removal of the `latest` attribute fixes this code."
   ]
  },
  {
   "cell_type": "code",
   "execution_count": 2,
   "metadata": {},
   "outputs": [
    {
     "name": "stdout",
     "output_type": "stream",
     "text": [
      "Caught NonWindowSafeInput\n"
     ]
    }
   ],
   "source": [
    "# Uses USEquityPricing.close.latest for window_length > 1\n",
    "\n",
    "class TestFactor(CustomFactor):\n",
    "    inputs=[]\n",
    "    def compute(self, today, assets, out, input1):\n",
    "        out[:] = input1[-1]\n",
    "\n",
    "\n",
    "try:\n",
    "    returns = Returns(inputs=[USEquityPricing.close.latest], window_length=2)\n",
    "    signal = TestFactor(inputs=[USEquityPricing.close.latest], window_length=2)\n",
    "    \n",
    "except Exception as e:\n",
    "    if 'NonWindowSafeInput' in str(type(e)):\n",
    "        print(\"Caught NonWindowSafeInput\")\n",
    "    else:\n",
    "        raise"
   ]
  },
  {
   "cell_type": "markdown",
   "metadata": {},
   "source": [
    "## Scenario 2 Demonstration\n",
    "\n",
    "BollingerBands algorithm uses moving average for calculating the bands, and hence, its results cannot be passed into another factor that is longer than 1 day.\n",
    "\n",
    "For the code below, `signal1` does not return an error, but `signal2` does. It is also okay to pass if you changed the `window_length` to 1."
   ]
  },
  {
   "cell_type": "code",
   "execution_count": 3,
   "metadata": {},
   "outputs": [
    {
     "name": "stdout",
     "output_type": "stream",
     "text": [
      "Caught NonWindowSafeInput\n"
     ]
    }
   ],
   "source": [
    "class TestFactor(CustomFactor):\n",
    "    inputs=[]\n",
    "    def compute(self, today, assets, out, input1):\n",
    "        out[:] = input1[-1]\n",
    "\n",
    "\n",
    "try:\n",
    "    returns = Returns(inputs=[USEquityPricing.close], window_length=22)\n",
    "    bb1, bb2, bb3 = BollingerBands(\n",
    "            inputs=[USEquityPricing.close],\n",
    "            window_length=22,\n",
    "            k=2)\n",
    "    \n",
    "    signal1 = TestFactor(inputs=[returns], window_length=22)\n",
    "    signal2 = TestFactor(inputs=[bb1], window_length=22)\n",
    "\n",
    "except Exception as e:\n",
    "    if 'NonWindowSafeInput' in str(type(e)):\n",
    "        print(\"Caught NonWindowSafeInput\")\n",
    "    else:\n",
    "        raise"
   ]
  }
 ],
 "metadata": {
  "kernelspec": {
   "display_name": "Python 3.5",
   "language": "python",
   "name": "py35"
  },
  "language_info": {
   "codemirror_mode": {
    "name": "ipython",
    "version": 3
   },
   "file_extension": ".py",
   "mimetype": "text/x-python",
   "name": "python",
   "nbconvert_exporter": "python",
   "pygments_lexer": "ipython3",
   "version": "3.5.9"
  }
 },
 "nbformat": 4,
 "nbformat_minor": 2
}