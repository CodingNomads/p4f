{
 "cells": [
  {
   "cell_type": "markdown",
   "metadata": {},
   "source": [
    "# Labs: Visualize Correlation\n",
    "\n",
    "In this notebook, you will visualize the correlation between two factors in Quantopian. Specifically, we want to see how today's news sentiment (from the [SentDex](https://www.quantopian.com/docs/data-reference/sentdex) dataset) affects tomorrow's asset returns.\n",
    "\n",
    "When performing this kind of analysis, this is the train of thought that leads to a solution:\n",
    "\n",
    "1. The goal is to align a particular factor's results to future returns. \n",
    "2. Window length gets a range of dates starting from the current date in the pipeline minus `window_length` days. Therefore, for a `window length` of 2, for instance, the inputs in the `compute()` function in a Factor should start from the `today` argument minus 2 days.\n",
    "\n",
    "In that case, when we want to compare today's sentiment and tomorrow's asset returns, we want to get news sentiment from `today - 2` and `today`'s asset returns."
   ]
  },
  {
   "cell_type": "code",
   "execution_count": null,
   "metadata": {},
   "outputs": [],
   "source": [
    "# Do not change anything in this code cell\n",
    "\n",
    "from quantopian.pipeline import Pipeline, CustomFactor\n",
    "from quantopian.research import run_pipeline\n",
    "from quantopian.pipeline.data import USEquityPricing\n",
    "from quantopian.pipeline.data.sentdex import sentiment\n",
    "from quantopian.pipeline.filters import StaticAssets\n",
    "from quantopian.pipeline.factors import Returns, Latest\n",
    "\n",
    "from datetime import datetime\n",
    "import pandas as pd\n",
    "import seaborn as sns\n",
    "import matplotlib.pyplot as plt\n",
    "\n",
    "assets = StaticAssets(symbols(['FB', 'TSLA', 'NFLX', 'AMZN', 'GOOG']))\n",
    "\n",
    "\n",
    "start_date = datetime.strptime('01/01/2018', '%m/%d/%Y') + pd.tseries.offsets.BDay(2)\n",
    "end_date = datetime.strptime('01/01/2019', '%m/%d/%Y')\n"
   ]
  },
  {
   "cell_type": "markdown",
   "metadata": {},
   "source": [
    "First of all, get an overview of the available BoundColumns of the `sentiment` dataset."
   ]
  },
  {
   "cell_type": "code",
   "execution_count": null,
   "metadata": {},
   "outputs": [],
   "source": [
    "sentiment.columns"
   ]
  },
  {
   "cell_type": "markdown",
   "metadata": {},
   "source": [
    "Build a custom factor to get sentiment signals with 2 days delay. "
   ]
  },
  {
   "cell_type": "code",
   "execution_count": null,
   "metadata": {},
   "outputs": [],
   "source": [
    "# Todo: Create a Sentiment factor.\n",
    "class Sentiment(CustomFactor):\n",
    "    ..."
   ]
  },
  {
   "cell_type": "markdown",
   "metadata": {},
   "source": [
    "Build a pipeline"
   ]
  },
  {
   "cell_type": "code",
   "execution_count": null,
   "metadata": {},
   "outputs": [],
   "source": [
    "# Todo: Build a pipeline with three columns.\n",
    "return_d2 = ...\n",
    "sentiment_d2 = ...\n",
    "\n",
    "pipe = Pipeline(\n",
    "    columns={\n",
    "        'sentiment_today': ...,\n",
    "        'sentiment_d2': ...,\n",
    "        'return_d2': ...\n",
    "    },\n",
    "    screen=...\n",
    ")\n",
    "\n",
    "mdf = ..."
   ]
  },
  {
   "cell_type": "markdown",
   "metadata": {},
   "source": [
    "## 1. Confirm that the Pipeline is correct\n",
    "\n",
    "To confirm that our pipeline is correct, compare `sentiment_d2` with `sentiment_today`. The former should be delayed by 1 day, which means if 2018-01-03's NFLX's `sentiment_today` is 2.0, then 2018-01-04's NFLX's `sentiment_d2` should also be 2.0."
   ]
  },
  {
   "cell_type": "code",
   "execution_count": null,
   "metadata": {},
   "outputs": [],
   "source": [
    "mdf.head(15)"
   ]
  },
  {
   "cell_type": "markdown",
   "metadata": {},
   "source": [
    "Since we have confirmed the values, delete `sentiment_today` column, we do not need this in our visualization."
   ]
  },
  {
   "cell_type": "code",
   "execution_count": null,
   "metadata": {},
   "outputs": [],
   "source": [
    "# Todo: Drop the `sentiment_today` column.\n",
    "final_mdf = ...\n",
    "final_mdf.head(5)"
   ]
  },
  {
   "cell_type": "markdown",
   "metadata": {},
   "source": [
    "## 2. Plotting a Simple Correlation\n",
    "\n",
    "[regplot](https://seaborn.pydata.org/generated/seaborn.regplot.html) can be used to quickly visualize correlation by using a regression plot."
   ]
  },
  {
   "cell_type": "code",
   "execution_count": null,
   "metadata": {},
   "outputs": [],
   "source": [
    "# Todo: Create a regplot.\n"
   ]
  },
  {
   "cell_type": "markdown",
   "metadata": {},
   "source": [
    "There are 3 problems in that plot:\n",
    "\n",
    "1. It is hard to see the density of the areas of data points. This is because we have a discrete data for `sentiment_d2`. One solution is to jitter the data points horizontally. Find out how to do this from the [regplot's documentation](https://seaborn.pydata.org/generated/seaborn.regplot.html).\n",
    "2. The ticker spacing is not ideal for discrete `sentiment_d2` values. We will adjust the spacing using `xaxis.set_ticks()` function, passing in an array of numbers between -4 and 8 using [`np.arange`](https://docs.scipy.org/doc/numpy/reference/generated/numpy.arange.html) function."
   ]
  },
  {
   "cell_type": "code",
   "execution_count": null,
   "metadata": {},
   "outputs": [],
   "source": [
    "# Todo: Add horizontal jittering and set the ticks on xaxis\n",
    "#       so it shows all the sentiment scores.\n",
    "import numpy as np\n",
    "\n",
    "ax = ...\n",
    "ax.xaxis.set_ticks(np.arange(...));"
   ]
  },
  {
   "cell_type": "markdown",
   "metadata": {},
   "source": [
    "Zooming-in can be done with [`matplotlib.axes.Axes.set_ylim()`](https://matplotlib.org/3.1.1/api/_as_gen/matplotlib.axes.Axes.set_ylim.html) function"
   ]
  },
  {
   "cell_type": "code",
   "execution_count": null,
   "metadata": {},
   "outputs": [],
   "source": [
    "# Todo: Zoom in with `set_ylim()` function\n",
    "ax = ...\n",
    "ax.xaxis.set_ticks(np.arange(...))\n",
    "ax.set_ylim(...);"
   ]
  },
  {
   "cell_type": "markdown",
   "metadata": {},
   "source": [
    "As it turned out, we do not see a conceivable pattern here. Let's group by sector and plot the regression for each sector to see if the trends are more significant when we compare them on per sector-basis.\n",
    "\n",
    "## 3. Building a Multivariate Plot\n",
    "\n",
    "In this section, you will create a multivariate plot, that is, a plot with three variables. The third variable here is the sectors. We will create a similar plot to the previous one, but use a different color for each sector.\n",
    "\n",
    "### 3.1. Re-run the Pipeline + Sector Column\n",
    "\n",
    "To do this, we need to re-run the pipeline, this time with the sector column included."
   ]
  },
  {
   "cell_type": "code",
   "execution_count": null,
   "metadata": {},
   "outputs": [],
   "source": [
    "# Do not change anything in this code cell\n",
    "\n",
    "from quantopian.pipeline.classifiers.morningstar import Sector"
   ]
  },
  {
   "cell_type": "code",
   "execution_count": null,
   "metadata": {},
   "outputs": [],
   "source": [
    "# Todo: Recreate the pipeline. Create and include Sector factor.\n",
    "\n",
    "sector = Sector(mask=...)\n",
    "\n",
    "sector_pipe = Pipeline(\n",
    "    columns={\n",
    "        'sentiment_d2': ...,\n",
    "        'return_d2': ...,\n",
    "        'sector': ...\n",
    "    },\n",
    "    screen=...\n",
    ")\n",
    "\n",
    "sector_mdf = ..."
   ]
  },
  {
   "cell_type": "code",
   "execution_count": null,
   "metadata": {
    "scrolled": false
   },
   "outputs": [],
   "source": [
    "# Todo: Create a regplot.\n",
    "ax = ...\n",
    "ax.xaxis.set_ticks(np.arange(...));"
   ]
  },
  {
   "cell_type": "code",
   "execution_count": null,
   "metadata": {},
   "outputs": [],
   "source": [
    "sector_mdf.head(5)"
   ]
  },
  {
   "cell_type": "markdown",
   "metadata": {},
   "source": [
    "### 3.2. Choose a Color Palette\n",
    "\n",
    "Before visualizing multivariate plots, we first choose a color palette to use. Some of the available palettes are documented [here](https://seaborn.pydata.org/tutorial/color_palettes.html). Since we are dealing with discrete data, *paired* palette seems like a good idea.\n",
    "\n",
    "First, get the list of sectors by getting unique values of `sector_mdf['sector']`, then use it as the number of colors."
   ]
  },
  {
   "cell_type": "code",
   "execution_count": null,
   "metadata": {},
   "outputs": [],
   "source": [
    "sectors = sector_mdf['sector'].unique()\n",
    "pal = sns.color_palette('Paired', len(sectors))\n",
    "sns.palplot(pal)"
   ]
  },
  {
   "cell_type": "markdown",
   "metadata": {},
   "source": [
    "### 3.3. Visualize with lmplot\n",
    "\n",
    "And finally, we can use `lmplot()` function to visualize all the fields in our DataFrame."
   ]
  },
  {
   "cell_type": "code",
   "execution_count": null,
   "metadata": {},
   "outputs": [],
   "source": [
    "# Todo: Create an lmplot.\n"
   ]
  },
  {
   "cell_type": "markdown",
   "metadata": {},
   "source": [
    "## 3.4. Visualize with multiple regplots\n",
    "\n",
    "For practice, draw the same plot with multiple regplots. Here are the tasks involved:\n",
    "\n",
    "1. Prepare a legend elements list.\n",
    "2. Loop over the list of sector codes. In each loop:\n",
    "3. Get data for that sector using pandas selection by values.\n",
    "4. Create a regplot with the data and color associated with the sector. Attach this plot to the Axes object passed through the arguments.\n",
    "5. Add a Line2D instance to the list of legend elements.\n",
    "6. (Outside of the loop) Attach a legend that contains the legend elements to the Axes object."
   ]
  },
  {
   "cell_type": "code",
   "execution_count": null,
   "metadata": {},
   "outputs": [],
   "source": [
    "# Todo: Complete the `draw_plot` function below.\n",
    "\n",
    "def draw_plot(x, y, hue, data, ax, sectors, pal):\n",
    "    # 1. Todo: Prepare a legend elements list.\n",
    "    legend_elements = ...\n",
    "    \n",
    "    # 2. Todo: Loop over the list of sector codes.\n",
    "    for i in ...:\n",
    "        \n",
    "        # 3. Todo: Get data for that sector using pandas selection by values.\n",
    "        df = ...\n",
    "        \n",
    "        # 4. Todo: Create a regplot with the data and color associated \n",
    "        #          with the sector. Attach this plot to the Axes object\n",
    "        #          passed through the arguments.\n",
    "        color = ...\n",
    "        facet = ...\n",
    "        \n",
    "        # 5. Todo: Add a Line2D instance to the list of legend elements.\n",
    "        legend_elements.append(...)\n",
    "    \n",
    "    # 6. Todo: Attach a legend that contains the legend elements\n",
    "    #          to the Axes object.\n",
    "    ax.legend(...)\n",
    "        \n",
    "\n",
    "fig = plt.figure(figsize=(10,10))\n",
    "ax = fig.add_subplot(1,1,1)\n",
    "draw_plot('sentiment_d2', 'return_d2', 'sector', sector_mdf, ax, sectors, pal)"
   ]
  }
 ],
 "metadata": {
  "kernelspec": {
   "display_name": "Python 3.5",
   "language": "python",
   "name": "py35"
  },
  "language_info": {
   "codemirror_mode": {
    "name": "ipython",
    "version": 3
   },
   "file_extension": ".py",
   "mimetype": "text/x-python",
   "name": "python",
   "nbconvert_exporter": "python",
   "pygments_lexer": "ipython3",
   "version": "3.5.9"
  }
 },
 "nbformat": 4,
 "nbformat_minor": 2
}