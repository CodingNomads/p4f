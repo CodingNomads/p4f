{
 "cells": [
  {
   "cell_type": "markdown",
   "metadata": {},
   "source": [
    "## Pipeline Basic Example\n",
    "\n",
    "Get 2 days pricing data of FB."
   ]
  },
  {
   "cell_type": "code",
   "execution_count": 1,
   "metadata": {},
   "outputs": [
    {
     "data": {
      "application/vnd.jupyter.widget-view+json": {
       "model_id": "",
       "version_major": 2,
       "version_minor": 0
      },
      "text/plain": []
     },
     "metadata": {},
     "output_type": "display_data"
    },
    {
     "data": {
      "text/html": [
       "<b>Pipeline Execution Time:</b> 16.64 Seconds"
      ],
      "text/plain": [
       "<IPython.core.display.HTML object>"
      ]
     },
     "metadata": {},
     "output_type": "display_data"
    },
    {
     "data": {
      "text/html": [
       "<div>\n",
       "<table border=\"1\" class=\"dataframe\">\n",
       "  <thead>\n",
       "    <tr style=\"text-align: right;\">\n",
       "      <th></th>\n",
       "      <th></th>\n",
       "      <th>price</th>\n",
       "    </tr>\n",
       "  </thead>\n",
       "  <tbody>\n",
       "    <tr>\n",
       "      <th>2020-01-10 00:00:00+00:00</th>\n",
       "      <th>Equity(42950 [FB])</th>\n",
       "      <td>218.31</td>\n",
       "    </tr>\n",
       "    <tr>\n",
       "      <th>2020-01-13 00:00:00+00:00</th>\n",
       "      <th>Equity(42950 [FB])</th>\n",
       "      <td>218.07</td>\n",
       "    </tr>\n",
       "  </tbody>\n",
       "</table>\n",
       "</div>"
      ],
      "text/plain": [
       "                                               price\n",
       "2020-01-10 00:00:00+00:00 Equity(42950 [FB])  218.31\n",
       "2020-01-13 00:00:00+00:00 Equity(42950 [FB])  218.07"
      ]
     },
     "execution_count": 1,
     "metadata": {},
     "output_type": "execute_result"
    }
   ],
   "source": [
    "from quantopian.pipeline.filters import StaticAssets\n",
    "from quantopian.pipeline import Pipeline\n",
    "from quantopian.pipeline.data.builtin import USEquityPricing\n",
    "from quantopian.research import run_pipeline\n",
    "\n",
    "def universe():\n",
    "    return StaticAssets(symbols(['FB']))\n",
    "\n",
    "def make_pipeline():        \n",
    "    \n",
    "    price = USEquityPricing.close.latest\n",
    "    \n",
    "    return Pipeline(\n",
    "        columns={\n",
    "            'price': price\n",
    "        },\n",
    "        screen=universe()\n",
    "    )\n",
    "\n",
    "\n",
    "p_pipe = make_pipeline()\n",
    "\n",
    "# mdf = multi-index dataframe\n",
    "p_mdf = run_pipeline(p_pipe, '2020-01-10', '2020-01-12')\n",
    "p_mdf"
   ]
  }
 ],
 "metadata": {
  "kernelspec": {
   "display_name": "Python 3.5",
   "language": "python",
   "name": "py35"
  },
  "language_info": {
   "codemirror_mode": {
    "name": "ipython",
    "version": 3
   },
   "file_extension": ".py",
   "mimetype": "text/x-python",
   "name": "python",
   "nbconvert_exporter": "python",
   "pygments_lexer": "ipython3",
   "version": "3.5.9"
  }
 },
 "nbformat": 4,
 "nbformat_minor": 2
}
