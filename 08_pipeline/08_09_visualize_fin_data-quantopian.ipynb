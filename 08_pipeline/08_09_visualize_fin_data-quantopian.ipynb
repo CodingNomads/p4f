{
 "cells": [
  {
   "cell_type": "markdown",
   "metadata": {},
   "source": [
    "# Labs: Visualize Financial Data - Remade in Quantopian\n",
    "\n",
    "*Comparing FANG Stocks With S&P 500*\n",
    "\n",
    "In this project, we will analyze the returns of high-performing technology stocks - Facebook, Amazon, Netflix, and Google and compare them with the returns of S&P 500 index."
   ]
  },
  {
   "cell_type": "code",
   "execution_count": null,
   "metadata": {},
   "outputs": [],
   "source": [
    "# Do not change anything in this code cell.\n",
    "\n",
    "import matplotlib.pyplot as plt\n",
    "from datetime import date\n",
    "\n",
    "# All Quantopian modules that we need in this project\n",
    "\n",
    "# StaticAssets to get specific stocks\n",
    "from quantopian.pipeline.filters import StaticAssets\n",
    "\n",
    "# Get DailyReturns from a built-in factor\n",
    "from quantopian.pipeline.factors import DailyReturns\n",
    "\n",
    "# Customizable Pipeline object\n",
    "from quantopian.pipeline import Pipeline\n",
    "\n",
    "# Function to run a pipeline object\n",
    "from quantopian.research import run_pipeline\n",
    "\n",
    "start_date = '2014-01-02'\n",
    "end_date = '2019-10-31' \n",
    "\n",
    "tickers = ['SPY', 'FB', 'AMZN', 'NFLX', 'GOOG']"
   ]
  },
  {
   "cell_type": "markdown",
   "metadata": {},
   "source": [
    "## 1. Download Percentage Returns Data\n",
    "\n",
    "With Quantopian, we can directly convert pricing data into percentage returns with this built in factor [quantopian.pipeline.factors.DailyReturns](https://www.quantopian.com/docs/api-reference/pipeline-api-reference#quantopian.pipeline.factors.DailyReturns).\n",
    "\n",
    "<div class=\"alert alert-info\">\n",
    "    Keep in mind that, since we use a different data source from QuoteMedia, the values could be wildly different from the values that we got in the first project. Adjusted close price of SPY on date 2014-01-02, for example, is \\$184.56 for Quantopian data, and \\$163.38 for QuoteMedia data.\n",
    "</div>"
   ]
  },
  {
   "cell_type": "code",
   "execution_count": null,
   "metadata": {},
   "outputs": [],
   "source": [
    "# Quick check on pricing difference.\n",
    "\n",
    "from quantopian.pipeline.data.builtin import USEquityPricing\n",
    "\n",
    "def universe():\n",
    "    # Todo: Get tickers using StaticAssets\n",
    "    return ...\n",
    "\n",
    "def make_pipeline():        \n",
    "    # Todo: Get the latest price of USEquityPricing\n",
    "    price = ...\n",
    "    \n",
    "    # Todo: Return a pipeline object\n",
    "    return ...\n",
    "\n",
    "\n",
    "p_pipe = make_pipeline()\n",
    "\n",
    "# mdf = multi-index dataframe\n",
    "p_mdf = run_pipeline(p_pipe, start_date, start_date)\n",
    "p_mdf"
   ]
  },
  {
   "cell_type": "code",
   "execution_count": null,
   "metadata": {},
   "outputs": [],
   "source": [
    "def make_pipeline():        \n",
    "    \n",
    "    u = universe()\n",
    "    \n",
    "    # Todo: Create an instance of DailyReturns. Don't forget\n",
    "    #       to set `mask` argument to the universe instance (`u`).\n",
    "    percent_returns = ...\n",
    "    \n",
    "    # Todo: Return a pipeline object.\n",
    "    return ...\n",
    "\n",
    "rp_pipe = make_pipeline()\n",
    "\n",
    "# mdf = multi-index dataframe\n",
    "rp_mdf = run_pipeline(rp_pipe, start_date, end_date)"
   ]
  },
  {
   "cell_type": "markdown",
   "metadata": {},
   "source": [
    "### Unstack\n",
    "\n",
    "Unstack the DataFrame so we may properly present it (i.e. grouped by stock symbols)."
   ]
  },
  {
   "cell_type": "code",
   "execution_count": null,
   "metadata": {},
   "outputs": [],
   "source": [
    "# Before unstack\n",
    "rp_mdf.head(10)"
   ]
  },
  {
   "cell_type": "code",
   "execution_count": null,
   "metadata": {
    "scrolled": true
   },
   "outputs": [],
   "source": [
    "# After unstack (i.e. flat dataframe)\n",
    "rp_df = rp_mdf.unstack()\n",
    "rp_df.iloc[0,:] = 0\n",
    "rp_df.head(5)"
   ]
  },
  {
   "cell_type": "markdown",
   "metadata": {},
   "source": [
    "Notice that it took way fewer steps to gather the data and compute the stock return percentages. With the result that we have gotten, you may simply process the DataFrame to produce the visualizations as you did for the first project. You may copy all the code cells starting from section \"4. Plot Daily Return Percentages and Their Distributions\" all the way to the end of the notebook document.\n",
    "\n",
    "---"
   ]
  },
  {
   "cell_type": "markdown",
   "metadata": {},
   "source": [
    "## 2. Factor to calculate cumulative returns\n",
    "\n",
    "Rather than calculating from `rp_df` DataFrame like you have done for Project 1, let's create a Pipeline to calculate this for us. This way we can reuse this class for building a trading algorithm."
   ]
  },
  {
   "cell_type": "code",
   "execution_count": null,
   "metadata": {},
   "outputs": [],
   "source": [
    "from datetime import datetime\n",
    "\n",
    "# We only need numpy later for counting business days.\n",
    "import numpy as np\n",
    "\n",
    "from quantopian.pipeline.factors import DailyReturns\n",
    "from quantopian.pipeline import CustomFactor\n",
    "\n",
    "# Calculate 1 month cumulative returns\n",
    "window = 22\n",
    "u = universe()\n",
    "\n",
    "class CumulativeReturnPercentages(CustomFactor):\n",
    "    def compute(self, today, assets, out, data):\n",
    "        # Todo: +1 to data, calculate cumprod on its rows, then\n",
    "        # get the last values of cumprod\n",
    "        out[:] = ((data+1).cumprod(axis=0)-1)[-1]\n",
    "\n",
    "# Todo: Create an instance of CumultiveReturnPercentages.\n",
    "#       Warning! Make sure to set `mask` parameter or otherwise\n",
    "#       it will take a considerable amount of time to calculate.\n",
    "crp = ...\n",
    "\n",
    "# Todo: Create a Pipeline instance that uses `crp` variable as\n",
    "#       its column. Don't forget to set the `screen` argument.\n",
    "cumrp_pipe = ...\n",
    "\n",
    "cumrp_mdf = run_pipeline(cumrp_pipe, start_date, end_date)"
   ]
  },
  {
   "cell_type": "code",
   "execution_count": null,
   "metadata": {},
   "outputs": [],
   "source": [
    "cumrp_df = cumrp_mdf.unstack()"
   ]
  },
  {
   "cell_type": "markdown",
   "metadata": {},
   "source": [
    "## 3. Plot Cumulative Returns\n",
    "\n",
    "And finally, plot the cumulative returns. Note that, since the factor calculates 22 days cumulative return for each day, the plot will not *look* cumulative. We expect to se a plot with changing values throughout its days."
   ]
  },
  {
   "cell_type": "code",
   "execution_count": null,
   "metadata": {},
   "outputs": [],
   "source": [
    "cumrp_df.head(5)"
   ]
  },
  {
   "cell_type": "code",
   "execution_count": null,
   "metadata": {},
   "outputs": [],
   "source": [
    "# Todo: Plot cumulative returns."
   ]
  },
  {
   "cell_type": "markdown",
   "metadata": {},
   "source": [
    "## Conclusion\n",
    "\n",
    "In this exercise, you have created a pipeline that can be used to produce a trading signal should you choose to. In a later lesson, you will learn a systematic method to measure the statistical significance of your signals, but for the next lesson, let's take a look at another way to include external data points into your pipeline, which will potentially help you gain an edge in finding good signals: Self-Serve Data."
   ]
  }
 ],
 "metadata": {
  "kernelspec": {
   "display_name": "Python 3.5",
   "language": "python",
   "name": "py35"
  },
  "language_info": {
   "codemirror_mode": {
    "name": "ipython",
    "version": 3
   },
   "file_extension": ".py",
   "mimetype": "text/x-python",
   "name": "python",
   "nbconvert_exporter": "python",
   "pygments_lexer": "ipython3",
   "version": "3.5.9"
  }
 },
 "nbformat": 4,
 "nbformat_minor": 4
}