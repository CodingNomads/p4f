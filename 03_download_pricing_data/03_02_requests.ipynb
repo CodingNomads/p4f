{
 "cells": [
  {
   "cell_type": "markdown",
   "metadata": {},
   "source": [
    "# Labs: Download Pricing Data from Quandl\n",
    "\n",
    "In this lab, you are going to:\n",
    "\n",
    "1. View a demonstration of data download using `quandl` module.\n",
    "2. Recreate the same functionalities by pulling data directly from a URL.\n",
    "\n",
    "By recreating this task, we hope to familiarize you with the process of downloading data via (most) APIs."
   ]
  },
  {
   "cell_type": "markdown",
   "metadata": {},
   "source": [
    "## 1. Importing Modules\n",
    "\n",
    "In a Jupyter notebook document, we usually include all the module importing routines and global settings in the first code cell. This code cell can then be run multiple times without changing the state of your notebook. In that way, if in later code cells you need to include or remove certain modules or settings, you may simply re-run this code cell without having to run subsequent cells.\n",
    "\n",
    "### Setting The Configuration\n",
    "\n",
    "Create a copy of `config.cfg.default` and rename it into `config.cfg`. Afterward, update the content to include your Quandl API key.\n",
    "\n",
    "**Why is this needed?**\n",
    "\n",
    "We do not want to put a sensitive data in our code that may be available publicly. A way to deal with this situation, therefore, is by keeping the code in a configuration file and then ignore it from our Git repository."
   ]
  },
  {
   "cell_type": "code",
   "execution_count": null,
   "metadata": {},
   "outputs": [],
   "source": [
    "# os module contains functions to work with local directories.\n",
    "import os\n",
    "import requests\n",
    "\n",
    "# For writing the data\n",
    "import csv\n",
    "\n",
    "import configparser\n",
    "import quandl\n",
    "\n",
    "# For presenting the data nicely\n",
    "from prettytable import PrettyTable\n",
    "\n",
    "config = configparser.ConfigParser()\n",
    "config.read('config.cfg')\n",
    "\n",
    "API_PATH = \"https://www.quandl.com/api/v3/datasets/EOD/{sym}?start_date={sd}&end_date={ed}&api_key={key}\"\n",
    "start_date = '2017-11-28'\n",
    "end_date = '2017-12-28'\n",
    "QUANDL_API_KEY = config['App']['QUANDL_API_KEY']\n",
    "\n",
    "# Stock symbol\n",
    "symbol = 'HD'\n",
    "\n",
    "# Path of the downloaded csv file. This code means the name will be `HD.csv`\n",
    "filepath = \"{}.csv\".format(symbol)"
   ]
  },
  {
   "cell_type": "markdown",
   "metadata": {},
   "source": [
    "## 2. Download Data via `quandl` Module\n",
    "\n",
    "First, let's try to download data directly using `quandl` module. This is the preferable method if you are working with Python for processing Quandl data."
   ]
  },
  {
   "cell_type": "code",
   "execution_count": null,
   "metadata": {},
   "outputs": [],
   "source": [
    "# Todo: Use quandl module to download data and store it in a pandas DataFrame object `df` \n",
    "#      (you will learn about pandas DataFrame in the next lesson).\n",
    "quandl.ApiConfig.api_key = ...\n",
    "df = ..."
   ]
  },
  {
   "cell_type": "code",
   "execution_count": null,
   "metadata": {},
   "outputs": [],
   "source": [
    "df"
   ]
  },
  {
   "cell_type": "markdown",
   "metadata": {},
   "source": [
    "In the above, you can directly see your dataset in a nicely formatted table.\n",
    "\n",
    "In the following section, you will perform the same operation by manually pulling the data via GET request to a URL.\n",
    "\n",
    "## 3. Download Data via URL\n",
    "\n",
    "The process has the following steps:\n",
    "1. prepare a URL from API_PATH. Replace the symbol, dates, and key with proper global settings we created in the first code cell above.\n",
    "2. Use `requests` module to get from that URL"
   ]
  },
  {
   "cell_type": "code",
   "execution_count": null,
   "metadata": {},
   "outputs": [],
   "source": [
    "# Todo: Pull data from the API url and present the data in a table.\n",
    "\n",
    "# Replace the variables in the API_PATH with above variables.\n",
    "url = API_PATH.format(...)\n",
    "\n",
    "# Create a response object by getting a URL.\n",
    "response = ...\n",
    "content = ...\n",
    "data = ...\n",
    "column_names = ..."
   ]
  },
  {
   "cell_type": "code",
   "execution_count": null,
   "metadata": {},
   "outputs": [],
   "source": [
    "# We use PrettyTable to nicely display the table:\n",
    "table = PrettyTable(column_names)\n",
    "for row in data:\n",
    "    table.add_row(row)\n",
    "print(table)"
   ]
  },
  {
   "cell_type": "markdown",
   "metadata": {},
   "source": [
    "## 4. Store The Data in a CSV File\n",
    "\n",
    "For the last step, you are going to store the data in a CSV file. This is so that you can reuse the data without network connection. As the analysis gets more complex, you will need to combine multiple data sources. It is therefore important to have the data stored locally somewhere for instant access."
   ]
  },
  {
   "cell_type": "code",
   "execution_count": null,
   "metadata": {},
   "outputs": [],
   "source": [
    "# Todo: Store in a CSV whose filename is in variable `filepath`.\n",
    "\n",
    "with open(filepath, 'w') as f:\n",
    "    writer = ...\n",
    "    writer.writerow(...) # Write the column names\n",
    "    writer.writerows(...) # Write the rows"
   ]
  },
  {
   "cell_type": "code",
   "execution_count": null,
   "metadata": {},
   "outputs": [],
   "source": [
    "# When the CSV file is correct, the following output should be the same with the output\n",
    "# of PrettyTable in section 3 above.\n",
    "\n",
    "saved_data = []\n",
    "with open(filepath, 'r') as f:\n",
    "    reader = csv.reader(f)\n",
    "    for row in reader:\n",
    "        saved_data.append(row)\n",
    "\n",
    "table = PrettyTable(saved_data[0])\n",
    "for row in saved_data[1:]:\n",
    "    table.add_row(row)\n",
    "print(table)"
   ]
  }
 ],
 "metadata": {
  "kernelspec": {
   "display_name": "Python 3",
   "language": "python",
   "name": "python3"
  },
  "language_info": {
   "codemirror_mode": {
    "name": "ipython",
    "version": 3
   },
   "file_extension": ".py",
   "mimetype": "text/x-python",
   "name": "python",
   "nbconvert_exporter": "python",
   "pygments_lexer": "ipython3",
   "version": "3.5.9"
  }
 },
 "nbformat": 4,
 "nbformat_minor": 4
}
