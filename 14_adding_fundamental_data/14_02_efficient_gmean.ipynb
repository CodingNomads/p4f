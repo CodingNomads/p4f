{
 "cells": [
  {
   "cell_type": "markdown",
   "metadata": {},
   "source": [
    "# Labs: Efficient GMean and GMeanChanges"
   ]
  },
  {
   "cell_type": "markdown",
   "metadata": {},
   "source": [
    "## 1. Imports"
   ]
  },
  {
   "cell_type": "code",
   "execution_count": 3,
   "metadata": {},
   "outputs": [],
   "source": [
    "import numpy as np\n",
    "import pandas as pd\n",
    "from scipy.stats import gmean\n",
    "from quantopian.pipeline.data.morningstar import Fundamentals\n",
    "from quantopian.pipeline.filters import StaticAssets, QTradableStocksUS\n",
    "from quantopian.pipeline.factors import CustomFactor\n",
    "from quantopian.pipeline import Pipeline\n",
    "from quantopian.research import run_pipeline\n",
    "\n",
    "# MEOH has no update starting from 2017-12-31, so it's great to include here.\n",
    "# universe = StaticAssets(symbols(['FB', 'MEOH', 'MCD', 'MAC']))\n",
    "\n",
    "# Single stock\n",
    "# universe = StaticAssets(symbols(['FB']))\n",
    "\n",
    "# The real test\n",
    "universe = QTradableStocksUS()\n",
    "\n",
    "mask = {'mask': universe}\n",
    "\n",
    "start_date = '2020-03-23'\n",
    "end_date = '2020-03-24'"
   ]
  },
  {
   "cell_type": "markdown",
   "metadata": {},
   "source": [
    "## 2. Functions"
   ]
  },
  {
   "cell_type": "code",
   "execution_count": 8,
   "metadata": {},
   "outputs": [
    {
     "data": {
      "text/plain": [
       "True"
      ]
     },
     "execution_count": 8,
     "metadata": {},
     "output_type": "execute_result"
    }
   ],
   "source": [
    "# Todo: Create a working get_periodical() function\n",
    "\n",
    "def get_periodical(asof_date, values, period_skip=4, num_periods=2):\n",
    "    \"\"\" Get unique values\n",
    "    Set period_skip to 1 for quarterly, 4 for yearly/annual.\n",
    "    \"\"\"\n",
    "    return values # No need to return the dates"
   ]
  },
  {
   "cell_type": "markdown",
   "metadata": {},
   "source": [
    "## 3. CustomFactors"
   ]
  },
  {
   "cell_type": "code",
   "execution_count": 9,
   "metadata": {},
   "outputs": [],
   "source": [
    "def get_changes(data, t=1):\n",
    "    data = pd.Series(data)\n",
    "    prev_data = data.shift(t)\n",
    "    return data/prev_data\n",
    "\n",
    "# Todo: Create GMean and GMeanChanges CustomFactors\n"
   ]
  },
  {
   "cell_type": "code",
   "execution_count": 10,
   "metadata": {},
   "outputs": [
    {
     "data": {
      "application/vnd.jupyter.widget-view+json": {
       "model_id": "",
       "version_major": 2,
       "version_minor": 0
      },
      "text/plain": []
     },
     "metadata": {},
     "output_type": "display_data"
    },
    {
     "name": "stderr",
     "output_type": "stream",
     "text": [
      "/venvs/py35/lib/python3.5/site-packages/numpy/lib/arraysetops.py:200: FutureWarning: In the future, NAT != NAT will be True rather than False.\n",
      "  flag = np.concatenate(([True], aux[1:] != aux[:-1]))\n",
      "/venvs/py35/lib/python3.5/site-packages/numpy/core/_methods.py:59: RuntimeWarning: Mean of empty slice.\n",
      "  warnings.warn(\"Mean of empty slice.\", RuntimeWarning)\n"
     ]
    },
    {
     "data": {
      "text/html": [
       "<b>Pipeline Execution Time:</b> 32.36 Seconds"
      ],
      "text/plain": [
       "<IPython.core.display.HTML object>"
      ]
     },
     "metadata": {},
     "output_type": "display_data"
    },
    {
     "data": {
      "text/html": [
       "<div>\n",
       "<table border=\"1\" class=\"dataframe\">\n",
       "  <thead>\n",
       "    <tr style=\"text-align: right;\">\n",
       "      <th></th>\n",
       "      <th></th>\n",
       "      <th>asof_date</th>\n",
       "      <th>gm_8yr</th>\n",
       "      <th>gm_growth_8yr</th>\n",
       "    </tr>\n",
       "  </thead>\n",
       "  <tbody>\n",
       "    <tr>\n",
       "      <th rowspan=\"10\" valign=\"top\">2020-03-23 00:00:00+00:00</th>\n",
       "      <th>Equity(2 [ARNC])</th>\n",
       "      <td>2019-12-31</td>\n",
       "      <td>0.192367</td>\n",
       "      <td>1.048445</td>\n",
       "    </tr>\n",
       "    <tr>\n",
       "      <th>Equity(24 [AAPL])</th>\n",
       "      <td>2019-12-31</td>\n",
       "      <td>0.387228</td>\n",
       "      <td>0.999133</td>\n",
       "    </tr>\n",
       "    <tr>\n",
       "      <th>Equity(41 [ARCB])</th>\n",
       "      <td>2019-12-31</td>\n",
       "      <td>NaN</td>\n",
       "      <td>NaN</td>\n",
       "    </tr>\n",
       "    <tr>\n",
       "      <th>Equity(52 [ABM])</th>\n",
       "      <td>2020-01-31</td>\n",
       "      <td>0.100725</td>\n",
       "      <td>1.020498</td>\n",
       "    </tr>\n",
       "    <tr>\n",
       "      <th>Equity(53 [ABMD])</th>\n",
       "      <td>2019-12-31</td>\n",
       "      <td>0.824567</td>\n",
       "      <td>1.005854</td>\n",
       "    </tr>\n",
       "    <tr>\n",
       "      <th>Equity(62 [ABT])</th>\n",
       "      <td>2019-12-31</td>\n",
       "      <td>0.554794</td>\n",
       "      <td>1.031920</td>\n",
       "    </tr>\n",
       "    <tr>\n",
       "      <th>Equity(64 [GOLD])</th>\n",
       "      <td>2019-09-30</td>\n",
       "      <td>0.333868</td>\n",
       "      <td>0.964688</td>\n",
       "    </tr>\n",
       "    <tr>\n",
       "      <th>Equity(67 [ADSK])</th>\n",
       "      <td>2020-01-31</td>\n",
       "      <td>0.873852</td>\n",
       "      <td>1.001721</td>\n",
       "    </tr>\n",
       "    <tr>\n",
       "      <th>Equity(76 [TAP])</th>\n",
       "      <td>2019-12-31</td>\n",
       "      <td>0.374520</td>\n",
       "      <td>1.009523</td>\n",
       "    </tr>\n",
       "    <tr>\n",
       "      <th>Equity(110 [RAMP])</th>\n",
       "      <td>2019-12-31</td>\n",
       "      <td>0.439466</td>\n",
       "      <td>1.156292</td>\n",
       "    </tr>\n",
       "  </tbody>\n",
       "</table>\n",
       "</div>"
      ],
      "text/plain": [
       "                                              asof_date    gm_8yr  \\\n",
       "2020-03-23 00:00:00+00:00 Equity(2 [ARNC])   2019-12-31  0.192367   \n",
       "                          Equity(24 [AAPL])  2019-12-31  0.387228   \n",
       "                          Equity(41 [ARCB])  2019-12-31       NaN   \n",
       "                          Equity(52 [ABM])   2020-01-31  0.100725   \n",
       "                          Equity(53 [ABMD])  2019-12-31  0.824567   \n",
       "                          Equity(62 [ABT])   2019-12-31  0.554794   \n",
       "                          Equity(64 [GOLD])  2019-09-30  0.333868   \n",
       "                          Equity(67 [ADSK])  2020-01-31  0.873852   \n",
       "                          Equity(76 [TAP])   2019-12-31  0.374520   \n",
       "                          Equity(110 [RAMP]) 2019-12-31  0.439466   \n",
       "\n",
       "                                              gm_growth_8yr  \n",
       "2020-03-23 00:00:00+00:00 Equity(2 [ARNC])         1.048445  \n",
       "                          Equity(24 [AAPL])        0.999133  \n",
       "                          Equity(41 [ARCB])             NaN  \n",
       "                          Equity(52 [ABM])         1.020498  \n",
       "                          Equity(53 [ABMD])        1.005854  \n",
       "                          Equity(62 [ABT])         1.031920  \n",
       "                          Equity(64 [GOLD])        0.964688  \n",
       "                          Equity(67 [ADSK])        1.001721  \n",
       "                          Equity(76 [TAP])         1.009523  \n",
       "                          Equity(110 [RAMP])       1.156292  "
      ]
     },
     "execution_count": 10,
     "metadata": {},
     "output_type": "execute_result"
    }
   ],
   "source": [
    "# Todo: Must return the same result with the Loop-by-Asset version\n",
    "\n",
    "def make_pipeline():\n",
    "    period_skip = 4\n",
    "    num_periods = 8\n",
    "    gm = GMean(\n",
    "        inputs=[Fundamentals.gross_margin_asof_date,\n",
    "                Fundamentals.gross_margin],\n",
    "        window_length=int((252/4*period_skip+1)*num_periods),\n",
    "        period_skip=period_skip,\n",
    "        num_periods=num_periods,\n",
    "        mask=universe\n",
    "    )\n",
    "    gm_growth = GMeanChanges(\n",
    "        inputs=[Fundamentals.gross_margin_asof_date,\n",
    "                Fundamentals.gross_margin],\n",
    "        window_length=int((252/4*period_skip+1)*num_periods),\n",
    "        period_skip=period_skip,\n",
    "        num_periods=num_periods,\n",
    "        mask=universe\n",
    "    ) \n",
    "    \n",
    "    return Pipeline(columns={'gm_8yr': gm,\n",
    "                             'gm_growth_8yr': gm_growth,\n",
    "                             'asof_date': Fundamentals.gross_margin_asof_date.latest},\n",
    "                    screen = universe)\n",
    "\n",
    "\n",
    "pipe = make_pipeline()\n",
    "mdf = run_pipeline(pipe, start_date, end_date).dropna(how='all')\n",
    "mdf.head(10)"
   ]
  }
 ],
 "metadata": {
  "kernelspec": {
   "display_name": "Python 3.5",
   "language": "python",
   "name": "py35"
  },
  "language_info": {
   "codemirror_mode": {
    "name": "ipython",
    "version": 3
   },
   "file_extension": ".py",
   "mimetype": "text/x-python",
   "name": "python",
   "nbconvert_exporter": "python",
   "pygments_lexer": "ipython3",
   "version": "3.5.9"
  }
 },
 "nbformat": 4,
 "nbformat_minor": 2
}
