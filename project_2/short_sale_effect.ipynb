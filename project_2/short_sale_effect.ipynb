{
 "cells": [
  {
   "cell_type": "markdown",
   "metadata": {},
   "source": [
    "# Project 2. Analyzing The Effect of Short Sale Volume to Stock Pricing\n",
    "\n",
    "In this project, we will analyze the correlations between short sale volume and stock pricing. Specifically, we'd like to answer the following questions:\n",
    "\n",
    "1. Does a large short sale volume warrant a higher return in the next 1, 5, 22, and 65 working days (1 day, 1 week, 1 month, and 3 months)?\n",
    "2. Are there certain sectors that are more sensitive to short interests?\n",
    "\n",
    "<div class=\"alert alert-info\">\n",
    "Welcome to Project 2 of the Python for Finance course! As in the previous project, update the code under the <code># Todo</code> comments in the code cells below, and run your cells until they yield the desired outputs.\n",
    "</div>\n",
    "\n",
    "## 1. Import Libraries and Setup Global Variables\n",
    "\n",
    "The code cell below can be run a few times whenever you need to include additional modules or update global variables."
   ]
  },
  {
   "cell_type": "code",
   "execution_count": null,
   "metadata": {},
   "outputs": [],
   "source": [
    "# Todo: Import the Self-Serve dataset into your environment and include it here.\n",
    "from quantopian.pipeline.data...\n",
    "\n",
    "# from quantopian.pipeline.filters import QTradableStocksUS\n",
    "\n",
    "from quantopian.pipeline.data import USEquityPricing\n",
    "from quantopian.pipeline import Pipeline\n",
    "from quantopian.research import run_pipeline\n",
    "from datetime import datetime\n",
    "from quantopian.pipeline.factors import CustomFactor, Returns\n",
    "from quantopian.pipeline.filters import Q500US\n",
    "from quantopian.pipeline.classifiers.morningstar import Sector\n",
    "\n",
    "import pandas as pd\n",
    "import matplotlib.pyplot as plt\n",
    "import seaborn as sns\n",
    "\n",
    "MORNINGSTAR_SECTOR_CODES = {\n",
    "     -1: 'Misc',\n",
    "    101: 'Basic Materials',\n",
    "    102: 'Consumer Cyclical',\n",
    "    103: 'Financial Services',\n",
    "    104: 'Real Estate',\n",
    "    205: 'Consumer Defensive',\n",
    "    206: 'Healthcare',\n",
    "    207: 'Utilities',\n",
    "    308: 'Communication Services',\n",
    "    309: 'Energy',\n",
    "    310: 'Industrials',\n",
    "    311: 'Technology' ,    \n",
    "}\n",
    "\n",
    "# When building the code, use short time range and a few tickers in your universe.\n",
    "# When the code is ready, re-run with a longer time range and all stocks.\n",
    "# Comment and uncomment the lines below as necessary.\n",
    "\n",
    "# Todo: Don't forget to switch from development settings to\n",
    "#       production settings after you have completed the project.\n",
    "\n",
    "# Development settings\n",
    "# start_date = datetime.strptime('04/01/2019', '%m/%d/%Y') + pd.tseries.offsets.BDay(65)\n",
    "# end_date = datetime.strptime('05/01/2019', '%m/%d/%Y') + pd.tseries.offsets.BDay(65)\n",
    "# def universe():\n",
    "#     return (Q500US()) & (short_interests.short_volume.latest.notnull())\n",
    "# mask = {'mask': universe()}\n",
    "\n",
    "# Production settings (warning, will take about 5 minutes for each run!)\n",
    "start_date = datetime.strptime('04/02/2013', '%m/%d/%Y') + pd.tseries.offsets.BDay(65)\n",
    "end_date = datetime.strptime('02/10/2020', '%m/%d/%Y')\n",
    "def universe():\n",
    "    return short_interests.short_volume.latest.notnull()\n",
    "mask = {'mask': universe()}"
   ]
  },
  {
   "cell_type": "markdown",
   "metadata": {},
   "source": [
    "## 2. Review the Dataset Columns\n",
    "\n",
    "Print out the columns in the short sale volume dataset."
   ]
  },
  {
   "cell_type": "code",
   "execution_count": null,
   "metadata": {},
   "outputs": [],
   "source": [
    "# Todo: Print out the columns of the short sale volume dataset.\n"
   ]
  },
  {
   "cell_type": "markdown",
   "metadata": {},
   "source": [
    "## 3. Build a Custom factor to get Short Interest Ratio\n",
    "On its own, short interest volume is not a very useful factor without a proper context. Let's say a stock has 10,000,000 short interests, is that a lot? A few? To figure this out, we need to know how many short interests are there compared to the total number of shares in circulation. Therefore, a ratio of `short_volume/total_volume` would be ideal."
   ]
  },
  {
   "cell_type": "code",
   "execution_count": null,
   "metadata": {},
   "outputs": [],
   "source": [
    "class ShortInterestRatio(CustomFactor):\n",
    "    # Todo: create a Factor that calculates the ratio of short interest and\n",
    "    #       total volume."
   ]
  },
  {
   "cell_type": "code",
   "execution_count": null,
   "metadata": {},
   "outputs": [],
   "source": [
    "# Debug by getting 1 day of data.\n",
    "def make_pipeline():\n",
    "    # Todo: Build and return a Pipeline object.\n",
    "    #       Don't forget to include proper mask and screen parameters.\n",
    "    \n",
    "si_pipe = ...\n",
    "si_mdf = run_pipeline(si_pipe, '04/02/2013', '04/02/2013')\n",
    "si_mdf"
   ]
  },
  {
   "cell_type": "markdown",
   "metadata": {},
   "source": [
    "## 4. Build a Pipeline that outputs Short Interest Ratio and Stock Returns\n",
    "\n",
    "When this is correct, the first value of `sir_d65` should be the same with the `sir` value above and the value of `sir_2d ` should be the same with the next day's `sir_today`."
   ]
  },
  {
   "cell_type": "code",
   "execution_count": null,
   "metadata": {},
   "outputs": [],
   "source": [
    "def make_pipeline():\n",
    "    # Todo: Get returns and short interest ratios with various window lengths as\n",
    "    #       asked in question 1.\n",
    "    u = ...\n",
    "    sector = ...\n",
    "    sir_today = ...\n",
    "    sir_d2 = ...\n",
    "    sir_d5 = ...\n",
    "    sir_d22 = ...\n",
    "    sir_d65 = ...\n",
    "    return_d2 = ...\n",
    "    return_d5 = ...\n",
    "    return_d22 = ...\n",
    "    return_d65 = ...\n",
    "    si_pipe = Pipeline(\n",
    "        columns={\n",
    "            'sector': ...,\n",
    "            'sir_today': ...,\n",
    "            'sir_d2': ...,\n",
    "            'sir_d5': ...,\n",
    "            'sir_d22': ...,\n",
    "            'sir_d65': ...,\n",
    "            'return_d2': ...,\n",
    "            'return_d5': ...,\n",
    "            'return_d22': ...,\n",
    "            'return_d65': ...\n",
    "        },\n",
    "        screen=u\n",
    "    )\n",
    "    return si_pipe\n",
    "si_pipe = ...\n",
    "si_mdf = ..."
   ]
  },
  {
   "cell_type": "markdown",
   "metadata": {},
   "source": [
    "**Sample output:**"
   ]
  },
  {
   "cell_type": "code",
   "execution_count": null,
   "metadata": {},
   "outputs": [],
   "source": [
    "si_mdf.head(5)"
   ]
  },
  {
   "cell_type": "markdown",
   "metadata": {},
   "source": [
    "**DataFrame info:**"
   ]
  },
  {
   "cell_type": "code",
   "execution_count": null,
   "metadata": {},
   "outputs": [],
   "source": [
    "si_mdf.info()"
   ]
  },
  {
   "cell_type": "markdown",
   "metadata": {},
   "source": [
    "**How many equities are there?**"
   ]
  },
  {
   "cell_type": "code",
   "execution_count": null,
   "metadata": {},
   "outputs": [],
   "source": [
    "len(si_mdf.index.get_level_values(1).unique())"
   ]
  },
  {
   "cell_type": "markdown",
   "metadata": {},
   "source": [
    "## 5. Sampling The Data\n",
    "\n",
    "Visualizing 7+ million rows of data is pointless, as most of the data points are going to be located around similar locations (remember the return distributions plot in the first project?). Therefore, we will take a sample of our data.\n",
    "\n",
    "Sampling needs to be done carefully so that no sector is over-represented:\n",
    "\n",
    "1. Firstly, make sure there is no missing data. Remove all rows that contain NaN values.\n",
    "2. We are going to sample 1000 records from each sector, so we end up with the same number of records for each sector."
   ]
  },
  {
   "cell_type": "code",
   "execution_count": null,
   "metadata": {},
   "outputs": [],
   "source": [
    "# Todo: Drop missing data from si_mdf \n",
    "si_sample_mdf = ...\n",
    "\n",
    "random_state = 1\n",
    "# Todo: Sample 1000 data from si_sample_mdf\n",
    "si_sample_mdf = ..."
   ]
  },
  {
   "cell_type": "code",
   "execution_count": null,
   "metadata": {},
   "outputs": [],
   "source": [
    "si_sample_mdf.head(5)"
   ]
  },
  {
   "cell_type": "code",
   "execution_count": null,
   "metadata": {},
   "outputs": [],
   "source": [
    "si_sample_mdf.info()"
   ]
  },
  {
   "cell_type": "markdown",
   "metadata": {},
   "source": [
    "<div class=\"alert alert-info\">When correct, you should see 12000 rows in the DataFrame.</div>"
   ]
  },
  {
   "cell_type": "code",
   "execution_count": null,
   "metadata": {},
   "outputs": [],
   "source": [
    "# Print out summary statistics\n",
    "si_sample_mdf.describe()"
   ]
  },
  {
   "cell_type": "markdown",
   "metadata": {},
   "source": [
    "## 6. Initial Visualization\n",
    "\n",
    "In the first step of our visualization step, we are just going to visualize all pairs of returns and short interest ratios. As shown in the summary statistics produced by the `describe()` function above, the data contain some far outliers for its returns. For instance, the `return_d2` has a median price (50% quantile) of 0 and a max price of 1.721973, despite the standard deviation of only 0.031926, which means this outlier is way farther from 2 standard deviations.\n",
    "\n",
    "However, it's still interesting to view an initial presentation of the data points, at least to give us a better picture on what we are dealing with.\n",
    "\n",
    "In the next code cell, create a facet grid of four regplots, one for each variable pair. When done, your facet grid should look like the following:\n",
    "\n",
    "![facet-regplots](https://platform.codingnomads.co/learn/pluginfile.php/6233/mod_page/content/3/facet-regplots.png)"
   ]
  },
  {
   "cell_type": "code",
   "execution_count": null,
   "metadata": {
    "scrolled": false
   },
   "outputs": [],
   "source": [
    "# Todo: Create a facet grid of regplots\n"
   ]
  },
  {
   "cell_type": "markdown",
   "metadata": {},
   "source": [
    "## 7. Convert sector codes to names\n",
    "\n",
    "Since we are going to group the data points by sectors, to make it easier to analyze, convert sector codes to sector names by looking up `MORNINGSTAR_SECTOR_CODES` variable above. You may use [pandas.DataFrame.replace](https://pandas.pydata.org/pandas-docs/stable/reference/api/pandas.DataFrame.replace.html) function for this."
   ]
  },
  {
   "cell_type": "code",
   "execution_count": null,
   "metadata": {
    "scrolled": false
   },
   "outputs": [],
   "source": [
    "# Todo: Create a column `sector_name` that stores the sector names.\n",
    "si_sample_mdf['sector_name'] = ...\n",
    "si_sample_mdf.head(5)"
   ]
  },
  {
   "cell_type": "markdown",
   "metadata": {},
   "source": [
    "## 8. Remove Outliers\n",
    "\n",
    "As seen from the visualization above, the outliers make it impossible to notice any trend in the data. Next, we are going to keep only the average returns. Now, there are different arguments to make about deciding what \"average\" is, but since the stock market returns is [not normally distributed](https://www.investopedia.com/terms/t/tailrisk.asp), we can't simply follow the [68–95–99.7 rule](https://en.wikipedia.org/wiki/68%E2%80%9395%E2%80%9399.7_rule) and just take between 32% to 68% quantile and assume the returns there are between 1 standard deviation from the mean.\n",
    "\n",
    "Therefore, let's take the liberty of keeping between 0.25 and 0.75 quantiles out of each returns. You will need to create four DataFrames here."
   ]
  },
  {
   "cell_type": "code",
   "execution_count": null,
   "metadata": {},
   "outputs": [],
   "source": [
    "# `df` is a quick-reference to si_sample_mdf, to shorten the code since\n",
    "# it needs to be referenced multiple times.\n",
    "df = si_sample_mdf\n",
    "\n",
    "# Todo: Create one DataFrame for each number of days.\n",
    "si_sample_d2_mdf = ...\n",
    "si_sample_d5_mdf = ...\n",
    "si_sample_d22_mdf = ...\n",
    "si_sample_d65_mdf = ...\n",
    "\n",
    "print(\"Size of d2 sample: {} rows\".format(len(si_sample_d2_mdf)))\n",
    "print(\"Size of d5 sample: {} rows\".format(len(si_sample_d5_mdf)))\n",
    "print(\"Size of d22 sample: {} rows\".format(len(si_sample_d22_mdf)))\n",
    "print(\"Size of d65 sample: {} rows\".format(len(si_sample_d65_mdf)))"
   ]
  },
  {
   "cell_type": "markdown",
   "metadata": {},
   "source": [
    "<div class=\"alert alert-info\">\n",
    "There should be 6000 rows for each of the DataFrames.\n",
    "</div>"
   ]
  },
  {
   "cell_type": "markdown",
   "metadata": {},
   "source": [
    "## 9. Visualize Multivariate Plots\n",
    "\n",
    "Before visualizing multivariate plots, we first choose a color palette to use. Some of the available palettes are documented [here](https://seaborn.pydata.org/tutorial/color_palettes.html)."
   ]
  },
  {
   "cell_type": "code",
   "execution_count": null,
   "metadata": {},
   "outputs": [],
   "source": [
    "# Todo: Choose a color plot.\n"
   ]
  },
  {
   "cell_type": "markdown",
   "metadata": {},
   "source": [
    "Now, you will create a facet grid of four Axes, with each Axes visualizes an independent dataframe. Your final plot should look similar to the following:\n",
    "\n",
    "![facet-lmplots](https://platform.codingnomads.co/learn/pluginfile.php/6233/mod_page/content/3/facet-lmplots.png)\n",
    "\n",
    "Note that it does not need to be a 100% exact copy. The result is acceptable so long as it contains all the information."
   ]
  },
  {
   "cell_type": "code",
   "execution_count": null,
   "metadata": {},
   "outputs": [],
   "source": [
    "# Todo: \n",
    "def draw_plot(x, y, hue, data, ax, pal, legend=False):\n",
    "    pass\n",
    "\n",
    "fig = plt.figure(figsize=(10, 10))\n",
    "..."
   ]
  },
  {
   "cell_type": "code",
   "execution_count": null,
   "metadata": {},
   "outputs": [],
   "source": [
    "# Bonus Todo: If you'd like to see the larger version of the visualization,\n",
    "# run this code cell. Replace the '...' with the appropriate values.\n",
    "\n",
    "facet = sns.lmplot(..., palette=pal, size=7, aspect=1)\n",
    "facet.set(axis_bgcolor='grey');"
   ]
  },
  {
   "cell_type": "markdown",
   "metadata": {},
   "source": [
    "## 10. Conclusion and Future Work\n",
    "\n",
    "As we have seen from the above visualizations, for the 2-day data, short interests had the most positive positive correlation with stock returns in the Technology sector. as we moved towards a longer timeframe, however, this trend is replaced by the stocks in the Utilities sector.\n",
    "\n",
    "In other words, for stocks in the Technology industry, the visualization suggests that a high number of short interests correlates with a higher return in the next day, but we see a reversal of the trend in the next three months.\n",
    "\n",
    "This information might be useful for deciding whether to use short interest data to decide on which industry's stocks to go long and short with.\n",
    "\n",
    "For future work, it might be interesting to see how the correlation changes in different periods. In addition to sector-based grouping, you may add time-based grouping e.g. according to business or political cycles."
   ]
  }
 ],
 "metadata": {
  "kernelspec": {
   "display_name": "Python 3.5",
   "language": "python",
   "name": "py35"
  },
  "language_info": {
   "codemirror_mode": {
    "name": "ipython",
    "version": 3
   },
   "file_extension": ".py",
   "mimetype": "text/x-python",
   "name": "python",
   "nbconvert_exporter": "python",
   "pygments_lexer": "ipython3",
   "version": "3.5.9"
  }
 },
 "nbformat": 4,
 "nbformat_minor": 2
}
