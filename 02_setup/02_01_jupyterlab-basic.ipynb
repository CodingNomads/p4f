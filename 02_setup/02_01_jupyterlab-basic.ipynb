{
 "cells": [
  {
   "cell_type": "markdown",
   "metadata": {},
   "source": [
    "Complete descriptions of elements in JupyterLab interface is available in [the documentation](https://jupyterlab.readthedocs.io/en/stable/user/interface.html). In this notebook, I'd like to add a couple of concepts and techniques that will improve your productivity when working with JupyterLab.\n",
    "\n",
    "## Cells\n",
    "\n",
    "There are three types of cells in Jupyter lab:\n",
    "\n",
    "- Code cells\n",
    "- Markdown cells\n",
    "- Raw block\n",
    "\n",
    "This here is an example of a Markdown block. It allows you to write in Markdown syntax, and when you run it, it will be translated into a nice-looking HTML content. List of supported syntax is available here: [Markdown Cheat Sheet](https://www.markdownguide.org/cheat-sheet/).\n",
    "\n",
    "\n",
    "## Editing Modes\n",
    "\n",
    "There are two types of modes in Jupyter Lab: *Edit mode* and *Command mode*. Knowing the distinction between these two allows you to work fully with keyboard, for faster operations.\n",
    "\n",
    "*Edit mode* commences when you click on a cell. It is indicated by the blue border around the editor area:\n",
    "\n",
    "![edit mode](media/edit_mode.png)\n",
    "\n",
    "When a cell is in edit mode, you can type into the cell, like a normal text editor.\n",
    "\n",
    "Enter edit mode by pressing `Enter` or using the mouse to click on a cell's editor area.\n",
    "\n",
    "*Command mode* is indicated by a blue left margin:\n",
    "\n",
    "![command mode](media/command_mode.png)\n",
    "\n",
    "When you are in command mode, you are able to edit the notebook as a whole, but not type into individual cells. Most importantly, in command mode, the keyboard is mapped to a set of shortcuts that let you perform notebook and cell actions efficiently. For example, if you are in command mode and you press `C`, you will copy the current cell - no modifier is needed.\n",
    "\n",
    "Don't try to type into a cell in command mode; unexpected things will happen!\n",
    "\n",
    "Enter command mode by pressing `Esc` or using the mouse to click outside a cell’s editor area.\n",
    "\n",
    "## Tools\n",
    "\n",
    "At the top of the page you should see the tools available for notebook-creation:\n",
    "\n",
    "![tools](media/tools.png)\n",
    "\n",
    "From the left:\n",
    "\n",
    "1. **Save.** Save this document. Shortcut: `CTRL + S`\n",
    "2. **Add.** Insert a cell. Shortcut: Command mode > `A`\n",
    "3. **Cut.** Cut a cell. Shortcut: Command mode > `X`\n",
    "4. **Copy.** Copy a cell. Shortcut: Command mode > `C`\n",
    "5. **Paste.** Paste cell from clipboard. Shortcut: Command mode > `P`\n",
    "6. **Run selected cell and advance.** Shortcut: `SHIFT + ENTER`. To run without advancing, the shortcut is `CTRL + ENTER`.\n",
    "7. **Interrupt Kernel.** Force stop the running of a cell.\n",
    "8. **Restart Kernel.** Restarting the kernel will flush all used memory for this kernel.\n",
    "9. **Change cell type.** Shortcuts: In command mode:\n",
    "  - `Y` for Code cell\n",
    "  - `M` for Markdown cell\n",
    "  - `R` for Raw cell\n",
    "\n",
    "## Other Keyboard Shortcuts in Command Mode\n",
    "\n",
    "The complete list of commands is available from the palette icon menu on the left sidebar. Some of the shortcuts I often use (remember to switch to *Command mode* to enable them):\n",
    "\n",
    "- `Z`: Undo cell operation. Useful for when I accidentally deleted a cell.\n",
    "- `DD`: Pressing the `D` button twice will delete a cell.\n",
    "- `Up` and `Down`: Navigate between the cells.\n",
    "- `A`: Insert cell above.\n",
    "- `B`: Insert cell below. I more often use `SHIFT + ENTER` when adding at the end of the document."
   ]
  },
  {
   "cell_type": "markdown",
   "metadata": {},
   "source": [
    "## Code Cell"
   ]
  },
  {
   "cell_type": "code",
   "execution_count": 1,
   "metadata": {},
   "outputs": [
    {
     "data": {
      "text/plain": [
       "2"
      ]
     },
     "execution_count": 1,
     "metadata": {},
     "output_type": "execute_result"
    }
   ],
   "source": [
    "# This is a code cell. We may run Python code in this cell.\n",
    "x = 1\n",
    "\n",
    "# Calling a variable directly or running an operation without assignment\n",
    "# would print its result as a cell output:\n",
    "x + 1"
   ]
  },
  {
   "cell_type": "markdown",
   "metadata": {},
   "source": [
    "## Benchmark cell execution time\n",
    "\n",
    "Sometimes it is useful to know how long it takes to run a cell. For that, we can use magic commands of either [cell magic](https://ipython.readthedocs.io/en/stable/interactive/magics.html#cell-magics) `%%timeit` or [line magic](https://ipython.readthedocs.io/en/stable/interactive/magics.html#line-magics) `%timeit`:"
   ]
  },
  {
   "cell_type": "code",
   "execution_count": 2,
   "metadata": {},
   "outputs": [
    {
     "name": "stdout",
     "output_type": "stream",
     "text": [
      "1.13 s ± 20.8 ms per loop (mean ± std. dev. of 7 runs, 1 loop each)\n"
     ]
    }
   ],
   "source": [
    "%%timeit\n",
    "\n",
    "import math\n",
    "loops = 2500000\n",
    "a = range(1, loops)\n",
    "def f(x):\n",
    "    return 3 * math.log(x) + math.cos(x) ** 2\n",
    "r = [f(x) for x in a]"
   ]
  },
  {
   "cell_type": "code",
   "execution_count": 3,
   "metadata": {},
   "outputs": [
    {
     "name": "stdout",
     "output_type": "stream",
     "text": [
      "1.19 s ± 28.8 ms per loop (mean ± std. dev. of 7 runs, 1 loop each)\n"
     ]
    }
   ],
   "source": [
    "import math\n",
    "loops = 2500000\n",
    "a = range(1, loops)\n",
    "def f(x):\n",
    "    return 3 * math.log(x) + math.cos(x) ** 2\n",
    "%timeit r = [f(x) for x in a]"
   ]
  }
 ],
 "metadata": {
  "kernelspec": {
   "display_name": "Python 3",
   "language": "python",
   "name": "python3"
  },
  "language_info": {
   "codemirror_mode": {
    "name": "ipython",
    "version": 3
   },
   "file_extension": ".py",
   "mimetype": "text/x-python",
   "name": "python",
   "nbconvert_exporter": "python",
   "pygments_lexer": "ipython3",
   "version": "3.5.9"
  }
 },
 "nbformat": 4,
 "nbformat_minor": 4
}
